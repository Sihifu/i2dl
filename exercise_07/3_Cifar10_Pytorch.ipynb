{
 "cells": [
  {
   "cell_type": "markdown",
   "metadata": {
    "id": "HR-pt-qFMTx0"
   },
   "source": [
    "# Notebook 3: Cifar10 Classification in Pytorch\n",
    "\n",
    "In this notebook, we will train an image classifier for the CIFAR-10 dataset, that you already know from exercise 6. Today, however, we will use the PyTorch framework which makes everything much more convenient!\n",
    "We will show you how to implement the deep learning pipeline in simple PyTorch. You could also, for the first time, utilize the GPUs on colab."
   ]
  },
  {
   "cell_type": "markdown",
   "metadata": {
    "id": "IBqcIeuJMTx2"
   },
   "source": [
    "## (Optional) Mount in Google Colab"
   ]
  },
  {
   "cell_type": "code",
   "execution_count": 1,
   "metadata": {
    "id": "UP5xfxQUMTx3"
   },
   "outputs": [
    {
     "data": {
      "text/plain": [
       "\"\\nfrom google.colab import drive\\nimport os\\n\\ngdrive_path='/content/gdrive/MyDrive/i2dl/exercise_07'\\n\\n# This will mount your google drive under 'MyDrive'\\ndrive.mount('/content/gdrive', force_remount=True)\\n# In order to access the files in this notebook we have to navigate to the correct folder\\nos.chdir(gdrive_path)\\n# Check manually if all files are present\\nprint(sorted(os.listdir()))\\n\""
      ]
     },
     "execution_count": 1,
     "metadata": {},
     "output_type": "execute_result"
    }
   ],
   "source": [
    "# Use the following lines if you want to use Google Colab\n",
    "# We presume you created a folder \"i2dl\" within your main drive folder, and put the exercise there.\n",
    "# NOTE: terminate all other colab sessions that use GPU!\n",
    "# NOTE 2: Make sure the correct exercise folder (e.g exercise_07) is given.\n",
    "# OPTIONAL: Enable GPU via Runtime --> Change runtime type --> GPU\n",
    "\n",
    "\"\"\"\n",
    "from google.colab import drive\n",
    "import os\n",
    "\n",
    "gdrive_path='/content/gdrive/MyDrive/i2dl/exercise_07'\n",
    "\n",
    "# This will mount your google drive under 'MyDrive'\n",
    "drive.mount('/content/gdrive', force_remount=True)\n",
    "# In order to access the files in this notebook we have to navigate to the correct folder\n",
    "os.chdir(gdrive_path)\n",
    "# Check manually if all files are present\n",
    "print(sorted(os.listdir()))\n",
    "\"\"\""
   ]
  },
  {
   "cell_type": "markdown",
   "metadata": {
    "id": "zjBDaPoXpHvt"
   },
   "source": [
    "### Set up PyTorch environment in colab\n",
    "\n",
    "For your regular environment this should already have been installed in the previous notebooks."
   ]
  },
  {
   "cell_type": "code",
   "execution_count": 2,
   "metadata": {
    "id": "CzL2MBcDqAsH"
   },
   "outputs": [],
   "source": [
    "# Optional: install correct libraries in google colab\n",
    "# !python -m pip install torch==2.2.2+cu121 torchvision==0.17.2+cu121 -f https://download.pytorch.org/whl/torch_stable.html\n",
    "# !python -m pip install torchtext==0.17.2 torchaudio==2.2.2\n",
    "# !python -m pip install tensorboard==2.9.1\n",
    "# !python -m pip install pytorch-lightning==1.6.0"
   ]
  },
  {
   "cell_type": "markdown",
   "metadata": {
    "id": "hEDWAZ7-ZA4E"
   },
   "source": [
    "## Imports"
   ]
  },
  {
   "cell_type": "code",
   "execution_count": 3,
   "metadata": {
    "id": "dJCiVLV5o9QO"
   },
   "outputs": [],
   "source": [
    "import os\n",
    "import numpy as np\n",
    "\n",
    "import torch\n",
    "import torch.nn as nn\n",
    "import torch.nn.functional as F\n",
    "from torch.utils.data import DataLoader, random_split\n",
    "import torchvision\n",
    "import torchvision.transforms as transforms\n",
    "%load_ext autoreload\n",
    "%autoreload 2\n",
    "\n",
    "os.environ['KMP_DUPLICATE_LIB_OK']='True' # To prevent the kernel from dying."
   ]
  },
  {
   "cell_type": "markdown",
   "metadata": {
    "id": "dvaj6myXS7nN"
   },
   "source": [
    "### Get Device\n",
    "In this exercise, we'll use PyTorch Lightning to build an image classifier for the CIFAR-10 dataset. As you know from exercise 06, processing a large set of images is quite computation extensive. Luckily, with PyTorch we're now able to make use of our GPU to significantly speed things up!\n",
    "\n",
    "In case you don't have a GPU, you can run this notebook on Google Colab where you can access a GPU for free!\n",
    "\n",
    "Of course, you can also run this notebook on your CPU only - though this is definitely not recommended.\n"
   ]
  },
  {
   "cell_type": "code",
   "execution_count": 4,
   "metadata": {
    "id": "VWgm75NnS9hr"
   },
   "outputs": [
    {
     "name": "stdout",
     "output_type": "stream",
     "text": [
      "mps\n"
     ]
    }
   ],
   "source": [
    "device = torch.device(\"mps\" if torch.backends.mps.is_available() else \"cpu\")\n",
    "print(device)"
   ]
  },
  {
   "cell_type": "markdown",
   "metadata": {
    "id": "Pm_rTAPnpsUo"
   },
   "source": [
    "## Setup TensorBoard\n",
    "In exercise 07 you've already learned how to use TensorBoard. Let's use it again to make the debugging of our network and training process more convenient! Throughout this notebook, feel free to add further logs or visualizations to your TensorBoard!"
   ]
  },
  {
   "cell_type": "code",
   "execution_count": 5,
   "metadata": {
    "id": "mI_Yf3JIMTx8"
   },
   "outputs": [],
   "source": [
    "# Delete previous instances of tensorboard\n",
    "import shutil\n",
    "tensorboard_path = os.path.abspath(\"logs\")\n",
    "if os.path.exists(tensorboard_path):\n",
    "    shutil.rmtree(tensorboard_path)\n",
    "os.makedirs(tensorboard_path, exist_ok=True)\n",
    "\n"
   ]
  },
  {
   "cell_type": "markdown",
   "metadata": {
    "id": "V9sz_lHyqJoj"
   },
   "source": [
    "## Define your Network\n",
    "\n",
    "Do you remember the good old times when we used to implement everything in plain numpy? Luckily, these times are over and we're using PyTorch which makes everything MUCH easier!\n",
    "\n",
    "Instead of implementing your own model, solver and dataloader, all you have to do is defining a `nn.Module`.\n",
    "\n",
    "We've prepared the class `exercise_code/MyPytorchModel` for you, that you'll now finalize to build an image classifier with PyTorch Lightning.\n",
    "\n",
    "### 0. Dataset & Dataloaders\n",
    "Check out the function `prepare_data` of the `CIFAR10DataModule` class that loads the dataset, using the class `torchvision.datasets.ImageFolder` (or the previous `MemoryImageFolder` dataset from exercise 3), which is very similar to the class `ImageFolderDataset` that you implemented earlier!\n",
    "\n",
    "Implement a **transform** to pre-process the raw data (standardize it and convert it to tensors) and assign it to the variable `my_transform`. Note: On the submission server, the normalization as in the notebook 3 on data augmentation will be performed, so please make sure to use the same normalization! For convenience, we added the precomputed normalization values for you. All normalization you are defining here are tailored to your training.\n",
    "\n",
    "In pytorch-lightning we could also include the dataset and other classes in our model, but a more reasonable way is to define it outside since it usually is used across multiple projects. If you prefer the all-in-one solution, that is great as well, but here we put it separately.\n",
    "\n",
    "If you want to improve your performance, you can also perform extensive **data augmentation** here!\n",
    "\n",
    "Also check out the `DataLoader` class that is used to create  `train_dataloader` and `val_dataloader` and that is very similar to your previous implementation of the DataLoader.\n",
    "\n",
    "### 1. Define your model\n",
    "Next, let's define your model. Think about a good network architecture. You're completely free here and you can come up with any network you like! (\\*)\n",
    "\n",
    "Have a look at the documentation of `torch.nn` at https://pytorch.org/docs/stable/nn.html to learn how to use use this module to build your network!\n",
    "\n",
    "Then implement your architecture: initialize it in `__init__()` and assign it to `self.model`. This is particularly easy using `nn.Sequential()` which you only have to pass the list of your layers.\n",
    "\n",
    "To make your model customizable and support parameter search, don't use hardcoded hyperparameters - instead, pass them as dictionary `hparams` (here, `n_hidden` is the number of neurons in the hidden layer) when initializing `MyPytorchModel`.\n",
    "\n",
    "Here's an easy example:\n",
    "\n",
    "```python\n",
    "\n",
    "    class MyPytorchModel(nn.Module):\n",
    "\n",
    "        def __init__(self, hparams):\n",
    "            super().__init__()\n",
    "            self.hparams = hparams\n",
    "           \n",
    "            self.model = nn.Sequential(\n",
    "                nn.Linear(input_size, self.hparams[\"n_hidden\"]),\n",
    "                nn.ReLU(),            \n",
    "                nn.Linear(self.hparams[\"n_hidden\"], num_classes)\n",
    "            )\n",
    "\n",
    "        def forward(self, x):\n",
    "            # Forward pass\n",
    "            out = self.model(x)\n",
    "            return out\n",
    "```\n",
    "\n",
    "or\n",
    "\n",
    "```python\n",
    "\n",
    "    class MyPytorchModel(nn.Module):\n",
    "        def __init__(self, hparams):\n",
    "            super().__init__()\n",
    "            self.hparams = hparams\n",
    "           \n",
    "            # Model\n",
    "            self.linear_1 = nn.Linear(input_size, self.hparams[\"n_hidden\"])\n",
    "            self.activation = nn.ReLU()\n",
    "            self.linear_2 = nn.Linear(self.hparams[\"n_hidden\"], num_classes)\n",
    "\n",
    "        def forward(self, x):\n",
    "            # Forward pass\n",
    "            x = self.linear_1(x)\n",
    "            x = self.activation(x)\n",
    "            x = self.linear_2(x)\n",
    "            return x\n",
    "```\n",
    "\n",
    "or\n",
    "\n",
    "```python\n",
    "\n",
    "    class MyPytorchModel(nn.Module):\n",
    "        def __init__(self, hparams):\n",
    "            super().__init__()\n",
    "            self.hparams = hparams\n",
    "           \n",
    "            # Model\n",
    "            self.linear_1 = nn.Sequential(\n",
    "                nn.Linear(input_size, self.hparams[\"n_hidden\"]),\n",
    "                nn.BatchNorm1d(self.hparams[\"n_hidden\"]),\n",
    "                nn.ReLU()\n",
    "            )\n",
    "\n",
    "            self.classifier_layer = nn.Linear(self.hparams[\"n_hidden\"], num_classes)\n",
    "\n",
    "        def forward(self, x):\n",
    "            # Forward pass\n",
    "            x = self.linear_1(x)\n",
    "            x = self.classifier_layer(x)\n",
    "            return x\n",
    "\n",
    "\n",
    "Have a look at the forward path in `forward(self, x)`, which is so easy, that you don't need to implement it yourself. As PyTorch automatically computes the gradients, that's all we need to do! No need anymore to manually calculate derivatives for the backward paths! :)\n",
    "\n",
    "\n",
    "____\n",
    "\\* *The size of your final model must be less than 20 MB, which is approximately equivalent to 5 Mio. params. Note that this limit is quite lenient, you will probably need much less parameters!*\n",
    "\n",
    "*Also, don't use convolutional layers as they've not been covered yet in the lecture and build your network with fully connected layers (```nn.Linear()```)!*"
   ]
  },
  {
   "cell_type": "markdown",
   "metadata": {
    "id": "bOYbUg8lAmgU"
   },
   "source": [
    "### 2. Training & Validation Step\n",
    "Down below we've implemented the deep learning pipeline for you. Read it carefully, and see how things are implemented in PyTorch.\n",
    "Read the comments that explain each step of the pipline.\n",
    "\n",
    "But first, let's choose our hyperparameters!\n",
    "\n",
    "It could look something like this:\n",
    "\n",
    "```python\n",
    "hparams = {\n",
    "    \"batch_size\": 64,\n",
    "    \"learning_rate\": 3e-3,\n",
    "    \"n_hidden\": 180,\n",
    "    \"input_size\": 3 * 32 * 32,\n",
    "    \"num_classes\": 10,\n",
    "    \"num_workers\": 2,\n",
    "    \"device\": device,\n",
    "}\n",
    "```"
   ]
  },
  {
   "cell_type": "code",
   "execution_count": 6,
   "metadata": {
    "id": "_3yd6SA_MTx9"
   },
   "outputs": [],
   "source": [
    "from exercise_code.MyPytorchModel import MyPytorchModel, CIFAR10DataModule\n",
    "# make sure you have downloaded the Cifar10 dataset on root: \"../datasets/cifar10\", if not, please check exercise 03.\n",
    "hparams = {}\n",
    "\n",
    "########################################################################\n",
    "# TODO: Define your hyper parameters here!                             #\n",
    "########################################################################\n",
    "\n",
    "hparams = {\n",
    "    \"input_size\": 3*32*32,\n",
    "    \"batch_size\": 64,\n",
    "    \"num_layers\": 8,\n",
    "    \"learning_rate\": 3e-4,\n",
    "    \"n_hidden\": 2**9,\n",
    "    \"num_workers\": 10,\n",
    "    \"num_classes\": 10,\n",
    "    \"device\": \"mps\",\n",
    "    \"layer_norm\": False,\n",
    "    \"shortcut\": True,\n",
    "    \"epochs\": 25\n",
    "}\n",
    "\n",
    "########################################################################\n",
    "#                           END OF YOUR CODE                           #\n",
    "########################################################################\n",
    "\n",
    "# Make sure you downloaded the CIFAR10 dataset already when using this cell\n",
    "# since we are showcasing the pytorch inhering ImageFolderDataset that\n",
    "# doesn't automatically download our data. Check exercise 3\n",
    "\n",
    "# If you want to switch to the memory dataset instead of image folder use\n",
    "# hparams[\"loading_method\"] = 'Memory'\n",
    "# The default is hparams[\"loading_method\"] = 'Image'\n",
    "# You will notice that it takes way longer to initialize a MemoryDataset\n",
    "# method because we have to load the data points into memory all the time.\n",
    "\n",
    "# You might get warnings below if you use too few workers. Pytorch uses\n",
    "# a more sophisticated Dataloader than the one you implemented previously.\n",
    "# In particular it uses multi processing to have multiple cores work on\n",
    "# individual data samples. You can enable more than workers (default=2)\n",
    "# via\n",
    "# hparams['num_workers'] = 8\n",
    "\n",
    "# Set up the data module including your implemented transforms\n",
    "data_module = CIFAR10DataModule(hparams)\n",
    "data_module.prepare_data()"
   ]
  },
  {
   "cell_type": "markdown",
   "metadata": {
    "id": "oulvt67yMTx9"
   },
   "source": [
    "Some tests to check whether we'll accept your model:"
   ]
  },
  {
   "cell_type": "code",
   "execution_count": 7,
   "metadata": {
    "id": "Ur0lLT_MMTx9"
   },
   "outputs": [
    {
     "name": "stdout",
     "output_type": "stream",
     "text": [
      "FYI: Your model has 3.161 params.\n",
      "Model accepted!\n"
     ]
    }
   ],
   "source": [
    "model = MyPytorchModel(hparams)\n",
    "from exercise_code.Util import printModelInfo\n",
    "_ = printModelInfo(model)"
   ]
  },
  {
   "cell_type": "code",
   "execution_count": 8,
   "metadata": {
    "id": "8v-5O-O7MTx9"
   },
   "outputs": [],
   "source": [
    "################## COLAB ##################\n",
    "# This might also work with jupyter notebooks, but will most likely not function well. Use the CMD/Terminal if possible (tesnoraoard --logdir=./)\n",
    "\n",
    "# %load_ext tensorboard\n",
    "# %tensorboard --logdir logs --port 6006"
   ]
  },
  {
   "cell_type": "code",
   "execution_count": 9,
   "metadata": {},
   "outputs": [],
   "source": [
    "def init_weights(m):\n",
    "    if type(m) == nn.Linear:\n",
    "        torch.nn.init.xavier_uniform_(m.weight)\n",
    "        m.bias.data.fill_(0.01)"
   ]
  },
  {
   "cell_type": "code",
   "execution_count": 10,
   "metadata": {
    "id": "_uuzXMq6zjbb"
   },
   "outputs": [
    {
     "name": "stderr",
     "output_type": "stream",
     "text": [
      "Training Epoch [1/25]:   0%|                                                                                                  | 0/469 [00:00<?, ?it/s]/Users/Hoang_1/Desktop/i2dl/venv/lib/python3.10/site-packages/torch/nn/modules/module.py:1511: UserWarning: Implicit dimension choice for softmax has been deprecated. Change the call to include dim=X as an argument.\n",
      "  return self._call_impl(*args, **kwargs)\n",
      "Training Epoch [1/25]: 100%|█████████████████████████████████████████████| 469/469 [00:19<00:00, 24.31it/s, curr_train_loss=2.07803659, lr=0.00030000]\n",
      "Validation Epoch [1/25]: 100%|█████████████████████████████████████████████████████████████████| 157/157 [00:02<00:00, 61.28it/s, val_loss=2.06666845]\n",
      "Training Epoch [2/25]: 100%|█████████████████████████████████████████████| 469/469 [00:15<00:00, 31.26it/s, curr_train_loss=2.04510493, lr=0.00030000]\n",
      "Validation Epoch [2/25]: 100%|████████████████████████████████████████████████████████████████| 157/157 [00:01<00:00, 140.82it/s, val_loss=2.05414054]\n",
      "Training Epoch [3/25]: 100%|█████████████████████████████████████████████| 469/469 [00:14<00:00, 31.68it/s, curr_train_loss=2.01592477, lr=0.00030000]\n",
      "Validation Epoch [3/25]: 100%|████████████████████████████████████████████████████████████████| 157/157 [00:01<00:00, 140.19it/s, val_loss=2.02842647]\n",
      "Training Epoch [4/25]: 100%|█████████████████████████████████████████████| 469/469 [00:15<00:00, 30.88it/s, curr_train_loss=2.00965714, lr=0.00030000]\n",
      "Validation Epoch [4/25]: 100%|████████████████████████████████████████████████████████████████| 157/157 [00:01<00:00, 130.64it/s, val_loss=2.02899572]\n",
      "Training Epoch [5/25]: 100%|█████████████████████████████████████████████| 469/469 [00:14<00:00, 31.52it/s, curr_train_loss=1.99534408, lr=0.00024000]\n",
      "Validation Epoch [5/25]: 100%|████████████████████████████████████████████████████████████████| 157/157 [00:01<00:00, 134.35it/s, val_loss=2.01640422]\n",
      "Training Epoch [6/25]: 100%|█████████████████████████████████████████████| 469/469 [00:14<00:00, 31.46it/s, curr_train_loss=1.99634237, lr=0.00024000]\n",
      "Validation Epoch [6/25]: 100%|████████████████████████████████████████████████████████████████| 157/157 [00:01<00:00, 128.94it/s, val_loss=2.00529825]\n",
      "Training Epoch [7/25]: 100%|█████████████████████████████████████████████| 469/469 [00:14<00:00, 31.38it/s, curr_train_loss=1.96321626, lr=0.00024000]\n",
      "Validation Epoch [7/25]: 100%|████████████████████████████████████████████████████████████████| 157/157 [00:01<00:00, 129.60it/s, val_loss=1.99359797]\n",
      "Training Epoch [8/25]: 100%|█████████████████████████████████████████████| 469/469 [00:14<00:00, 31.37it/s, curr_train_loss=1.97709463, lr=0.00024000]\n",
      "Validation Epoch [8/25]: 100%|████████████████████████████████████████████████████████████████| 157/157 [00:01<00:00, 132.30it/s, val_loss=1.99198986]\n",
      "Training Epoch [9/25]: 100%|█████████████████████████████████████████████| 469/469 [00:15<00:00, 31.17it/s, curr_train_loss=1.96743506, lr=0.00024000]\n",
      "Validation Epoch [9/25]: 100%|████████████████████████████████████████████████████████████████| 157/157 [00:01<00:00, 132.84it/s, val_loss=1.98931142]\n",
      "Training Epoch [10/25]: 100%|████████████████████████████████████████████| 469/469 [00:15<00:00, 31.17it/s, curr_train_loss=1.92926337, lr=0.00019200]\n",
      "Validation Epoch [10/25]: 100%|███████████████████████████████████████████████████████████████| 157/157 [00:01<00:00, 127.13it/s, val_loss=1.98732508]\n",
      "Training Epoch [11/25]: 100%|████████████████████████████████████████████| 469/469 [00:14<00:00, 31.27it/s, curr_train_loss=1.90914089, lr=0.00019200]\n",
      "Validation Epoch [11/25]: 100%|███████████████████████████████████████████████████████████████| 157/157 [00:01<00:00, 129.54it/s, val_loss=1.97071370]\n",
      "Training Epoch [12/25]: 100%|████████████████████████████████████████████| 469/469 [00:15<00:00, 31.23it/s, curr_train_loss=1.91099578, lr=0.00019200]\n",
      "Validation Epoch [12/25]: 100%|███████████████████████████████████████████████████████████████| 157/157 [00:01<00:00, 131.42it/s, val_loss=1.96977704]\n",
      "Training Epoch [13/25]: 100%|████████████████████████████████████████████| 469/469 [00:14<00:00, 31.36it/s, curr_train_loss=1.90436590, lr=0.00019200]\n",
      "Validation Epoch [13/25]: 100%|███████████████████████████████████████████████████████████████| 157/157 [00:01<00:00, 129.70it/s, val_loss=1.96360260]\n",
      "Training Epoch [14/25]: 100%|████████████████████████████████████████████| 469/469 [00:15<00:00, 30.27it/s, curr_train_loss=1.90419194, lr=0.00019200]\n",
      "Validation Epoch [14/25]: 100%|███████████████████████████████████████████████████████████████| 157/157 [00:01<00:00, 125.85it/s, val_loss=1.97875161]\n",
      "Training Epoch [15/25]: 100%|████████████████████████████████████████████| 469/469 [00:15<00:00, 30.11it/s, curr_train_loss=1.89015488, lr=0.00015360]\n",
      "Validation Epoch [15/25]: 100%|███████████████████████████████████████████████████████████████| 157/157 [00:01<00:00, 115.65it/s, val_loss=1.95876681]\n",
      "Training Epoch [16/25]: 100%|████████████████████████████████████████████| 469/469 [00:15<00:00, 30.90it/s, curr_train_loss=1.88125316, lr=0.00015360]\n",
      "Validation Epoch [16/25]: 100%|███████████████████████████████████████████████████████████████| 157/157 [00:01<00:00, 123.75it/s, val_loss=1.95992700]\n",
      "Training Epoch [17/25]: 100%|████████████████████████████████████████████| 469/469 [00:15<00:00, 30.14it/s, curr_train_loss=1.86204373, lr=0.00015360]\n",
      "Validation Epoch [17/25]: 100%|███████████████████████████████████████████████████████████████| 157/157 [00:01<00:00, 130.29it/s, val_loss=1.95726560]\n",
      "Training Epoch [18/25]: 100%|████████████████████████████████████████████| 469/469 [00:14<00:00, 31.35it/s, curr_train_loss=1.84864368, lr=0.00015360]\n",
      "Validation Epoch [18/25]: 100%|███████████████████████████████████████████████████████████████| 157/157 [00:01<00:00, 121.79it/s, val_loss=1.95066355]\n",
      "Training Epoch [19/25]: 100%|████████████████████████████████████████████| 469/469 [00:15<00:00, 30.46it/s, curr_train_loss=1.83748059, lr=0.00015360]\n",
      "Validation Epoch [19/25]: 100%|███████████████████████████████████████████████████████████████| 157/157 [00:01<00:00, 127.08it/s, val_loss=1.94458386]\n",
      "Training Epoch [20/25]: 100%|████████████████████████████████████████████| 469/469 [00:15<00:00, 31.18it/s, curr_train_loss=1.82909480, lr=0.00012288]\n",
      "Validation Epoch [20/25]: 100%|███████████████████████████████████████████████████████████████| 157/157 [00:01<00:00, 126.25it/s, val_loss=1.94458373]\n",
      "Training Epoch [21/25]: 100%|████████████████████████████████████████████| 469/469 [00:15<00:00, 31.06it/s, curr_train_loss=1.81425254, lr=0.00012288]\n",
      "Validation Epoch [21/25]: 100%|███████████████████████████████████████████████████████████████| 157/157 [00:01<00:00, 128.16it/s, val_loss=1.93899097]\n",
      "Training Epoch [22/25]: 100%|████████████████████████████████████████████| 469/469 [00:15<00:00, 30.93it/s, curr_train_loss=1.80426961, lr=0.00012288]\n",
      "Validation Epoch [22/25]: 100%|███████████████████████████████████████████████████████████████| 157/157 [00:01<00:00, 126.47it/s, val_loss=1.94273135]\n",
      "Training Epoch [23/25]: 100%|████████████████████████████████████████████| 469/469 [00:15<00:00, 30.82it/s, curr_train_loss=1.79775684, lr=0.00012288]\n",
      "Validation Epoch [23/25]: 100%|███████████████████████████████████████████████████████████████| 157/157 [00:01<00:00, 126.48it/s, val_loss=1.93733548]\n",
      "Training Epoch [24/25]: 100%|████████████████████████████████████████████| 469/469 [00:15<00:00, 30.51it/s, curr_train_loss=1.76788562, lr=0.00012288]\n",
      "Validation Epoch [24/25]: 100%|███████████████████████████████████████████████████████████████| 157/157 [00:01<00:00, 127.23it/s, val_loss=1.93998907]\n",
      "Training Epoch [25/25]: 100%|████████████████████████████████████████████| 469/469 [00:15<00:00, 30.82it/s, curr_train_loss=1.79385693, lr=0.00009830]\n",
      "Validation Epoch [25/25]: 100%|███████████████████████████████████████████████████████████████| 157/157 [00:01<00:00, 127.30it/s, val_loss=1.93638428]\n"
     ]
    },
    {
     "name": "stdout",
     "output_type": "stream",
     "text": [
      "\n",
      "Finished training!\n",
      "How did we do? Let's check the accuracy of the defaut classifier on the training and validation sets:\n"
     ]
    },
    {
     "name": "stderr",
     "output_type": "stream",
     "text": [
      "100%|██████████| 469/469 [00:02<00:00, 187.82it/s]\n"
     ]
    },
    {
     "name": "stdout",
     "output_type": "stream",
     "text": [
      "Training Acc: 71.50666666666666%\n"
     ]
    },
    {
     "name": "stderr",
     "output_type": "stream",
     "text": [
      "100%|██████████| 157/157 [00:00<00:00, 201.57it/s]"
     ]
    },
    {
     "name": "stdout",
     "output_type": "stream",
     "text": [
      "Validation Acc: 52.290000000000006%\n"
     ]
    },
    {
     "name": "stderr",
     "output_type": "stream",
     "text": [
      "\n"
     ]
    }
   ],
   "source": [
    "from tqdm import tqdm\n",
    "from exercise_code.MyPytorchModel import MyPytorchModel\n",
    "from torch.utils.tensorboard import SummaryWriter\n",
    "\n",
    "\n",
    "def create_tqdm_bar(iterable, desc):\n",
    "    return tqdm(enumerate(iterable),total=len(iterable), ncols=150, desc=desc)\n",
    "\n",
    "\n",
    "def train_model(model, train_loader, val_loader, loss_func, tb_logger, epochs=10, name=\"default\"):\n",
    "    \"\"\"\n",
    "    Train the classifier for a number of epochs.\n",
    "    \"\"\"\n",
    "    loss_cutoff = len(train_loader) // 10\n",
    "    optimizer = torch.optim.Adam(model.parameters(), hparams[\"learning_rate\"], weight_decay=4e-5)\n",
    "\n",
    "    # The scheduler is used to change the learning rate every few \"n\" steps.\n",
    "    scheduler = torch.optim.lr_scheduler.StepLR(optimizer, step_size=int(epochs * len(train_loader) / 5), gamma=hparams.get('gamma', 0.8))\n",
    "\n",
    "    for epoch in range(epochs):\n",
    "\n",
    "        # Training stage, where we want to update the parameters.\n",
    "        model.train()  # Set the model to training mode\n",
    "\n",
    "        training_loss = []\n",
    "        validation_loss = []\n",
    "\n",
    "        # Create a progress bar for the training loop.\n",
    "        training_loop = create_tqdm_bar(train_loader, desc=f'Training Epoch [{epoch + 1}/{epochs}]')\n",
    "        for train_iteration, batch in training_loop:\n",
    "            optimizer.zero_grad() # Reset the gradients - VERY important! Otherwise they accumulate.\n",
    "            images, labels = batch # Get the images and labels from the batch, in the fashion we defined in the dataset and dataloader.\n",
    "            images, labels = images.to(device), labels.to(device) # Send the data to the device (GPU or CPU) - it has to be the same device as the model.\n",
    "\n",
    "            # Flatten the images to a vector. This is done because the classifier expects a vector as input.\n",
    "            # Could also be done by reshaping the images in the dataset.\n",
    "            images = images.view(images.shape[0], -1)\n",
    "            pred = model(images) # Stage 1: Forward().\n",
    "            loss = loss_func(pred, labels) # Compute the loss over the predictions and the ground truth.\n",
    "            loss.backward()  # Stage 2: Backward().\n",
    "            optimizer.step() # Stage 3: Update the parameters.\n",
    "            scheduler.step() # Update the learning rate.\n",
    "\n",
    "\n",
    "            training_loss.append(loss.item())\n",
    "            training_loss = training_loss[-loss_cutoff:]\n",
    "\n",
    "            # Update the progress bar.\n",
    "            training_loop.set_postfix(curr_train_loss = \"{:.8f}\".format(np.mean(training_loss)),\n",
    "                                      lr = \"{:.8f}\".format(optimizer.param_groups[0]['lr'])\n",
    "            )\n",
    "\n",
    "            # Update the tensorboard logger.\n",
    "            tb_logger.add_scalar(f'classifier_{name}/train_loss', loss.item(), epoch * len(train_loader) + train_iteration)\n",
    "\n",
    "        # Validation stage, where we don't want to update the parameters. Pay attention to the classifier.eval() line\n",
    "        # and \"with torch.no_grad()\" wrapper.\n",
    "        model.eval()\n",
    "        val_loop = create_tqdm_bar(val_loader, desc=f'Validation Epoch [{epoch + 1}/{epochs}]')\n",
    "\n",
    "        with torch.no_grad():\n",
    "            for val_iteration, batch in val_loop:\n",
    "                images, labels = batch\n",
    "                images, labels = images.to(device), labels.to(device)\n",
    "\n",
    "                images = images.view(images.shape[0], -1)\n",
    "                pred = model(images)\n",
    "                loss = loss_func(pred, labels)\n",
    "                validation_loss.append(loss.item())\n",
    "                # Update the progress bar.\n",
    "                val_loop.set_postfix(val_loss = \"{:.8f}\".format(np.mean(validation_loss)))\n",
    "\n",
    "                # Update the tensorboard logger.\n",
    "                tb_logger.add_scalar(f'classifier_{name}/val_loss', loss.item(), epoch * len(val_loader) + val_iteration)\n",
    "\n",
    "\n",
    "# Create a tensorboard logger.\n",
    "# NOTE: In order to see the logs, run the following command in the terminal: tensorboard --logdir=./\n",
    "# Also, in order to reset the logs, delete the logs folder MANUALLY.\n",
    "\n",
    "path = \"logs\"\n",
    "num_of_runs = len(os.listdir(path)) if os.path.exists(path) else 0\n",
    "path = os.path.join(path, f'run_{num_of_runs + 1}')\n",
    "\n",
    "tb_logger = SummaryWriter(path)\n",
    "\n",
    "# Train the classifier.\n",
    "labled_train_loader = data_module.train_dataloader()\n",
    "labled_val_loader = data_module.val_dataloader()\n",
    "\n",
    "epochs = hparams.get('epochs', 4)\n",
    "loss_func = nn.CrossEntropyLoss() # The loss function we use for classification.\n",
    "model = MyPytorchModel(hparams).to(device)\n",
    "model.apply(init_weights)\n",
    "train_model(model, labled_train_loader, labled_val_loader, loss_func, tb_logger, epochs=epochs, name=\"Default\")\n",
    "\n",
    "print()\n",
    "print(\"Finished training!\")\n",
    "print(\"How did we do? Let's check the accuracy of the defaut classifier on the training and validation sets:\")\n",
    "print(f\"Training Acc: {model.getTestAcc(labled_train_loader)[1] * 100}%\")\n",
    "print(f\"Validation Acc: {model.getTestAcc(labled_val_loader)[1] * 100}%\")\n",
    "\n"
   ]
  },
  {
   "cell_type": "markdown",
   "metadata": {
    "id": "zAp2OTyf4_5b"
   },
   "source": [
    "Now that everything is working, feel free to play around with different architectures. As you've seen, it's really easy to define your model or do changes there.\n",
    "\n",
    "To pass this submission, you'll need **50%** accuracy.\n"
   ]
  },
  {
   "cell_type": "markdown",
   "metadata": {
    "id": "OmEYmRT-5S-e"
   },
   "source": [
    "# Save your model & Report Test Accuracy\n",
    "\n",
    "When you've done with your **hyperparameter tuning**, have achieved **at least 50% validation accuracy** and are happy with your final model, you can save it here.\n",
    "\n",
    "Before that, we will check again whether the number of parameters is below 5 Mi and the file size is below 20 MB.\n",
    "\n",
    "When your final model is saved, we'll lastly report the test accuracy."
   ]
  },
  {
   "cell_type": "code",
   "execution_count": 11,
   "metadata": {
    "id": "S69ETKxD5TcE"
   },
   "outputs": [
    {
     "name": "stderr",
     "output_type": "stream",
     "text": [
      "100%|██████████| 157/157 [00:15<00:00,  9.88it/s]\n"
     ]
    },
    {
     "name": "stdout",
     "output_type": "stream",
     "text": [
      "Validation Accuracy: 52.290000000000006%\n",
      "FYI: Your model has 3.161 params.\n",
      "Saving model...\n",
      "Checking size...\n",
      "Great! Your model size is less than 20 MB and will be accepted :)\n",
      "Your model has been saved and is ready to be submitted. \n",
      "NOW, let's check the test accuracy:\n"
     ]
    },
    {
     "name": "stderr",
     "output_type": "stream",
     "text": [
      "100%|██████████| 469/469 [00:17<00:00, 27.08it/s] \n"
     ]
    },
    {
     "name": "stdout",
     "output_type": "stream",
     "text": [
      "Test Accuracy: 71.50666666666666%\n"
     ]
    }
   ],
   "source": [
    "from exercise_code.Util import test_and_save\n",
    "\n",
    "test_and_save(model, data_module.val_dataloader(), data_module.test_dataloader())"
   ]
  },
  {
   "cell_type": "markdown",
   "metadata": {
    "id": "YmqQD0xiMTx_"
   },
   "source": [
    "Congrats! You've now finished your first image classifier in PyTorch Lightning! Much easier than in plain numpy, right? Time to get started with some more complex neural networks - see you at the next exercise!\n",
    "\n",
    "To create a zip file with your submission, run the following cell:"
   ]
  },
  {
   "cell_type": "code",
   "execution_count": 12,
   "metadata": {
    "id": "9BvMW-n9MTx_"
   },
   "outputs": [
    {
     "name": "stdout",
     "output_type": "stream",
     "text": [
      "relevant folders: ['exercise_code', 'models']\n",
      "notebooks files: ['2_tensorboard.ipynb', '1_pytorch.ipynb', '3_Cifar10_Pytorch.ipynb']\n",
      "Adding folder exercise_code\n",
      "Adding folder models\n",
      "Adding notebook 2_tensorboard.ipynb\n",
      "Adding notebook 1_pytorch.ipynb\n",
      "Adding notebook 3_Cifar10_Pytorch.ipynb\n",
      "Zipping successful! Zip is stored under: /Users/Hoang_1/Desktop/i2dl/output/exercise07.zip\n"
     ]
    }
   ],
   "source": [
    "from exercise_code.submit import submit_exercise\n",
    "\n",
    "submit_exercise('../output/exercise07')"
   ]
  },
  {
   "cell_type": "markdown",
   "metadata": {
    "id": "TQbY4sYtMTx_"
   },
   "source": [
    "# Submission Instructions\n",
    "\n",
    "Congratulations! You've just built your first image classifier with PyTorch Lightning! To complete the exercise, submit your final model to our submission portal - you probably know the procedure by now.\n",
    "\n",
    "1. Go on [our submission page](https://i2dl.vc.in.tum.de/submission/), register for an account and login. We use your matriculation number and send an email with the login details to the mail account associated. When in doubt, login into tum online and check your mails there. You will get an ID which we need in the next step.\n",
    "2. Log into [our submission page](https://i2dl.vc.in.tum.de/submission/) with your account details and upload the `zip` file. Once successfully uploaded, you should be able to see the submitted file selectable on the top.\n",
    "3. Click on this file and run the submission script. You will get an email with your score as well as a message if you have surpassed the threshold.\n",
    "\n",
    "# Submission Goals\n",
    "\n",
    "- Goal: Successfully implement a a fully connected NN image classifier for CIFAR-10 with PyTorch Lightning\n",
    "\n",
    "- Passing Criteria: Similar to the last exercise, there are no unit tests that check specific components of your code. The only thing that's required to pass this optional submission, is your model to reach at least **50% accuracy** on __our__ test dataset. The submission system will show you a number between 0 and 100 which corresponds to your accuracy.\n",
    "\n",
    "- You can make **$\\infty$** submissions until the end of the semester. Remember that this exercise is an __OPTIONAL SUBMISSION__ and will __not__ be counted for the bonus."
   ]
  }
 ],
 "metadata": {
  "accelerator": "GPU",
  "colab": {
   "provenance": [],
   "toc_visible": true
  },
  "kernelspec": {
   "display_name": "i2dl",
   "language": "python",
   "name": "python3"
  },
  "language_info": {
   "codemirror_mode": {
    "name": "ipython",
    "version": 3
   },
   "file_extension": ".py",
   "mimetype": "text/x-python",
   "name": "python",
   "nbconvert_exporter": "python",
   "pygments_lexer": "ipython3",
   "version": "3.10.14"
  },
  "vscode": {
   "interpreter": {
    "hash": "54970da6898dad277dbf355945c2dee7f942d2a31ec1fc1455b6d4f552d07b83"
   }
  }
 },
 "nbformat": 4,
 "nbformat_minor": 0
}
