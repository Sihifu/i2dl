{
 "cells": [
  {
   "cell_type": "markdown",
   "metadata": {
    "id": "g6vUCiE_N5eU"
   },
   "source": [
    "# Cifar10 Classification"
   ]
  },
  {
   "cell_type": "markdown",
   "metadata": {
    "id": "X9ridWdTN5eY"
   },
   "source": [
    "Until now, we have implemented several pieces of a deep learning pipeline and trained a two-layer neural network, but all hyperparameters were pre-set to values yielding resonable results. However, in real problems a large part of the work will be geared towards finding the best hyperparameter settings for a certain problem. In this notebook we will explore some good practices for network debugging and hyperparameters search, as well as extending our binary classification neural network to a multi-class one.\n",
    "\n",
    "Let's go!\n",
    "\n",
    "**Note 1**: This exercise is quite heavy with computations. We recommend using Google-Colab.\n",
    "\n",
    "**Note 2**: This exercise take time, so start early!!"
   ]
  },
  {
   "cell_type": "markdown",
   "metadata": {
    "id": "4sTNILP7OCzb"
   },
   "source": [
    "## (Optional) Mount folder in Colab\n",
    "\n",
    "Uncomment the following cell to mount your gdrive if you are using the notebook in google colab:"
   ]
  },
  {
   "cell_type": "code",
   "execution_count": 1,
   "metadata": {
    "colab": {
     "base_uri": "https://localhost:8080/"
    },
    "executionInfo": {
     "elapsed": 35664,
     "status": "ok",
     "timestamp": 1650011700447,
     "user": {
      "displayName": "Weber Anna",
      "userId": "18154618360144454414"
     },
     "user_tz": -120
    },
    "id": "PoG-5okpOPht",
    "outputId": "a670ffa3-ee59-4ef5-e323-3f3fec373486"
   },
   "outputs": [
    {
     "data": {
      "text/plain": [
       "\"\\nfrom google.colab import drive\\nimport os\\n\\ngdrive_path='/content/gdrive/MyDrive/i2dl/exercise_06'\\n\\n# This will mount your google drive under 'MyDrive'\\ndrive.mount('/content/gdrive', force_remount=True)\\n# In order to access the files in this notebook we have to navigate to the correct folder\\nos.chdir(gdrive_path)\\n# Check manually if all files are present\\nprint(sorted(os.listdir()))\\n\""
      ]
     },
     "execution_count": 1,
     "metadata": {},
     "output_type": "execute_result"
    }
   ],
   "source": [
    "\"\"\"\n",
    "from google.colab import drive\n",
    "import os\n",
    "\n",
    "gdrive_path='/content/gdrive/MyDrive/i2dl/exercise_06'\n",
    "\n",
    "# This will mount your google drive under 'MyDrive'\n",
    "drive.mount('/content/gdrive', force_remount=True)\n",
    "# In order to access the files in this notebook we have to navigate to the correct folder\n",
    "os.chdir(gdrive_path)\n",
    "# Check manually if all files are present\n",
    "print(sorted(os.listdir()))\n",
    "\"\"\""
   ]
  },
  {
   "cell_type": "code",
   "execution_count": 2,
   "metadata": {
    "id": "JZmN1ATIN5eY"
   },
   "outputs": [],
   "source": [
    "# Some lengthy setup.\n",
    "import matplotlib.pyplot as plt\n",
    "import numpy as np\n",
    "import os\n",
    "import urllib.request\n",
    "\n",
    "from exercise_code.networks.layer import (\n",
    "    Sigmoid, \n",
    "    Relu, \n",
    "    LeakyRelu, \n",
    "    Tanh,\n",
    "    Gelu\n",
    ")\n",
    "from exercise_code.data import (\n",
    "    DataLoader,\n",
    "    ImageFolderDataset,\n",
    "    MemoryImageFolderDataset,\n",
    "    RescaleTransform,\n",
    "    NormalizeTransform,\n",
    "    FlattenTransform,\n",
    "    ComposeTransform,\n",
    ")\n",
    "from exercise_code.data.image_folder_dataset import RandomHorizontalFlip\n",
    "from exercise_code.networks import (\n",
    "    ClassificationNet,\n",
    "    BCE,\n",
    "    CrossEntropyFromLogits\n",
    ")\n",
    "\n",
    "%load_ext autoreload\n",
    "%autoreload 2\n",
    "%matplotlib inline\n",
    "\n",
    "plt.rcParams['figure.figsize'] = (10.0, 8.0) # set default size of plots\n",
    "plt.rcParams['image.interpolation'] = 'nearest'\n",
    "plt.rcParams['image.cmap'] = 'gray'\n",
    "os.environ['KMP_DUPLICATE_LIB_OK']='True' # To prevent the kernel from dying."
   ]
  },
  {
   "cell_type": "markdown",
   "metadata": {
    "id": "tRdaBwnMN5ea"
   },
   "source": [
    "# 1. Quick recap (and some new things)"
   ]
  },
  {
   "cell_type": "markdown",
   "metadata": {
    "id": "zsNrBTkyN5eb"
   },
   "source": [
    "Until now, in the previous exercises, we focused on building and understanding all the necessary modules for training a simple model. We followed the Pytorch implementations closely, as this is the framework we will use later and we wanted you to have a smoother transition to its APIs. \n",
    "\n",
    "In the figure below you can see the main components in Pytorch. Let's start with a quick recap of **our implementation** of these components. \n",
    "\n",
    "<div class=\"alert alert-success\">\n",
    "    <h3>Task: Check Code</h3>\n",
    "    <p>Everything is already implemented for this part, but we <b>strongly</b> encourage you to check  the respective source files in order to have a better understanding. </p>\n",
    "</div>"
   ]
  },
  {
   "cell_type": "markdown",
   "metadata": {
    "id": "reTr9-VRN5ec"
   },
   "source": [
    "<img src=\"https://cdn-images-1.medium.com/max/800/1*uZrS4KjAuSJQIJPgOiaJUg.png\" style=\"width: 500px;\">"
   ]
  },
  {
   "cell_type": "markdown",
   "metadata": {
    "id": "4fZoL6hvN5ec"
   },
   "source": [
    "## 1.1 Dataset and Dataloader"
   ]
  },
  {
   "cell_type": "markdown",
   "metadata": {
    "id": "jvv1QqmJN5ed"
   },
   "source": [
    "Data preparation is an important part of deep learning projects. Because the data can come in different formats and from different sources, it must be prepared in a certain way, which depends on the application. One part, however, is uniform: since an entire dataset is usually too large to handle at once, we train our models on smaller batches of data. \n",
    "\n",
    "The goal of the ```Dataset``` class is to encapsulate all the 'dirty' data processing: loading and cleaning the data, storing features (or names of files where features can be found) and labels, as well as providing the means for accessing individual (transformed) items of the data using the ```__getitem__()``` function and an index. You already implemented an ```ImageFolderDataset``` (in ```exercise_code/data/image_folder_dataset.py```) class in Exercise 3. We we will reuse this class here.\n",
    "\n",
    "For processing the data, you implemented several transforms in Exercise 3 (```RescaleTransform```, ```NormalizeTransform```, ```ComposeTransform```). In this exercise we are working with images, which are multidimensional arrays, but we are using a simple feedforward neural network which takes an one dimensional array as an input, so it is necessary to reshape the images before feeding them into the model. \n",
    "\n",
    "<div class=\"alert alert-success\">\n",
    "    <h3>Task: Check Code</h3>\n",
    "    <p>Please check the implementation of the reshape operation in the <code>FlattenTransform</code> class, which can be found in <code>../exercise_06/exercise_code/data/image_folder_dataset.py</code>. </p>\n",
    "</div>"
   ]
  },
  {
   "cell_type": "code",
   "execution_count": 3,
   "metadata": {},
   "outputs": [],
   "source": [
    "download_url = \"https://i2dl.vc.in.tum.de/static/data/cifar10.zip\"\n",
    "i2dl_exercises_path = os.path.dirname(os.path.abspath(os.getcwd()))\n",
    "cifar_root = os.path.join(i2dl_exercises_path, \"datasets\", \"cifar10\")"
   ]
  },
  {
   "cell_type": "markdown",
   "metadata": {},
   "source": [
    "## The usual memory vs local data warning\n",
    "If you are using google colab or store your files on a local HDD, iterating over dataset takes quite some time and blablabla. You know the drill by now ;).\n",
    "\n",
    "<div class=\"alert alert-danger\">\n",
    "    <h3>Warning</h3>\n",
    "    <p>Loading the whole dataset into memory will not work if you are using a machine with 4GB of RAM or less (depending on your other programs such as memory hungry web browsers). Consider closing some open programs or simply use the local on-demand ImageFolderDataset.</p>\n",
    "    <p>In addition we want to warn you that everytime you execute a cell like \"dataset2 = MemoryImageFolderDataset...\" you are loading a 1.2GB matrix into your memory. If you do this often enough this notebook will crash on every machine. Therefore, we make sure to always use a single variable \"dataset\" which will be overwritten by future cells to avoid straining your memory too much.</p>\n",
    "</div>"
   ]
  },
  {
   "cell_type": "code",
   "execution_count": 4,
   "metadata": {},
   "outputs": [],
   "source": [
    "# Choose your preferred dataset here\n",
    "\n",
    "# DATASET = ImageFolderDataset\n",
    "DATASET = MemoryImageFolderDataset"
   ]
  },
  {
   "cell_type": "markdown",
   "metadata": {},
   "source": [
    "Now that that is taken care of, back to the actual loading."
   ]
  },
  {
   "cell_type": "code",
   "execution_count": 5,
   "metadata": {
    "id": "2fHY8xTPN5ee"
   },
   "outputs": [],
   "source": [
    "# Use the Cifar10 mean and standard deviation computed in Exercise 3.\n",
    "cifar_mean = np.array([0.49191375, 0.48235852, 0.44673872])\n",
    "cifar_std  = np.array([0.24706447, 0.24346213, 0.26147554])\n",
    "\n",
    "# Define all the transforms we will apply on the images when \n",
    "# retrieving them.\n",
    "rescale_transform = RescaleTransform()\n",
    "normalize_transform = NormalizeTransform(\n",
    "    mean=cifar_mean,\n",
    "    std=cifar_std\n",
    ")\n",
    "flatten_transform = FlattenTransform()\n",
    "compose_transform = ComposeTransform([rescale_transform, \n",
    "                                      normalize_transform,\n",
    "                                      flatten_transform])\n",
    "\n",
    "# Create a train, validation and test dataset.\n",
    "datasets = {}\n",
    "for mode in ['train', 'val', 'test']:\n",
    "    crt_dataset = DATASET(\n",
    "        mode=mode,\n",
    "        root=cifar_root, \n",
    "        transform=compose_transform,\n",
    "        split={'train': 0.6, 'val': 0.2, 'test': 0.2}\n",
    "    )\n",
    "    datasets[mode] = crt_dataset"
   ]
  },
  {
   "cell_type": "markdown",
   "metadata": {
    "id": "FsR4dM2kN5ee"
   },
   "source": [
    "Then, based on this ```Dataset``` object, we can construct a ```Dataloader``` object which samples a random mini-batch of data at once. "
   ]
  },
  {
   "cell_type": "code",
   "execution_count": 6,
   "metadata": {
    "id": "3t4Xj_n3N5ef"
   },
   "outputs": [],
   "source": [
    "# Create a dataloader for each split.\n",
    "dataloaders = {}\n",
    "for mode in ['train', 'val', 'test']:\n",
    "    crt_dataloader = DataLoader(\n",
    "        dataset=datasets[mode],\n",
    "        batch_size=256,\n",
    "        shuffle=True,\n",
    "        drop_last=True,\n",
    "    )\n",
    "    dataloaders[mode] = crt_dataloader"
   ]
  },
  {
   "cell_type": "markdown",
   "metadata": {
    "id": "CpruSFLkN5ef"
   },
   "source": [
    "Because the ```Dataloader``` has the ```__iter__()``` method, we can simply iterate through the batches it produces, like this:\n",
    "\n",
    "```python\n",
    "for batch in dataloader['train']:\n",
    "    do_something(batch)\n",
    "```"
   ]
  },
  {
   "cell_type": "markdown",
   "metadata": {
    "id": "L81EGyslN5eg"
   },
   "source": [
    "## 1.2 Data Augmentation\n",
    "\n",
    "After the preprocessing steps, our data is in a good shape and ready to be fed into our network. As explained in the chapter above, we used the transformation functions `RescaleTransform`, `NormalizeTransform` and `FlattenTransform` to achieve this shape. These are the general steps that you need to perform on the data before you can start training. Of course, all these steps have to be applied to our three dataset splits (train, val and test split). In other words, preprocessing involves preparing the data before is can be used for training and inference. \n",
    "\n",
    "Besides these basic transformations, there are many other transformation methods that you can apply to the images. For example, you can <b>flip the images horizontally</b> or <b>blur the images</b> and use these new images to enlarge the dataset. This idea is called Data Augmentation and it involves methods that alter the training images to generate a synthetic dataset that is larger than your original dataset. This will hopefully improve the performance of your model. There is one important difference between data augmentation and data preprocessing: The transformation methods used to enlarge your dataset should only be applied to the training data. The validation and test data should not be affected by these methods.\n",
    "\n",
    "<div class=\"alert alert-success\">\n",
    "    <h3>Task: Check Code</h3>\n",
    "    <p>The choice of transformation methods for data augmentation can be seen as a hyperparameter of your model. You can try to include these to enlarge your training data and obtain better results for your model. In <code>exercise_code/data/image_folder_dataset.py</code> we implemented the function <code>RandomHorizontalFlip</code> for you, which is randomly flipping an image horizontally. Check out the implementation.</p>\n",
    "    <p> Later, we will perform hyperparameter tuning. In order to improve your model's performance, you can include some other data augmentation methods. Feel free to play around and to implement other methods as for example Gaussian Blur or Rotation. </p>       \n",
    "</div>\n",
    "\n",
    "Let us quickly check the `RandomHorizontalFlip` method with an image of the Cifar10 dataset in the following cell."
   ]
  },
  {
   "cell_type": "code",
   "execution_count": 7,
   "metadata": {
    "colab": {
     "base_uri": "https://localhost:8080/",
     "height": 98
    },
    "executionInfo": {
     "elapsed": 962,
     "status": "ok",
     "timestamp": 1650011739465,
     "user": {
      "displayName": "Weber Anna",
      "userId": "18154618360144454414"
     },
     "user_tz": -120
    },
    "id": "3BEjmTGHN5eg",
    "outputId": "a6adee5b-1dd4-436c-e811-952f4ae12e5f"
   },
   "outputs": [
    {
     "data": {
      "image/png": "[encoded data removed]",
      "text/plain": [
       "<Figure size 200x200 with 2 Axes>"
      ]
     },
     "metadata": {},
     "output_type": "display_data"
    }
   ],
   "source": [
    "#Load the data in a dataset without any transformation \n",
    "dataset = DATASET(\n",
    "        mode=mode,\n",
    "        root=cifar_root, \n",
    "        download_url=download_url,\n",
    "        split={'train': 0.6, 'val': 0.2, 'test': 0.2},\n",
    "    )\n",
    "\n",
    "#Retrieve an image from the dataset and flip it\n",
    "image = dataset[1]['image']\n",
    "transform = RandomHorizontalFlip(1)\n",
    "image_flipped = transform(image)\n",
    "\n",
    "#Show the two images\n",
    "plt.figure(figsize = (2,2))\n",
    "plt.subplot(1, 2, 1)\n",
    "plt.imshow(image.astype('uint8'))\n",
    "plt.axis('off')\n",
    "plt.subplot(1, 2, 2)\n",
    "plt.imshow(image_flipped.astype('uint8'))\n",
    "plt.axis('off')\n",
    "plt.title(\"Left: Original Image, Right: Flipped image\")\n",
    "plt.show()"
   ]
  },
  {
   "cell_type": "markdown",
   "metadata": {
    "id": "WKNRU4BWN5eg"
   },
   "source": [
    "## 1.3 Layers\n",
    "\n",
    "Now, that the data is prepared, we can take a look at the model we are using. In our case it will be a neural network. \n",
    "\n",
    "In Exercise 5, you implemented a simple 2-layer neural network that had a hidden size as a parameter:\n",
    "\n",
    "$$ \n",
    "{\\hat{y}} = \\sigma(\\sigma({x W_1} + {b_1}) {W_2} + {b_2}) \n",
    "$$\n",
    "\n",
    "where $ \\sigma({x}) $ was the sigmoid function, $ {x} $ was the input, $ {W_1}, {W_2} $ the weight matrices and $ {b_1}, {b_2}$ the biases for the two layers.\n",
    "\n",
    "This is how we used this network:"
   ]
  },
  {
   "cell_type": "code",
   "execution_count": 8,
   "metadata": {
    "id": "6zta7tzkN5eg"
   },
   "outputs": [],
   "source": [
    "input_size = datasets['train'][0]['image'].shape[0]\n",
    "model = ClassificationNet(input_size=input_size, \n",
    "                          hidden_size=512)"
   ]
  },
  {
   "cell_type": "markdown",
   "metadata": {
    "id": "UpAoXE7nN5eh"
   },
   "source": [
    "Note that we updated the ```ClassificationNet``` from the previous exercise. Now you can customize the number of outputs, the choice of activation function, the hidden size etc. We encourage you to check the implementation in ```exercise_code/networks/classification_net.py``` "
   ]
  },
  {
   "cell_type": "code",
   "execution_count": 9,
   "metadata": {
    "id": "7wzEaw66N5eh"
   },
   "outputs": [],
   "source": [
    "num_layer = 2\n",
    "reg = 1e-6\n",
    "\n",
    "model = ClassificationNet(activation=Relu, \n",
    "                          num_layer=num_layer, \n",
    "                          reg=reg,\n",
    "                          num_classes=10)"
   ]
  },
  {
   "cell_type": "markdown",
   "metadata": {
    "id": "x70gjgkDN5eh"
   },
   "source": [
    "Performing the forward and backward passes through the model was quite simple:\n",
    "\n",
    "```python\n",
    "\n",
    "# X is a batch of training features \n",
    "# X.shape = (batch_size, features_size)\n",
    "y_out = model.forward(X)\n",
    "\n",
    "# dout is the gradient of the loss function w.r.t the output of the network.\n",
    "# dout.shape = (batch_size, )\n",
    "model.backward(dout)\n",
    "```"
   ]
  },
  {
   "cell_type": "markdown",
   "metadata": {
    "id": "dlwNcT2RN5eh"
   },
   "source": [
    "Just as the learning rate or the number of epochs we want to train for, the number of hidden layers and the number of units in each hidden layer are also hyperparameters that we can tune. In this notebook you can play with networks of different sizes to see the impact that the network capacity has.\n",
    "\n",
    "Before we move on to the loss functions, let's have a look at the activation functions. The choice of an activation function can have a huge impact on the performance of the network you are designing. So far, you have implemented the `Sigmoid` and the `Relu` activation functions in Exercise 5. \n",
    "\n",
    "<div class=\"alert alert-success\">\n",
    "    <h3>Task: Check Code</h3>\n",
    "    <p>Take a look at the <code>Sigmoid</code> and the <code>Relu</code> class in <code>exercise_code/networks/layer.py</code> and the implementation of the respective forward and backward passes. Make sure to understand why we used <b>element-wise product</b> instead of dot product in the backward pass of the <code>Sigmoid</code> class to compute the gradient <code>dx</code>. That will be helpful for your later implementation of other activation functions.</p>\n",
    "    <p> <b>Note:</b> The <code>cache</code> variable is used to store information from the forward pass and then pass this information in the backward pass to make use of it there. The implementation of both classes shows that this variable can be used differently - depending on which information is needed in the backward pass. </p>\n",
    "</div>\n",
    "\n",
    "Now, we want to have a look at two other, very common activation functions that you have already seen in the lecture: Leaky ReLU activation function and Tanh activation function. \n",
    "\n",
    "**Leaky Relus** are one attempt to fix the “dying ReLU” problem. Instead of the function being zero when $ x < 0 $, a leaky ReLU has a small negative slope (for example, 0.01).  The function computes $f(x) = \\mathbb{1}(x < 0) (\\alpha x) + \\mathbb{1}(x>=0) (x)$ where $\\alpha$ is a small constant. Some people report success with this form of activation function, but the results are not always consistent.\n",
    "\n",
    "The **tanh non-linearity** squashes a real-valued number into the range [-1, 1]. Like the sigmoid neuron, its activations saturate, but unlike the sigmoid neuron its output is zero-centered. Therefore, in practice the tanh non-linearity is always preferred to the sigmoid non-linearity. Also note that the tanh neuron is simply a scaled sigmoid neuron, in particular the following holds: $\\tanh(x) = 2 \\cdot \\sigma(2x) -1$.\n",
    "\n",
    "<img class=left src=https://pytorch.org/docs/stable/_images/LeakyReLU.png alt=\"Figure3\" width=\"350\" align='left'/> \n",
    "<img class=right src=https://pytorch.org/docs/stable/_images/Tanh.png alt=\"Figure4\" width=\"350\"/>\n",
    "\n",
    "<div class=\"alert alert-info\">\n",
    "    <h3>Task: Implement Activation Layers</h3>\n",
    "    <p> Now, it is your turn to implement the <code>LeakyRelu</code> and the <code>Tanh</code> class in <code>exercise_code/networks/layer.py</code> by completing the <code>forward</code> and the <code>backward</code> functions. You can test your implementation in the following two cells. </p>\n",
    "    <p> <b>Note:</b> Always remember to return a cache in <code>forward</code> for later backpropagation in <code>backward</code>. As we have seen above, the <code>cache</code> variable can be used differently for two activation functions.</p>\n",
    "</div>\n",
    "\n",
    "Use this cell to test your implementation of the `LeakyRelu` class:"
   ]
  },
  {
   "cell_type": "code",
   "execution_count": 10,
   "metadata": {
    "colab": {
     "base_uri": "https://localhost:8080/"
    },
    "executionInfo": {
     "elapsed": 854,
     "status": "ok",
     "timestamp": 1650011740634,
     "user": {
      "displayName": "Weber Anna",
      "userId": "18154618360144454414"
     },
     "user_tz": -120
    },
    "id": "v0LYvwHmN5ei",
    "outputId": "e124210f-f387-45b4-cd23-b0444c894b10"
   },
   "outputs": [
    {
     "name": "stdout",
     "output_type": "stream",
     "text": [
      "\n",
      "####### Testing \u001b[96mLeakyReluTest\u001b[0m Started #######\n",
      "\n",
      "Test LeakyReluForwardTest: \u001b[92mpassed!\u001b[0m\n",
      "Test LeakyReluBackwardTest: \u001b[92mpassed!\u001b[0m\n",
      "\n",
      "####### Testing \u001b[96mLeakyReluTest\u001b[0m Finished #######\n",
      "Test LeakyReluTest: \u001b[92mpassed!\u001b[0m -->  Tests passed: \u001b[92m2\u001b[0m/\u001b[92m2\u001b[0m\n",
      "Score: \u001b[92m100\u001b[0m/\u001b[92m100\u001b[0m\n"
     ]
    }
   ],
   "source": [
    "from exercise_code.tests.layer_tests import *\n",
    "LeakyReluTestWrapper()()"
   ]
  },
  {
   "cell_type": "markdown",
   "metadata": {
    "id": "kOkiYhe_N5ei"
   },
   "source": [
    "And this cell to test your implementation of the `Tanh` class:"
   ]
  },
  {
   "cell_type": "code",
   "execution_count": 11,
   "metadata": {
    "colab": {
     "base_uri": "https://localhost:8080/"
    },
    "executionInfo": {
     "elapsed": 11,
     "status": "ok",
     "timestamp": 1650011740635,
     "user": {
      "displayName": "Weber Anna",
      "userId": "18154618360144454414"
     },
     "user_tz": -120
    },
    "id": "Do-AHImrN5ei",
    "outputId": "b4c5a743-2ae6-4700-e052-4c9c4a220d08"
   },
   "outputs": [
    {
     "name": "stdout",
     "output_type": "stream",
     "text": [
      "\n",
      "####### Testing \u001b[96mTanhTest\u001b[0m Started #######\n",
      "\n",
      "Test TanhForwardTest: \u001b[92mpassed!\u001b[0m\n",
      "Test TanhBackwardTest: \u001b[92mpassed!\u001b[0m\n",
      "\n",
      "####### Testing \u001b[96mTanhTest\u001b[0m Finished #######\n",
      "Test TanhTest: \u001b[92mpassed!\u001b[0m -->  Tests passed: \u001b[92m2\u001b[0m/\u001b[92m2\u001b[0m\n",
      "Score: \u001b[92m100\u001b[0m/\u001b[92m100\u001b[0m\n"
     ]
    }
   ],
   "source": [
    "TanhTestWrapper()()"
   ]
  },
  {
   "cell_type": "markdown",
   "metadata": {
    "id": "Mw_iJW4dN5ej"
   },
   "source": [
    "Congratulations, you implemented four different activation functions! These activation layers are now ready to be used when you start building your own network."
   ]
  },
  {
   "cell_type": "markdown",
   "metadata": {
    "id": "3MhxqP2LN5ej"
   },
   "source": [
    "## 1.4 Loss\n",
    "\n",
    "In order to measure how well a network is performing, we implemented several ```Loss``` classes (```L1```, ```MSE```, ```BCE```, each preferred for a certain type of problems) in ```exercise_code/networks/loss.py```.\n",
    "\n",
    "Each contains a ```forward()``` method, which outputs a number we can use as a measure for our network's performance. \n",
    "\n",
    "Since our goal is to change the weights of the network in a way that this loss measure decreases, we are also interested in the gradients of the loss w.r.t the outputs of the network, $ \\nabla_{\\hat{y}} L({\\hat{y}}, {y}) $. This was implemented in ```backward()```. \n",
    "\n",
    "In previous exercises, we worked on binary classification problems and therefore used binary cross entropy (```BCE```) as a loss function.\n",
    "\n",
    "$$ BCE(\\hat{y}, y) = - \\frac{1}{N} \\sum_{i=1}^N \\Big(y_i \\log(\\hat{y_i}) + (1-y_i) \\log(1 - \\hat{y_i}) \\Big) $$ \n",
    "\n",
    "where\n",
    "- $ N $ was the number of samples we were considering\n",
    "- $\\hat{y}_i$ was the network's prediction for sample $i$. Note that this was a valid probability $\\in [0, 1]$, because we applied a [sigmoid](https://en.wikipedia.org/wiki/Sigmoid_function) activation on the last layer. \n",
    "- $ y_i $ was the ground truth label (0 or 1, depending on the class)\n",
    "\n",
    "Since we have 10 classes in the CIFAR10 dataset, we need a generalization of the binary cross entropy loss to multiple classes. This generalization is called the cross entropy loss and is defined as:\n",
    "$$ CE(\\hat{y}, y) = - \\frac{1}{N} \\sum_{i=1}^N \\sum_{k=1}^{C} \\Big(y_{ik} \\log(\\hat{y}_{ik}) \\Big) $$\n",
    "\n",
    "where:\n",
    "- $ N $ is the number of samples\n",
    "- $ C $ is the number of classes\n",
    "- $ \\hat{y}_{ik} $ is the probability that the model assigns for the $k$th class when the $i$th sample is the input. **Because we don't apply any activation function on the last layer of our network, its outputs for each sample will not be a valid probability distribution over the classes. We call these the raw outputs of the network '[logits](https://datascience.stackexchange.com/questions/31041/what-does-logits-in-machine-learning-mean/31045)' and we will apply a [softmax](https://en.wikipedia.org/wiki/Softmax_function) activation in order to obtain a valid probability distribution.** \n",
    "- $y_{ik} = 1 $ iff the true label of the $i$th sample is $k$ and 0 otherwise. This is called a [one-hot encoding](https://machinelearningmastery.com/why-one-hot-encode-data-in-machine-learning/).\n",
    "\n",
    "You can check for yourself that if the number of classes $ C $ is 2, the binary cross entropy is actually equivalent to the cross entropy.\n",
    "\n",
    "<div class=\"alert alert-success\">\n",
    "    <h3>Task: Check Code</h3>\n",
    "    <p>Please check the implementation of the <code>CrossEntropyFromLogits</code> class, which can be found in <code>../exercise_06/exercise_code/networks/loss.py</code>. </p>\n",
    "</div>"
   ]
  },
  {
   "cell_type": "code",
   "execution_count": 12,
   "metadata": {
    "id": "EBPuFF0BN5ej"
   },
   "outputs": [],
   "source": [
    "loss = CrossEntropyFromLogits"
   ]
  },
  {
   "cell_type": "markdown",
   "metadata": {
    "id": "y1HcQs25N5ek"
   },
   "source": [
    "We can simply get the results of the forward and backward passes as follows:"
   ]
  },
  {
   "cell_type": "markdown",
   "metadata": {
    "id": "Jv2aujOvN5ek"
   },
   "source": [
    "```python\n",
    "# y_out is the output of the neural network\n",
    "# y_truth is the actual label from the dataset\n",
    "loss.forward(y_out, y_truth)\n",
    "loss.backward(y_out, y_truth)\n",
    "```"
   ]
  },
  {
   "cell_type": "markdown",
   "metadata": {
    "id": "dbFSP4z9N5ek"
   },
   "source": [
    "## 1.5 Optimizer\n",
    "\n",
    "Now that we know the gradient of the loss w.r.t the ouputs of the network, as well as the local gradient for each layer of the network, we can use the chain rule to compute all gradients. \n",
    "\n",
    "<div class=\"alert alert-success\">\n",
    "    <h3>Task: Check Code</h3>\n",
    "    <p>We implemented several optimizer classes <code>SGD</code>, <code>Adam</code>, <code>sgd_momentum</code> that use different first-order parameter update rules. Those can be found in <code>../exercise_06/exercise_code/networks/optimizer.py</code>. </p>\n",
    "    <p>The <code>step()</code> method used, iterates through all the parameters of the model and updates them using the gradient information.</p>\n",
    "</div>\n",
    "\n",
    "What the optimizer is doing, in pseudocode, is the following:\n",
    "\n",
    "```python\n",
    "for param in model:\n",
    "    # Use the gradient to update the weights.\n",
    "    update(param)\n",
    "    \n",
    "    # Reset the gradient after each update.\n",
    "    param.gradient = 0\n",
    "```\n",
    "\n",
    "```SGD``` had the simplest update rule:\n",
    "```python\n",
    "def update(param):\n",
    "    param = param - learning_rate * param.gradient\n",
    "```\n",
    "\n",
    "For the more complicated update rules, see ```exercise_code/networks/optimizer.py```"
   ]
  },
  {
   "cell_type": "markdown",
   "metadata": {
    "id": "0TE2PxMBN5ek"
   },
   "source": [
    "## 1.6 Solver\n",
    "\n",
    "The ```Solver``` is where all the above elements come together: Given a train and a validation dataloader, a model, a loss and an optimizer, it uses the training data to optimize a model in order to get better predictions. We simply call ```train()``` and it does its 'magic' for us!\n",
    "```python\n",
    "solver = Solver(model, \n",
    "                dataloaders['train'], \n",
    "                dataloaders['val'], \n",
    "                learning_rate=0.001, \n",
    "                loss_func=MSE(), \n",
    "                optimizer=SGD)\n",
    "\n",
    "solver.train(epochs=epochs)\n",
    "```\n",
    "\n",
    "<div class=\"alert alert-success\">\n",
    "    <h3>Task: Check Code</h3>\n",
    "    <p>Please check out the implementation of <code>train()</code> in <code>../exercise_06/exercise_code/solver.py</code>. </p>\n",
    "</div>"
   ]
  },
  {
   "cell_type": "markdown",
   "metadata": {
    "id": "QUFotyERN5ek"
   },
   "source": [
    "## 1.7 Weight Regularization\n",
    "\n",
    "Before finishing the recap, we want to take a look at some regularization methods that have been introduced in the lecture. Those can be helpful to improve the robustness of our model. In this chapter, we're talking about weight regularization methods.\n",
    "\n",
    "Weight regularization (a.k.a \"Weight Decay\") has been introduced to you as a method preventing the model from overfitting to the training data. \n",
    "\n",
    "The regularization term over the weights of the network is added to the loss:\n",
    "\n",
    "$$ L^* = \\underbrace{L}_{\\text{Overall loss}} + \\underbrace{\\lambda R(\\theta)}_{\\text{Regularization loss}} $$\n",
    "\n",
    "where $\\theta$ represents **ALL** the weights of the network, $\\theta = \\{W_1, \\dots, W_n\\}$ and $R(\\theta) \\in \\mathbb{R}.$\n",
    "\n",
    "Therefore, the backward step for each weight matrix $W_k \\in  \\theta$ is: \n",
    "\n",
    "$$\\frac{\\partial L}{\\partial W_k}^* = \\underbrace{\\frac{\\partial L}{\\partial W_k}}_{\\text{Gradient}}  + \\underbrace{\\lambda \\frac{\\partial R(\\theta)}{\\partial W_k}}_{\\text{Reg. loss gradient}}$$\n",
    "\n",
    "The usage of the regularization term encodes some preferences in manipulating the weights. In the lecture, we compared two weight regularization methods and their respective preference for weight vectors. We made the following observations: \n",
    "\n",
    "1. L1 regularization: Enforces sparsity \n",
    "2. L2 regularization: Enforces that weights have similar values\n",
    "\n",
    "The most common weight regularization method is the L2 regularization. The L2 regularization prefers smaller and more diffuse weight vectors. Therefore, the model is encouraged to take all input dimensions into account rather than focusing strongly on a small number of input dimensions.\n",
    "\n",
    "When using weight regularization, the loss function is a composition of two parts:\n",
    "\n",
    "The first being the data loss, which is calculated using Cross Entropy loss in our model. The second part is called the regularization loss $R(\\theta)$ and is computed in the L2 case as follows:\n",
    "$$R(\\theta) = \\sum_{k} \\sum_{i} \\sum_{j} w_{k,i,j}^2$$\n",
    "\n",
    "Where $k$ runs over all weight matrices in the network, and $i, j$ correspond to the spatial height and width of each weight matrix $W_k$."
   ]
  },
  {
   "cell_type": "markdown",
   "metadata": {
    "id": "DxExi4hQN5el"
   },
   "source": [
    "# 2. An overview of hyperparameters"
   ]
  },
  {
   "cell_type": "markdown",
   "metadata": {
    "collapsed": true,
    "id": "OdQde3JEN5el"
   },
   "source": [
    "\n",
    "<img src=https://images.deepai.org/glossary-terms/05c646fe1676490aa0b8cab0732a02b2/hyperparams.png alt=hyperparameter width=700>\n",
    "\n",
    "A **hyperparameter** is a parameter that is set before the learning process begins. Recall that the parameters of the weight matrix and the bias vector are learned during the learning process.\n",
    "\n",
    "The hyperparameter settings are essential, since they control and affect the whole training and therefore have a great impact on the model's performance. \n",
    "\n",
    "Some hyperparameters we have covered in lectures are:\n",
    "* Network architecture\n",
    "    * Choice of activation function\n",
    "    * Number of layers\n",
    "    * ...\n",
    "* Learning rate\n",
    "* Number of epochs\n",
    "* Batch size\n",
    "* Regularization strength\n",
    "* Momentum\n",
    "* ..."
   ]
  },
  {
   "cell_type": "markdown",
   "metadata": {
    "id": "Rn6g8Zw1N5el"
   },
   "source": [
    "## 2.1 Start debugging your own network!"
   ]
  },
  {
   "cell_type": "markdown",
   "metadata": {
    "id": "hUoj3OgzN5el"
   },
   "source": [
    "As already suggested in the lectures, you should always start from small and simple architectures, to make sure you are going the right way. \n",
    "\n",
    "As a first step you should try to overfit to a single training sample, then to a few batches of training samples and finally go deeper with larger neural networks and the whole training data.\n",
    "\n",
    "We provide a default neural network (i.e. ClassificationNet) with arbitrary number of layers, which is a generalization from a fixed 2-layer neural network in exercise 5. You are welcome to implement your own network, in that case just implement **MyOwnNetwork** in ```exercise_code/networks/classification_net.py```. You can also copy things from ClassficationNet and make little adjustments to your own network. Either way, just pick one network and comment out the other one, then run the cells below for debugging.\n",
    "\n",
    "<div class=\"alert alert-warning\">\n",
    "    <h3>Note:</h3>\n",
    "    <p>Please, make sure you don't modify the ClassificationNet itself. In this way you can always have a working network to fall back on.</p>\n",
    "    <p>In order to pass this submissions, you can <b>first stick to the default ClassificationNet implementation without changing any code at all</b>. The goal of this submission is to find reasonable hyperparameters and the parameter options of the ClassificationNet are broad enough to pass.</p>\n",
    "    <p>Once you have surpassed the submission goal, you can try to implement additional activation functions in the accompanying notebook, try different weight initializations or make other adjustments by writing your own network architecture in the MyOwnNetwork class.</p>\n",
    "</div>"
   ]
  },
  {
   "cell_type": "markdown",
   "metadata": {
    "id": "gij9DxvmN5el"
   },
   "source": [
    "First, let's start with a 2-layer neural network, and overfit to one single training sample.\n",
    "\n",
    "After training, let's evaluate the training process by plotting the loss curves."
   ]
  },
  {
   "cell_type": "code",
   "execution_count": 13,
   "metadata": {
    "colab": {
     "base_uri": "https://localhost:8080/"
    },
    "executionInfo": {
     "elapsed": 20902,
     "status": "ok",
     "timestamp": 1650011761531,
     "user": {
      "displayName": "Weber Anna",
      "userId": "18154618360144454414"
     },
     "user_tz": -120
    },
    "id": "S1k3JrlsN5el",
    "outputId": "1193ba97-9871-489f-d6a5-f21a3869f09c"
   },
   "outputs": [
    {
     "name": "stdout",
     "output_type": "stream",
     "text": [
      "(Epoch 1 / 20) train loss: 2.297071; val loss: 2.306355\n",
      "(Epoch 2 / 20) train loss: 2.182829; val loss: 2.311383\n",
      "(Epoch 3 / 20) train loss: 2.040154; val loss: 2.318081\n",
      "(Epoch 4 / 20) train loss: 1.870841; val loss: 2.326746\n",
      "(Epoch 5 / 20) train loss: 1.687636; val loss: 2.337719\n",
      "(Epoch 6 / 20) train loss: 1.504726; val loss: 2.351271\n",
      "(Epoch 7 / 20) train loss: 1.335505; val loss: 2.367585\n",
      "(Epoch 8 / 20) train loss: 1.185235; val loss: 2.386815\n",
      "(Epoch 9 / 20) train loss: 1.048617; val loss: 2.409132\n",
      "(Epoch 10 / 20) train loss: 0.922046; val loss: 2.434665\n",
      "(Epoch 11 / 20) train loss: 0.804986; val loss: 2.463446\n",
      "(Epoch 12 / 20) train loss: 0.698867; val loss: 2.495375\n",
      "(Epoch 13 / 20) train loss: 0.604541; val loss: 2.530231\n",
      "(Epoch 14 / 20) train loss: 0.521376; val loss: 2.567703\n",
      "(Epoch 15 / 20) train loss: 0.448663; val loss: 2.607401\n",
      "(Epoch 16 / 20) train loss: 0.385675; val loss: 2.648878\n",
      "(Epoch 17 / 20) train loss: 0.331568; val loss: 2.691661\n",
      "(Epoch 18 / 20) train loss: 0.285409; val loss: 2.735271\n",
      "(Epoch 19 / 20) train loss: 0.246237; val loss: 2.779255\n",
      "(Epoch 20 / 20) train loss: 0.213118; val loss: 2.823197\n"
     ]
    }
   ],
   "source": [
    "from exercise_code.solver import Solver\n",
    "from exercise_code.networks.optimizer import SGD, Adam\n",
    "from exercise_code.networks import MyOwnNetwork\n",
    "\n",
    "num_layer = 2\n",
    "epochs = 20\n",
    "reg = 1e-6\n",
    "batch_size = 4\n",
    "\n",
    "model = ClassificationNet(num_layer=num_layer, reg=reg)\n",
    "# model = MyOwnNetwork()\n",
    "\n",
    "loss = CrossEntropyFromLogits\n",
    "\n",
    "# Make a new data loader with a single training image\n",
    "overfit_dataset = DATASET(\n",
    "    mode='train',\n",
    "    root=cifar_root, \n",
    "    download_url=download_url,\n",
    "    transform=compose_transform,\n",
    "    limit_files=1\n",
    ")\n",
    "dataloaders['train_overfit_single_image'] = DataLoader(\n",
    "    dataset=overfit_dataset,\n",
    "    batch_size=batch_size,\n",
    "    shuffle=True,\n",
    "    drop_last=False,\n",
    ")\n",
    "\n",
    "\n",
    "# Decrease validation data for only debugging\n",
    "debugging_validation_dataset = DATASET(\n",
    "    mode='val',\n",
    "    root=cifar_root, \n",
    "    download_url=download_url,\n",
    "    transform=compose_transform,\n",
    "    limit_files=100\n",
    ")\n",
    "dataloaders['val_500files'] = DataLoader(\n",
    "    dataset=debugging_validation_dataset,\n",
    "    batch_size=batch_size,\n",
    "    shuffle=True,\n",
    "    drop_last=True,\n",
    ")\n",
    "\n",
    "solver = Solver(model, dataloaders['train_overfit_single_image'], dataloaders['val_500files'], \n",
    "                learning_rate=1e-3, loss_func=loss, optimizer=Adam)\n",
    "\n",
    "solver.train(epochs=epochs)"
   ]
  },
  {
   "cell_type": "code",
   "execution_count": 14,
   "metadata": {
    "colab": {
     "base_uri": "https://localhost:8080/"
    },
    "executionInfo": {
     "elapsed": 434,
     "status": "ok",
     "timestamp": 1650011761941,
     "user": {
      "displayName": "Weber Anna",
      "userId": "18154618360144454414"
     },
     "user_tz": -120
    },
    "id": "aMc51VqHN5em",
    "outputId": "730d9eb6-6b24-4411-e6b9-c165a73a7e6e"
   },
   "outputs": [
    {
     "data": {
      "image/png": "[encoded data removed]",
      "text/plain": [
       "<Figure size 1000x800 with 1 Axes>"
      ]
     },
     "metadata": {},
     "output_type": "display_data"
    }
   ],
   "source": [
    "plt.title('Loss curves')\n",
    "plt.plot(solver.train_loss_history, '-', label='train')\n",
    "plt.plot(solver.val_loss_history, '-', label='val')\n",
    "plt.legend(loc='lower right')\n",
    "plt.xlabel('Iteration')\n",
    "plt.show()"
   ]
  },
  {
   "cell_type": "code",
   "execution_count": 15,
   "metadata": {
    "colab": {
     "base_uri": "https://localhost:8080/"
    },
    "executionInfo": {
     "elapsed": 244,
     "status": "ok",
     "timestamp": 1650011762177,
     "user": {
      "displayName": "Weber Anna",
      "userId": "18154618360144454414"
     },
     "user_tz": -120
    },
    "id": "cchvV2Q_N5em",
    "outputId": "6ba579ba-58ed-43e8-f3e7-97a51018ee4b"
   },
   "outputs": [
    {
     "name": "stdout",
     "output_type": "stream",
     "text": [
      "Training accuray: 1.00000\n",
      "Validation accuray: 0.07000\n"
     ]
    }
   ],
   "source": [
    "print(\"Training accuray: %.5f\" % (solver.get_dataset_accuracy(dataloaders['train_overfit_single_image'])))\n",
    "print(\"Validation accuray: %.5f\" % (solver.get_dataset_accuracy(dataloaders['val_500files'])))"
   ]
  },
  {
   "cell_type": "markdown",
   "metadata": {
    "id": "HeTCu8wwN5em"
   },
   "source": [
    "This time we want to overfit to a small set of training batch samples. Please observe the difference from above. "
   ]
  },
  {
   "cell_type": "code",
   "execution_count": 16,
   "metadata": {
    "colab": {
     "base_uri": "https://localhost:8080/"
    },
    "executionInfo": {
     "elapsed": 32205,
     "status": "ok",
     "timestamp": 1650011794379,
     "user": {
      "displayName": "Weber Anna",
      "userId": "18154618360144454414"
     },
     "user_tz": -120
    },
    "id": "SsIu_JaUN5em",
    "outputId": "81810746-ea3e-4a60-f3b7-dad4230c7231"
   },
   "outputs": [
    {
     "name": "stdout",
     "output_type": "stream",
     "text": [
      "(Epoch 1 / 100) train loss: 2.285654; val loss: 2.339864\n",
      "(Epoch 2 / 100) train loss: 2.184179; val loss: 2.404058\n",
      "(Epoch 3 / 100) train loss: 2.073793; val loss: 2.462862\n",
      "(Epoch 4 / 100) train loss: 1.897433; val loss: 2.519303\n",
      "(Epoch 5 / 100) train loss: 1.947012; val loss: 2.604608\n",
      "(Epoch 6 / 100) train loss: 1.825010; val loss: 2.652202\n",
      "(Epoch 7 / 100) train loss: 1.797096; val loss: 2.726142\n",
      "(Epoch 8 / 100) train loss: 1.650958; val loss: 2.821884\n",
      "(Epoch 9 / 100) train loss: 1.715406; val loss: 2.899799\n",
      "(Epoch 10 / 100) train loss: 1.778572; val loss: 2.929512\n",
      "(Epoch 11 / 100) train loss: 1.680088; val loss: 2.936305\n",
      "(Epoch 12 / 100) train loss: 1.626903; val loss: 3.065746\n",
      "(Epoch 13 / 100) train loss: 1.608086; val loss: 3.175972\n",
      "(Epoch 14 / 100) train loss: 1.668271; val loss: 3.193894\n",
      "(Epoch 15 / 100) train loss: 1.583900; val loss: 3.144835\n",
      "(Epoch 16 / 100) train loss: 1.663721; val loss: 3.157860\n",
      "(Epoch 17 / 100) train loss: 1.707083; val loss: 3.212566\n",
      "(Epoch 18 / 100) train loss: 1.645879; val loss: 3.292113\n",
      "(Epoch 19 / 100) train loss: 1.727949; val loss: 3.282400\n",
      "(Epoch 20 / 100) train loss: 1.546355; val loss: 3.294221\n",
      "(Epoch 21 / 100) train loss: 1.526541; val loss: 3.351726\n",
      "(Epoch 22 / 100) train loss: 1.633128; val loss: 3.333373\n",
      "(Epoch 23 / 100) train loss: 1.557307; val loss: 3.321494\n",
      "(Epoch 24 / 100) train loss: 1.412432; val loss: 3.384119\n",
      "(Epoch 25 / 100) train loss: 1.544772; val loss: 3.439287\n",
      "(Epoch 26 / 100) train loss: 1.629777; val loss: 3.409613\n",
      "(Epoch 27 / 100) train loss: 1.451470; val loss: 3.390785\n",
      "(Epoch 28 / 100) train loss: 1.478424; val loss: 3.368684\n",
      "(Epoch 29 / 100) train loss: 1.580490; val loss: 3.395362\n",
      "(Epoch 30 / 100) train loss: 1.468258; val loss: 3.415669\n",
      "(Epoch 31 / 100) train loss: 1.495814; val loss: 3.395274\n",
      "(Epoch 32 / 100) train loss: 1.442939; val loss: 3.400465\n",
      "(Epoch 33 / 100) train loss: 1.410726; val loss: 3.425180\n",
      "(Epoch 34 / 100) train loss: 1.393133; val loss: 3.431054\n",
      "(Epoch 35 / 100) train loss: 1.341627; val loss: 3.431287\n",
      "(Epoch 36 / 100) train loss: 1.320291; val loss: 3.432498\n",
      "(Epoch 37 / 100) train loss: 1.278979; val loss: 3.449951\n",
      "(Epoch 38 / 100) train loss: 1.331402; val loss: 3.460398\n",
      "(Epoch 39 / 100) train loss: 1.252910; val loss: 3.493269\n",
      "(Epoch 40 / 100) train loss: 1.359044; val loss: 3.467955\n",
      "(Epoch 41 / 100) train loss: 1.396846; val loss: 3.424090\n",
      "(Epoch 42 / 100) train loss: 1.294898; val loss: 3.481334\n",
      "(Epoch 43 / 100) train loss: 1.267907; val loss: 3.530805\n",
      "(Epoch 44 / 100) train loss: 1.342296; val loss: 3.501542\n",
      "(Epoch 45 / 100) train loss: 1.275055; val loss: 3.496119\n",
      "(Epoch 46 / 100) train loss: 1.303685; val loss: 3.506314\n",
      "(Epoch 47 / 100) train loss: 1.174924; val loss: 3.510949\n",
      "(Epoch 48 / 100) train loss: 1.184015; val loss: 3.480063\n",
      "(Epoch 49 / 100) train loss: 1.171678; val loss: 3.464200\n",
      "(Epoch 50 / 100) train loss: 1.123684; val loss: 3.463859\n",
      "(Epoch 51 / 100) train loss: 1.256967; val loss: 3.494803\n",
      "(Epoch 52 / 100) train loss: 1.190691; val loss: 3.581557\n",
      "(Epoch 53 / 100) train loss: 1.270966; val loss: 3.630106\n",
      "(Epoch 54 / 100) train loss: 1.276279; val loss: 3.608391\n",
      "(Epoch 55 / 100) train loss: 1.158384; val loss: 3.558018\n",
      "(Epoch 56 / 100) train loss: 1.167835; val loss: 3.527753\n",
      "(Epoch 57 / 100) train loss: 1.105719; val loss: 3.534693\n",
      "(Epoch 58 / 100) train loss: 1.118713; val loss: 3.554104\n",
      "(Epoch 59 / 100) train loss: 1.146755; val loss: 3.561773\n",
      "(Epoch 60 / 100) train loss: 1.032525; val loss: 3.559286\n",
      "(Epoch 61 / 100) train loss: 1.032632; val loss: 3.533494\n",
      "(Epoch 62 / 100) train loss: 1.081893; val loss: 3.520433\n",
      "(Epoch 63 / 100) train loss: 1.002093; val loss: 3.539199\n",
      "(Epoch 64 / 100) train loss: 1.009278; val loss: 3.555585\n",
      "(Epoch 65 / 100) train loss: 1.005067; val loss: 3.551066\n",
      "(Epoch 66 / 100) train loss: 1.025556; val loss: 3.563292\n",
      "(Epoch 67 / 100) train loss: 1.018766; val loss: 3.608181\n",
      "(Epoch 68 / 100) train loss: 1.029249; val loss: 3.640321\n",
      "(Epoch 69 / 100) train loss: 1.012257; val loss: 3.621215\n",
      "(Epoch 70 / 100) train loss: 1.063621; val loss: 3.578943\n",
      "(Epoch 71 / 100) train loss: 1.074002; val loss: 3.575941\n",
      "(Epoch 72 / 100) train loss: 1.015561; val loss: 3.608953\n",
      "(Epoch 73 / 100) train loss: 0.989825; val loss: 3.623651\n",
      "(Epoch 74 / 100) train loss: 0.955146; val loss: 3.594755\n",
      "(Epoch 75 / 100) train loss: 0.955101; val loss: 3.537475\n",
      "(Epoch 76 / 100) train loss: 0.929371; val loss: 3.523151\n",
      "(Epoch 77 / 100) train loss: 0.902755; val loss: 3.543167\n",
      "(Epoch 78 / 100) train loss: 0.922729; val loss: 3.564267\n",
      "(Epoch 79 / 100) train loss: 0.901654; val loss: 3.585462\n",
      "(Epoch 80 / 100) train loss: 0.899365; val loss: 3.554451\n",
      "(Epoch 81 / 100) train loss: 0.916332; val loss: 3.569907\n",
      "(Epoch 82 / 100) train loss: 0.914208; val loss: 3.578835\n",
      "(Epoch 83 / 100) train loss: 0.970760; val loss: 3.567008\n",
      "(Epoch 84 / 100) train loss: 0.876876; val loss: 3.564520\n",
      "(Epoch 85 / 100) train loss: 0.941295; val loss: 3.571987\n",
      "(Epoch 86 / 100) train loss: 0.852770; val loss: 3.578122\n",
      "(Epoch 87 / 100) train loss: 0.911657; val loss: 3.561768\n",
      "(Epoch 88 / 100) train loss: 0.887248; val loss: 3.528751\n",
      "(Epoch 89 / 100) train loss: 0.883506; val loss: 3.549366\n",
      "(Epoch 90 / 100) train loss: 0.854375; val loss: 3.580397\n",
      "(Epoch 91 / 100) train loss: 0.864722; val loss: 3.578156\n",
      "(Epoch 92 / 100) train loss: 0.910486; val loss: 3.574541\n",
      "(Epoch 93 / 100) train loss: 0.915645; val loss: 3.629390\n",
      "(Epoch 94 / 100) train loss: 1.004421; val loss: 3.603267\n",
      "(Epoch 95 / 100) train loss: 0.891343; val loss: 3.615974\n",
      "(Epoch 96 / 100) train loss: 0.919546; val loss: 3.627531\n",
      "(Epoch 97 / 100) train loss: 0.964854; val loss: 3.612748\n",
      "(Epoch 98 / 100) train loss: 0.886305; val loss: 3.613592\n",
      "(Epoch 99 / 100) train loss: 0.834075; val loss: 3.562202\n",
      "(Epoch 100 / 100) train loss: 0.898983; val loss: 3.540259\n"
     ]
    }
   ],
   "source": [
    "from exercise_code.networks import MyOwnNetwork\n",
    "\n",
    "num_layer = 2\n",
    "epochs = 100\n",
    "reg = 0.1\n",
    "num_samples = 10\n",
    "\n",
    "model = ClassificationNet(num_layer=num_layer, reg=reg)\n",
    "# model = MyOwnNetwork()\n",
    "\n",
    "loss = CrossEntropyFromLogits\n",
    "\n",
    "# Make a new data loader with a our num_samples training image\n",
    "overfit_dataset = DATASET(\n",
    "    mode='train',\n",
    "    root=cifar_root, \n",
    "    download_url=download_url,\n",
    "    transform=compose_transform,\n",
    "    limit_files=num_samples\n",
    ")\n",
    "dataloaders['train_overfit_10samples'] = DataLoader(\n",
    "    dataset=overfit_dataset,\n",
    "    batch_size=batch_size,\n",
    "    shuffle=True,\n",
    "    drop_last=False,\n",
    ")\n",
    "\n",
    "solver = Solver(model, dataloaders['train_overfit_10samples'], dataloaders['val_500files'], \n",
    "                learning_rate=1e-3, loss_func=loss, optimizer=Adam)\n",
    "\n",
    "solver.train(epochs=epochs)"
   ]
  },
  {
   "cell_type": "code",
   "execution_count": 17,
   "metadata": {
    "colab": {
     "base_uri": "https://localhost:8080/"
    },
    "executionInfo": {
     "elapsed": 15,
     "status": "ok",
     "timestamp": 1650011794380,
     "user": {
      "displayName": "Weber Anna",
      "userId": "18154618360144454414"
     },
     "user_tz": -120
    },
    "id": "DmzTCYw_N5en",
    "outputId": "8076912f-608c-497c-e092-3da5e9e8ddcd"
   },
   "outputs": [
    {
     "data": {
      "image/png": "[encoded data removed]",
      "text/plain": [
       "<Figure size 1000x800 with 1 Axes>"
      ]
     },
     "metadata": {},
     "output_type": "display_data"
    }
   ],
   "source": [
    "plt.title('Loss curves')\n",
    "plt.plot(solver.train_loss_history, '-', label='train')\n",
    "plt.plot(solver.val_loss_history, '-', label='val')\n",
    "plt.legend(loc='lower right')\n",
    "plt.xlabel('Iteration')\n",
    "plt.show()"
   ]
  },
  {
   "cell_type": "code",
   "execution_count": 18,
   "metadata": {
    "colab": {
     "base_uri": "https://localhost:8080/"
    },
    "executionInfo": {
     "elapsed": 822,
     "status": "ok",
     "timestamp": 1650011795194,
     "user": {
      "displayName": "Weber Anna",
      "userId": "18154618360144454414"
     },
     "user_tz": -120
    },
    "id": "8H8xyMcaN5en",
    "outputId": "55c1d949-949d-414f-8a34-fa85faa9ed9b"
   },
   "outputs": [
    {
     "name": "stdout",
     "output_type": "stream",
     "text": [
      "Training accuray: 1.00000\n",
      "Validation accuray: 0.07000\n"
     ]
    }
   ],
   "source": [
    "print(\"Training accuray: %.5f\" % (solver.get_dataset_accuracy(dataloaders['train_overfit_10samples'])))\n",
    "print(\"Validation accuray: %.5f\" % (solver.get_dataset_accuracy(dataloaders['val_500files'])))"
   ]
  },
  {
   "cell_type": "markdown",
   "metadata": {
    "id": "7PoTJskAN5en"
   },
   "source": [
    "If you're overfitting to the training data, that means the network's implementation is correct. However, as you have more samples to overfit, your accuracy will be way lower. You can increase the number of epochs above to achieve better results.\n",
    "\n",
    "Now let's try to feed all the training and validation data into the network, but this time let's set compare a 2-layer and a 5-layer network, using the same hyperparameters.\n",
    "\n",
    "<div class=\"alert alert-warning\">\n",
    "    <h3>Note:</h3>\n",
    "    <p>This may take about 1 min per epoch as the training set is quite large. For convenience, we are now only using 1000 images for training but use the full validation set.</p>\n",
    "</div>"
   ]
  },
  {
   "cell_type": "code",
   "execution_count": 19,
   "metadata": {
    "colab": {
     "background_save": true
    },
    "id": "ayhMGBUBN5en",
    "outputId": "0f77d4ee-a8c9-4ddc-e538-c1818c306acf"
   },
   "outputs": [
    {
     "name": "stdout",
     "output_type": "stream",
     "text": [
      "(Epoch 1 / 5) train loss: 2.178033; val loss: 2.074454\n",
      "(Epoch 2 / 5) train loss: 1.996968; val loss: 2.020115\n",
      "(Epoch 3 / 5) train loss: 1.897655; val loss: 1.988170\n",
      "(Epoch 4 / 5) train loss: 1.812661; val loss: 1.986409\n",
      "(Epoch 5 / 5) train loss: 1.752198; val loss: 1.977454\n"
     ]
    }
   ],
   "source": [
    "from exercise_code.networks import MyOwnNetwork\n",
    "\n",
    "num_layer = 2\n",
    "epochs = 5\n",
    "reg = 1e-4\n",
    "\n",
    "# Make a new data loader with 1000 training samples\n",
    "num_samples = 1000\n",
    "overfit_dataset = DATASET(\n",
    "    mode='train',\n",
    "    root=cifar_root, \n",
    "    download_url=download_url,\n",
    "    transform=compose_transform,\n",
    "    limit_files=num_samples\n",
    ")\n",
    "dataloaders['train_small'] = DataLoader(\n",
    "    dataset=overfit_dataset,\n",
    "    batch_size=batch_size,\n",
    "    shuffle=True,\n",
    "    drop_last=False,\n",
    ")\n",
    "\n",
    "\n",
    "\n",
    "\n",
    "# Change here if you want to use the full training set\n",
    "use_full_training_set = False\n",
    "if use_full_training_set:\n",
    "    train_loader =  dataloaders['train']\n",
    "else:\n",
    "    train_loader = dataloaders['train_small']\n",
    "    \n",
    "\n",
    "model = ClassificationNet(num_layer=num_layer, reg=reg)\n",
    "# model = MyOwnNetwork()\n",
    "\n",
    "loss = CrossEntropyFromLogits\n",
    "\n",
    "solver = Solver(model, train_loader, dataloaders['val'], \n",
    "                learning_rate=1e-3, loss_func=loss, optimizer=Adam)\n",
    "\n",
    "solver.train(epochs=epochs)"
   ]
  },
  {
   "cell_type": "code",
   "execution_count": 20,
   "metadata": {
    "colab": {
     "background_save": true
    },
    "id": "3htGtgttN5en",
    "outputId": "6336d86c-13c1-40e5-9080-7aa5ed774959"
   },
   "outputs": [
    {
     "data": {
      "image/png": "[encoded data removed]",
      "text/plain": [
       "<Figure size 1000x800 with 1 Axes>"
      ]
     },
     "metadata": {},
     "output_type": "display_data"
    }
   ],
   "source": [
    "plt.title('Loss curves')\n",
    "plt.plot(solver.train_loss_history, '-', label='train')\n",
    "plt.plot(solver.val_loss_history, '-', label='val')\n",
    "plt.legend(loc='lower right')\n",
    "plt.xlabel('Iteration')\n",
    "plt.show()"
   ]
  },
  {
   "cell_type": "code",
   "execution_count": 21,
   "metadata": {
    "colab": {
     "background_save": true
    },
    "id": "oOVafQ7yN5eo",
    "outputId": "7207ecce-50aa-4e80-83ee-1d05529ab23a"
   },
   "outputs": [
    {
     "name": "stdout",
     "output_type": "stream",
     "text": [
      "Training accuray: 0.46500\n",
      "Validation accuray: 0.31260\n"
     ]
    }
   ],
   "source": [
    "print(\"Training accuray: %.5f\" % (solver.get_dataset_accuracy(train_loader)))\n",
    "print(\"Validation accuray: %.5f\" % (solver.get_dataset_accuracy(dataloaders['val'])))"
   ]
  },
  {
   "cell_type": "code",
   "execution_count": 22,
   "metadata": {
    "colab": {
     "background_save": true
    },
    "id": "vG9U5OmwN5eo",
    "outputId": "4aa8426b-eea9-4be8-bc08-6add66c4cf82"
   },
   "outputs": [
    {
     "name": "stdout",
     "output_type": "stream",
     "text": [
      "(Epoch 1 / 5) train loss: 2.310216; val loss: 2.304218\n",
      "(Epoch 2 / 5) train loss: 2.303982; val loss: 2.304029\n",
      "(Epoch 3 / 5) train loss: 2.302196; val loss: 2.304390\n",
      "(Epoch 4 / 5) train loss: 2.300473; val loss: 2.302353\n",
      "(Epoch 5 / 5) train loss: 2.298115; val loss: 2.301526\n"
     ]
    }
   ],
   "source": [
    "from exercise_code.networks import MyOwnNetwork\n",
    "\n",
    "num_layer = 5\n",
    "epochs = 5\n",
    "reg = 1e-4\n",
    "\n",
    "model = ClassificationNet(num_layer=num_layer, reg=reg)\n",
    "\"\"\"\n",
    "epochs = 20\n",
    "model = ClassificationNet(activation=LeakyRelu, num_layer=3,\n",
    "                    hidden_size=256, reg=1e-2)\n",
    "\"\"\"\n",
    "\n",
    "# model = MyOwnNetwork()\n",
    "\n",
    "# Change here if you want to use the full training set\n",
    "use_full_training_set = False\n",
    "if not use_full_training_set:\n",
    "    train_loader = dataloaders['train_small']\n",
    "else:\n",
    "    train_loader = dataloaders['train']\n",
    "\n",
    "loss = CrossEntropyFromLogits\n",
    "\n",
    "solver = Solver(model, train_loader, dataloaders['val'], \n",
    "                learning_rate=1e-3, loss_func=loss, optimizer=Adam)\n",
    "\n",
    "solver.train(epochs=epochs)"
   ]
  },
  {
   "cell_type": "code",
   "execution_count": 23,
   "metadata": {
    "colab": {
     "background_save": true
    },
    "id": "08XZk2GYN5eo",
    "outputId": "3d04c7c9-a0ce-4522-c858-e9491fca8102"
   },
   "outputs": [
    {
     "data": {
      "image/png": "[encoded data removed]",
      "text/plain": [
       "<Figure size 1000x800 with 1 Axes>"
      ]
     },
     "metadata": {},
     "output_type": "display_data"
    }
   ],
   "source": [
    "plt.title('Loss curves')\n",
    "plt.plot(solver.train_loss_history, '-', label='train')\n",
    "plt.plot(solver.val_loss_history, '-', label='val')\n",
    "plt.legend(loc='lower right')\n",
    "plt.xlabel('Iteration')\n",
    "plt.show()"
   ]
  },
  {
   "cell_type": "code",
   "execution_count": 24,
   "metadata": {
    "colab": {
     "background_save": true
    },
    "id": "7-sI0yyWN5eo",
    "outputId": "29f489a2-6899-410e-9e82-8026cb77d505"
   },
   "outputs": [
    {
     "name": "stdout",
     "output_type": "stream",
     "text": [
      "Training accuray: 0.11300\n",
      "Validation accuray: 0.10056\n"
     ]
    }
   ],
   "source": [
    "print(\"Training accuray: %.5f\" % (solver.get_dataset_accuracy(train_loader)))\n",
    "print(\"Validation accuray: %.5f\" % (solver.get_dataset_accuracy(dataloaders['val'])))"
   ]
  },
  {
   "cell_type": "markdown",
   "metadata": {
    "id": "_nNdnSi4N5eo"
   },
   "source": [
    "As you can see from above, the same hyperparameter set can decrease the loss for a 2-layer network, but for 5-layer network, it hardly works.\n",
    "\n",
    "The steps above are already mentioned in the lectures as debugging steps before training a neural network. \n",
    "\n",
    "If you implement your own network, make sure you do the steps above before tuning the hyperparameters as below. "
   ]
  },
  {
   "cell_type": "markdown",
   "metadata": {
    "id": "l0pZa4weN5eo"
   },
   "source": [
    "## 2.2 Difficulty in tuning hyperparameters\n",
    "Small decisions on hyperparameters count. Usually, but not always, hyperparameters cannot be learned using well known gradient based methods (such as gradient descent), which are commonly employed to learn parameters. \n",
    "\n",
    "As mentioned before, hyperparameters need to be set before training. Tuning hyperparameters is hard, because you always have to try different combinations of the hyperparameters, train the network, do the validation and pick the best one. Besides, it is not guaranteed that you'll find the best combination.\n",
    "\n",
    "Let's do some hands on learning using the hyperparameter tuning methods covered in the lectures."
   ]
  },
  {
   "cell_type": "markdown",
   "metadata": {
    "id": "pDQl6fY6N5ep"
   },
   "source": [
    "# 3. Hyperparameter Tuning\n",
    "\n",
    "![alt text](https://blog.floydhub.com/content/images/2018/08/Screen-Shot-2018-08-22-at-17.59.25.png \"\")\n",
    "\n",
    "One of the main challenges in deep learning is finding the set of hyperparameters that performs best.\n",
    "\n",
    "So far, we have followed a manual approach by guessing hyperparameters, running the model, observing the result and maybe tweaking the hyperparameters based on this result. As you have probably noticed, this manual hyperparameter tuning is unstructured, inefficient and can become very tedious.\n",
    "\n",
    "\n",
    "A more systematic (and actually very simple) approach for hyperparameter tuning that you've already learned in the lecture  is implementing a **Grid Search**. \n",
    "\n",
    "\n",
    "\n",
    "## 3.1 Grid Search\n",
    "Grid search is a simple and naive, yet effective method to automate the hyperparameter tuning:\n",
    "\n",
    "* First, you define the set of parameters you want to tune, e.g. $\\{learning\\_rate, regularization\\_strength\\}$.\n",
    "\n",
    "* For each hyperparameter, you then define a set of possible values, e.g. $learning\\_rate = \\{0.0001, 0.001, 0.01, 0.1\\}$.\n",
    "\n",
    "* Then, you train a model for every possible combination of these hyperparameter values and afterwards select the combination that works best (e.g. in terms of accuracy on your validation set).\n",
    "\n",
    "<div class=\"alert alert-success\">\n",
    "    <h3>Task: Check Code</h3>\n",
    "    <p>Check out our <code>grid_search</code> implementation in <code>../exercise_6/exercise_code/hyperparameter_tuning.py</code>. We show a simple for loop implementation and a more sophisticated one for multiple inputs. </p>\n",
    "</div>\n",
    " \n",
    " <div class=\"alert alert-warning\">\n",
    "    <h3>Note:</h3>\n",
    "    <p>To keep things simple in the beginning, it'll be enough to just focus on the hyperparameters <code>learning_rate</code> and <code>regularization_strength</code> here, as in the example above.</p>\n",
    "</div>"
   ]
  },
  {
   "cell_type": "code",
   "execution_count": 25,
   "metadata": {
    "colab": {
     "background_save": true
    },
    "id": "BBW9Vl4rN5ep",
    "outputId": "39d57fd3-e250-4826-d0b6-89952b9ae73b"
   },
   "outputs": [
    {
     "name": "stdout",
     "output_type": "stream",
     "text": [
      "\n",
      "Evaluating Config #1 [of 3]:\n",
      " {'learning_rate': 0.01, 'reg': 0.0001}\n",
      "(Epoch 1 / 10) train loss: 2.574141; val loss: 2.488339\n",
      "(Epoch 2 / 10) train loss: 2.770692; val loss: 2.760071\n",
      "(Epoch 3 / 10) train loss: 2.910472; val loss: 2.804424\n",
      "(Epoch 4 / 10) train loss: 3.006567; val loss: 3.038938\n",
      "(Epoch 5 / 10) train loss: 3.121931; val loss: 3.275391\n",
      "(Epoch 6 / 10) train loss: 3.241727; val loss: 3.323651\n",
      "Stopping early at epoch 5!\n",
      "\n",
      "Evaluating Config #2 [of 3]:\n",
      " {'learning_rate': 0.001, 'reg': 0.0001}\n",
      "(Epoch 1 / 10) train loss: 2.193402; val loss: 2.017940\n",
      "(Epoch 2 / 10) train loss: 2.011968; val loss: 1.921714\n",
      "(Epoch 3 / 10) train loss: 1.897510; val loss: 1.913472\n",
      "(Epoch 4 / 10) train loss: 1.820086; val loss: 1.897467\n",
      "(Epoch 5 / 10) train loss: 1.767136; val loss: 1.893516\n",
      "(Epoch 6 / 10) train loss: 1.699579; val loss: 1.920858\n",
      "(Epoch 7 / 10) train loss: 1.646005; val loss: 1.995622\n",
      "(Epoch 8 / 10) train loss: 1.569362; val loss: 1.924285\n",
      "(Epoch 9 / 10) train loss: 1.504505; val loss: 1.936561\n",
      "(Epoch 10 / 10) train loss: 1.448174; val loss: 1.971747\n",
      "Stopping early at epoch 9!\n",
      "\n",
      "Evaluating Config #3 [of 3]:\n",
      " {'learning_rate': 0.0001, 'reg': 0.0001}\n",
      "(Epoch 1 / 10) train loss: 2.285183; val loss: 2.241345\n",
      "(Epoch 2 / 10) train loss: 2.209711; val loss: 2.147984\n",
      "(Epoch 3 / 10) train loss: 2.134288; val loss: 2.087714\n",
      "(Epoch 4 / 10) train loss: 2.075465; val loss: 2.038607\n",
      "(Epoch 5 / 10) train loss: 2.027173; val loss: 1.998577\n",
      "(Epoch 6 / 10) train loss: 1.984142; val loss: 1.969567\n",
      "(Epoch 7 / 10) train loss: 1.944527; val loss: 1.961704\n",
      "(Epoch 8 / 10) train loss: 1.908370; val loss: 1.932679\n",
      "(Epoch 9 / 10) train loss: 1.873640; val loss: 1.916142\n",
      "(Epoch 10 / 10) train loss: 1.840970; val loss: 1.898786\n",
      "\n",
      "Search done. Best Val Loss = 1.8935156442534598\n",
      "Best Config: {'learning_rate': 0.001, 'reg': 0.0001}\n"
     ]
    }
   ],
   "source": [
    "from exercise_code.networks import MyOwnNetwork\n",
    "\n",
    "# Specify the used network\n",
    "model_class = ClassificationNet\n",
    "\n",
    "from exercise_code import hyperparameter_tuning\n",
    "best_model, best_config, results  = hyperparameter_tuning.grid_search(\n",
    "    dataloaders['train_small'], dataloaders['val_500files'],\n",
    "    grid_search_spaces = {\n",
    "        \"learning_rate\": [1e-2, 1e-3, 1e-4], \n",
    "        \"reg\": [1e-4]\n",
    "    },\n",
    "    model_class=model_class,\n",
    "    epochs=10, patience=5)"
   ]
  },
  {
   "cell_type": "markdown",
   "metadata": {
    "id": "5v0g7q9xN5ep"
   },
   "source": [
    "From the results of your grid search, you might already have found some hyperparameter combinations that work better than others. A common practice is to now repeat the grid search on a more narrow domain centered around the parameters that worked best. \n",
    "\n",
    "**Conclusion Grid Search**\n",
    "\n",
    "With grid search we have automated the hyperparameter tuning to a certain degree. Another advantage is, that since the trainings of the models are independent of each other, you can parallelize the grid search, by e.g. trying out different hyperparameter configurations in parallel on different machines.\n",
    "\n",
    "However, as you have probably noticed, there is one big problem with this approach: the number of possible combinations grows exponentially with the number of hyperparameters (\"curse of dimensionality\"). As we add more hyperparameters to the grid search, the search space will explode in time complexity, making this strategy unfeasible."
   ]
  },
  {
   "cell_type": "markdown",
   "metadata": {
    "id": "m_NvhoFcN5ep"
   },
   "source": [
    "Especially when your search space contains more than 3 or 4 dimensions, it is often better to use another, similar hyperparameter tuning method that you've already learned about: random search."
   ]
  },
  {
   "cell_type": "markdown",
   "metadata": {
    "id": "rDyeiAN1N5ep"
   },
   "source": [
    "## 3.2 Random Search\n",
    "Random search is very similar to grid search, with the only difference, that instead of providing specific values for every hyperparameter, you only define a range for each hyperparameter - then, the values are sampled randomly from the provided ranges.\n",
    "\n",
    "![alt text](https://i.stack.imgur.com/cIDuR.png \"\")\n",
    "\n",
    "The figure above illustrates the difference in the hyperparameter space exploration between grid search and random search: assume you have 2 hyperparameters with each 3 values. Running a grid search results in training $3^2=9$ different models - but in the end, you've just tired out 3 values for each parameter. For random search on the other hand, after training 9 models you'll have tried out 9 different values for each hyperparameter, which often leads much faster to good results.\n",
    "\n",
    "To get a deeper understanding of random search and why it is more efficient than grid search, you should definitely check out this paper: http://www.jmlr.org/papers/volume13/bergstra12a/bergstra12a.pdf\n",
    "\n",
    "<div class=\"alert alert-success\">\n",
    "    <h3>Task: Check Code</h3>\n",
    "    <p>Check out our <code>random_search</code> implementation in <code>../exercise_6/exercise_code/hyperparameter_tuning.py</code></p>\n",
    "</div>\n",
    "\n",
    "\n",
    "*Hint: regarding the sample space of each parameter, think about the scale for which it makes most sense to sample in. For example the learning rate is usually sampled on a logarithmic scale!*\n",
    "\n",
    "*For simplicity and speed, just use the `train_small`-dataloader!*"
   ]
  },
  {
   "cell_type": "code",
   "execution_count": 26,
   "metadata": {
    "colab": {
     "background_save": true
    },
    "id": "d64soT68N5ep",
    "outputId": "eafe47b6-33db-401e-8d4e-96573caa8048"
   },
   "outputs": [
    {
     "name": "stdout",
     "output_type": "stream",
     "text": [
      "\n",
      "Evaluating Config #1 [of 1]:\n",
      " {'learning_rate': 0.0026936234009341874, 'reg': 9.589257028189721e-07, 'loss_func': <class 'exercise_code.networks.loss.CrossEntropyFromLogits'>}\n",
      "(Epoch 1 / 20) train loss: 2.152883; val loss: 1.923470\n",
      "(Epoch 2 / 20) train loss: 1.971967; val loss: 1.945154\n",
      "(Epoch 3 / 20) train loss: 1.914707; val loss: 1.991069\n",
      "(Epoch 4 / 20) train loss: 1.850576; val loss: 1.969138\n",
      "(Epoch 5 / 20) train loss: 1.804240; val loss: 1.900130\n",
      "(Epoch 6 / 20) train loss: 1.761268; val loss: 1.884030\n",
      "(Epoch 7 / 20) train loss: 1.721177; val loss: 1.956227\n",
      "(Epoch 8 / 20) train loss: 1.685696; val loss: 1.888891\n",
      "(Epoch 9 / 20) train loss: 1.647319; val loss: 1.867163\n",
      "(Epoch 10 / 20) train loss: 1.589931; val loss: 2.004047\n",
      "(Epoch 11 / 20) train loss: 1.596926; val loss: 1.956463\n",
      "(Epoch 12 / 20) train loss: 1.540990; val loss: 1.977051\n",
      "(Epoch 13 / 20) train loss: 1.517945; val loss: 2.019609\n",
      "(Epoch 14 / 20) train loss: 1.480703; val loss: 2.125310\n",
      "Stopping early at epoch 13!\n",
      "\n",
      "Search done. Best Val Loss = 1.8671632650210839\n",
      "Best Config: {'learning_rate': 0.0026936234009341874, 'reg': 9.589257028189721e-07, 'loss_func': <class 'exercise_code.networks.loss.CrossEntropyFromLogits'>}\n"
     ]
    }
   ],
   "source": [
    "from exercise_code.hyperparameter_tuning import random_search\n",
    "from exercise_code.networks import MyOwnNetwork\n",
    "\n",
    "# Specify the used network\n",
    "model_class = ClassificationNet\n",
    "\n",
    "best_model, best_config, results  = random_search(\n",
    "    dataloaders['train_small'], dataloaders['val_500files'],\n",
    "    random_search_spaces = {\n",
    "        \"learning_rate\": ([1e-2, 1e-6], 'log'),\n",
    "        \"reg\": ([1e-3, 1e-7], \"log\"),\n",
    "        \"loss_func\": ([CrossEntropyFromLogits], \"item\")\n",
    "    },\n",
    "    model_class=model_class,\n",
    "    num_search = 1, epochs=20, patience=5)"
   ]
  },
  {
   "cell_type": "markdown",
   "metadata": {
    "id": "LayF5YYbN5eq"
   },
   "source": [
    "It's time to run it with the whole dataset, and let it search for a few hours for a nice configuration. \n",
    "\n",
    "However, to save some time, let's first implement an **early-stopping** mechanism, that you also already know from the lecture."
   ]
  },
  {
   "cell_type": "markdown",
   "metadata": {
    "id": "DCaACnn3N5eq"
   },
   "source": [
    "## 3.3 Early Stopping"
   ]
  },
  {
   "cell_type": "markdown",
   "metadata": {
    "id": "IjsO1OPLN5eq"
   },
   "source": [
    "By now you've already seen a lot of training curves:\n",
    "\n",
    "<img src=http://fouryears.eu/wp-content/uploads/2017/12/early_stopping.png></img>\n",
    "\n",
    "Usually, at some point the validation loss goes up again, which is a sign that we're overfitting to our training data. Since it actually doesn't make sense to train further at this point, it's common practice to apply \"early stopping\", i.e., cancel the training process when the validation loss doesn't improve anymore. The nice thing about this concept is, that not only it improves generalization through the prevention of overfitting, but also it saves us a lot of time - one of our most valuable resources in deep learning.\n",
    "\n",
    "Since there are natural fluctuations in the validation loss, you usually don't cancel the training process right at the first epoch when the validation-loss increases, but instead, you wait for some epochs (specified by the `patience`-parameter) and if the loss still doesn't improve, we stop.\n",
    "\n",
    "<div class=\"alert alert-success\">\n",
    "    <h3>Task: Check Code</h3>\n",
    "    <p>Please check the implementation of the early stopping mechanism in <code>../exercise_6/exercise_code/solver.py</code>.\n",
    " </p>\n",
    "</div>"
   ]
  },
  {
   "cell_type": "markdown",
   "metadata": {
    "id": "P8wWTovfN5eq"
   },
   "source": [
    "## 3.4 Let's find the perfect model!"
   ]
  },
  {
   "cell_type": "markdown",
   "metadata": {
    "id": "ksUYQAhgN5eq"
   },
   "source": [
    "Now you've set everything up and you are ready to train your model. You can use a combination of grid and random search to find proper hyperparameters. \n",
    "\n",
    "Be aware that this process will take some time, since we'll be using a much larger dataset.\n",
    "\n",
    "At the beginning, it is a good approach to do a coarse random search across a wide range of values to find promising sub-ranges of your parameter space. Afterwards, you can zoom into these ranges and perform another random search (or grid search) to finetune the configurations.\n",
    "\n",
    "To save time and resources, don't use the whole dataset at the beginning, but instead a medium large subset of the samples. Also, you don't have to train for a large number of epochs - as mentioned above: we first want to get an overview about our hyper parameters.\n",
    "\n",
    "<div class=\"alert alert-info\">\n",
    "    <h3>Task: Hyperparameters Tunning & Model Training </h3>\n",
    "        <p> Now, it is your turn to do the hyperparamater tuning. In the cell below, you can use the <code>random_search</code> function to find a good choice of parameters. Put in some reasonable ranges for the hyperparameters and evaluate them.\n",
    "    <p> <b>Note:</b> At the beginning, it's a good approach to first do a coarse random search across a <b> wide range of values</b> to find promising sub-ranges of your parameter space and use <b> a medium large subset of the dataset </b>. Afterwards, you can zoom into these ranges and do another random search (or grid search) to finetune the configurations. Use the cell below to play around and find good hyperparameters for your model!</p>\n",
    "        <p> Finally, once you've found some promising hyperparameters (or narrowed them down to promising subranges), it's time to utilize these hyperparameters to train your network on the whole dataset for a large number of epochs so that your own model can reach an acceptable performance. \n",
    "        <p> <b>Hint 1:</b> You may use a <code>Solver</code> class we provided before or directly use the <code>random_search</code> function (as you can also monitor the loss here) for model training.\n",
    "        <p> <b>Hint 2:</b> Be patience, this will time.\n",
    "        <p> <b>Hint 3:</b> It is a better practice to find good set of hyperparameters on the small datasets, and only then run a full training session on the full dataset, either with specifc hyperparameters that you've found in the <code>random search</code>, or better ranges.\n",
    "</div>"
   ]
  },
  {
   "cell_type": "code",
   "execution_count": 27,
   "metadata": {
    "colab": {
     "background_save": true
    },
    "id": "g2C24gzzN5eq",
    "outputId": "f9a7ca76-0471-44bc-dbb7-ac7f5d14e581"
   },
   "outputs": [
    {
     "name": "stdout",
     "output_type": "stream",
     "text": [
      "\n",
      "Evaluating Config #1 [of 20]:\n",
      " {'learning_rate': 0.00012287323614107082, 'reg': 7.992919900266809e-07, 'loss_func': <class 'exercise_code.networks.loss.CrossEntropyFromLogits'>}\n",
      "(Epoch 1 / 20) train loss: 2.276623; val loss: 2.224023\n",
      "(Epoch 2 / 20) train loss: 2.191940; val loss: 2.144774\n",
      "(Epoch 3 / 20) train loss: 2.117936; val loss: 2.092084\n",
      "(Epoch 4 / 20) train loss: 2.059484; val loss: 2.032931\n",
      "(Epoch 5 / 20) train loss: 2.008295; val loss: 1.991275\n",
      "(Epoch 6 / 20) train loss: 1.959150; val loss: 1.965581\n",
      "(Epoch 7 / 20) train loss: 1.917791; val loss: 1.930026\n",
      "(Epoch 8 / 20) train loss: 1.874702; val loss: 1.907093\n",
      "(Epoch 9 / 20) train loss: 1.835037; val loss: 1.892498\n",
      "(Epoch 10 / 20) train loss: 1.796373; val loss: 1.875685\n",
      "(Epoch 11 / 20) train loss: 1.762629; val loss: 1.864233\n",
      "(Epoch 12 / 20) train loss: 1.724062; val loss: 1.882121\n",
      "(Epoch 13 / 20) train loss: 1.687989; val loss: 1.848709\n",
      "(Epoch 14 / 20) train loss: 1.655106; val loss: 1.852042\n",
      "(Epoch 15 / 20) train loss: 1.621259; val loss: 1.833362\n",
      "(Epoch 16 / 20) train loss: 1.587414; val loss: 1.834326\n",
      "(Epoch 17 / 20) train loss: 1.553451; val loss: 1.831973\n",
      "(Epoch 18 / 20) train loss: 1.521809; val loss: 1.837623\n",
      "(Epoch 19 / 20) train loss: 1.491254; val loss: 1.828668\n",
      "(Epoch 20 / 20) train loss: 1.458334; val loss: 1.832323\n",
      "\n",
      "Evaluating Config #2 [of 20]:\n",
      " {'learning_rate': 3.3561962825572833e-06, 'reg': 0.001319449804620296, 'loss_func': <class 'exercise_code.networks.loss.CrossEntropyFromLogits'>}\n",
      "(Epoch 1 / 20) train loss: 2.302620; val loss: 2.301946\n",
      "(Epoch 2 / 20) train loss: 2.301884; val loss: 2.301363\n",
      "(Epoch 3 / 20) train loss: 2.301101; val loss: 2.300648\n",
      "(Epoch 4 / 20) train loss: 2.300252; val loss: 2.299945\n",
      "(Epoch 5 / 20) train loss: 2.299315; val loss: 2.299103\n",
      "(Epoch 6 / 20) train loss: 2.298209; val loss: 2.298042\n",
      "(Epoch 7 / 20) train loss: 2.296974; val loss: 2.296894\n",
      "(Epoch 8 / 20) train loss: 2.295593; val loss: 2.295547\n",
      "(Epoch 9 / 20) train loss: 2.294058; val loss: 2.293941\n",
      "(Epoch 10 / 20) train loss: 2.292349; val loss: 2.292268\n",
      "(Epoch 11 / 20) train loss: 2.290548; val loss: 2.290417\n",
      "(Epoch 12 / 20) train loss: 2.288562; val loss: 2.288332\n",
      "(Epoch 13 / 20) train loss: 2.286464; val loss: 2.286073\n",
      "(Epoch 14 / 20) train loss: 2.284257; val loss: 2.283735\n",
      "(Epoch 15 / 20) train loss: 2.281949; val loss: 2.281249\n",
      "(Epoch 16 / 20) train loss: 2.279562; val loss: 2.278633\n",
      "(Epoch 17 / 20) train loss: 2.277080; val loss: 2.275973\n",
      "(Epoch 18 / 20) train loss: 2.274532; val loss: 2.273154\n",
      "(Epoch 19 / 20) train loss: 2.271950; val loss: 2.270276\n",
      "(Epoch 20 / 20) train loss: 2.269326; val loss: 2.267310\n",
      "\n",
      "Evaluating Config #3 [of 20]:\n",
      " {'learning_rate': 0.004387347340987512, 'reg': 2.159339802739265e-05, 'loss_func': <class 'exercise_code.networks.loss.CrossEntropyFromLogits'>}\n",
      "(Epoch 1 / 20) train loss: 2.191662; val loss: 2.078065\n",
      "(Epoch 2 / 20) train loss: 2.067988; val loss: 2.035674\n",
      "(Epoch 3 / 20) train loss: 2.052100; val loss: 2.032073\n",
      "(Epoch 4 / 20) train loss: 2.008935; val loss: 2.074659\n",
      "(Epoch 5 / 20) train loss: 2.006606; val loss: 2.039713\n",
      "(Epoch 6 / 20) train loss: 1.993951; val loss: 2.195658\n",
      "(Epoch 7 / 20) train loss: 1.970590; val loss: 2.112233\n",
      "(Epoch 8 / 20) train loss: 2.014505; val loss: 2.243737\n",
      "Stopping early at epoch 7!\n",
      "\n",
      "Evaluating Config #4 [of 20]:\n",
      " {'learning_rate': 0.0003689894510570959, 'reg': 0.0005079664829668176, 'loss_func': <class 'exercise_code.networks.loss.CrossEntropyFromLogits'>}\n",
      "(Epoch 1 / 20) train loss: 2.229262; val loss: 2.108754\n",
      "(Epoch 2 / 20) train loss: 2.085668; val loss: 2.033542\n",
      "(Epoch 3 / 20) train loss: 1.994486; val loss: 1.992633\n",
      "(Epoch 4 / 20) train loss: 1.931821; val loss: 1.937959\n",
      "(Epoch 5 / 20) train loss: 1.862914; val loss: 1.947404\n",
      "(Epoch 6 / 20) train loss: 1.802746; val loss: 1.910774\n",
      "(Epoch 7 / 20) train loss: 1.737344; val loss: 1.902869\n",
      "(Epoch 8 / 20) train loss: 1.680075; val loss: 1.915656\n",
      "(Epoch 9 / 20) train loss: 1.614305; val loss: 1.878914\n",
      "(Epoch 10 / 20) train loss: 1.568676; val loss: 1.909739\n",
      "(Epoch 11 / 20) train loss: 1.507713; val loss: 1.933156\n",
      "(Epoch 12 / 20) train loss: 1.456132; val loss: 1.889120\n",
      "(Epoch 13 / 20) train loss: 1.398524; val loss: 1.941282\n",
      "(Epoch 14 / 20) train loss: 1.345882; val loss: 1.954531\n",
      "Stopping early at epoch 13!\n",
      "\n",
      "Evaluating Config #5 [of 20]:\n",
      " {'learning_rate': 0.0008204983155157021, 'reg': 0.0011013029561603212, 'loss_func': <class 'exercise_code.networks.loss.CrossEntropyFromLogits'>}\n",
      "(Epoch 1 / 20) train loss: 2.237600; val loss: 2.121716\n",
      "(Epoch 2 / 20) train loss: 2.111562; val loss: 2.082926\n",
      "(Epoch 3 / 20) train loss: 2.026941; val loss: 1.978924\n",
      "(Epoch 4 / 20) train loss: 1.980732; val loss: 1.984507\n",
      "(Epoch 5 / 20) train loss: 1.934358; val loss: 1.987659\n",
      "(Epoch 6 / 20) train loss: 1.893793; val loss: 1.987043\n",
      "(Epoch 7 / 20) train loss: 1.864850; val loss: 2.007126\n",
      "(Epoch 8 / 20) train loss: 1.831680; val loss: 2.030416\n",
      "Stopping early at epoch 7!\n",
      "\n",
      "Evaluating Config #6 [of 20]:\n",
      " {'learning_rate': 1.7873353937529742e-06, 'reg': 0.0018762553452952046, 'loss_func': <class 'exercise_code.networks.loss.CrossEntropyFromLogits'>}\n",
      "(Epoch 1 / 20) train loss: 2.303207; val loss: 2.302884\n",
      "(Epoch 2 / 20) train loss: 2.302783; val loss: 2.302522\n",
      "(Epoch 3 / 20) train loss: 2.302346; val loss: 2.302193\n",
      "(Epoch 4 / 20) train loss: 2.301932; val loss: 2.301859\n",
      "(Epoch 5 / 20) train loss: 2.301490; val loss: 2.301488\n",
      "(Epoch 6 / 20) train loss: 2.301017; val loss: 2.301098\n",
      "(Epoch 7 / 20) train loss: 2.300523; val loss: 2.300686\n",
      "(Epoch 8 / 20) train loss: 2.300012; val loss: 2.300235\n",
      "(Epoch 9 / 20) train loss: 2.299469; val loss: 2.299770\n",
      "(Epoch 10 / 20) train loss: 2.298884; val loss: 2.299205\n",
      "(Epoch 11 / 20) train loss: 2.298262; val loss: 2.298663\n",
      "(Epoch 12 / 20) train loss: 2.297611; val loss: 2.298010\n",
      "(Epoch 13 / 20) train loss: 2.296907; val loss: 2.297395\n",
      "(Epoch 14 / 20) train loss: 2.296161; val loss: 2.296653\n",
      "(Epoch 15 / 20) train loss: 2.295378; val loss: 2.295880\n",
      "(Epoch 16 / 20) train loss: 2.294540; val loss: 2.295072\n",
      "(Epoch 17 / 20) train loss: 2.293674; val loss: 2.294216\n",
      "(Epoch 18 / 20) train loss: 2.292766; val loss: 2.293283\n",
      "(Epoch 19 / 20) train loss: 2.291800; val loss: 2.292293\n",
      "(Epoch 20 / 20) train loss: 2.290808; val loss: 2.291243\n",
      "\n",
      "Evaluating Config #7 [of 20]:\n",
      " {'learning_rate': 0.0049617475891943486, 'reg': 1.0358788970219976e-07, 'loss_func': <class 'exercise_code.networks.loss.CrossEntropyFromLogits'>}\n",
      "(Epoch 1 / 20) train loss: 2.217405; val loss: 2.002555\n",
      "(Epoch 2 / 20) train loss: 2.067711; val loss: 2.086638\n",
      "(Epoch 3 / 20) train loss: 1.997414; val loss: 2.066763\n",
      "(Epoch 4 / 20) train loss: 1.921976; val loss: 1.991746\n",
      "(Epoch 5 / 20) train loss: 1.898773; val loss: 2.030697\n",
      "(Epoch 6 / 20) train loss: 1.858981; val loss: 2.036336\n",
      "(Epoch 7 / 20) train loss: 1.831038; val loss: 2.030888\n",
      "(Epoch 8 / 20) train loss: 1.814239; val loss: 2.102450\n",
      "(Epoch 9 / 20) train loss: 1.798326; val loss: 2.075211\n",
      "Stopping early at epoch 8!\n",
      "\n",
      "Evaluating Config #8 [of 20]:\n",
      " {'learning_rate': 1.9603279141595636e-06, 'reg': 1.539189988385969e-07, 'loss_func': <class 'exercise_code.networks.loss.CrossEntropyFromLogits'>}\n",
      "(Epoch 1 / 20) train loss: 2.302100; val loss: 2.302234\n",
      "(Epoch 2 / 20) train loss: 2.301640; val loss: 2.301945\n",
      "(Epoch 3 / 20) train loss: 2.301204; val loss: 2.301586\n",
      "(Epoch 4 / 20) train loss: 2.300714; val loss: 2.301204\n",
      "(Epoch 5 / 20) train loss: 2.300242; val loss: 2.300779\n",
      "(Epoch 6 / 20) train loss: 2.299696; val loss: 2.300357\n",
      "(Epoch 7 / 20) train loss: 2.299140; val loss: 2.299891\n",
      "(Epoch 8 / 20) train loss: 2.298542; val loss: 2.299372\n",
      "(Epoch 9 / 20) train loss: 2.297895; val loss: 2.298757\n",
      "(Epoch 10 / 20) train loss: 2.297194; val loss: 2.298141\n",
      "(Epoch 11 / 20) train loss: 2.296435; val loss: 2.297426\n",
      "(Epoch 12 / 20) train loss: 2.295619; val loss: 2.296673\n",
      "(Epoch 13 / 20) train loss: 2.294748; val loss: 2.295868\n",
      "(Epoch 14 / 20) train loss: 2.293818; val loss: 2.294952\n",
      "(Epoch 15 / 20) train loss: 2.292840; val loss: 2.293994\n",
      "(Epoch 16 / 20) train loss: 2.291798; val loss: 2.292975\n",
      "(Epoch 17 / 20) train loss: 2.290714; val loss: 2.291902\n",
      "(Epoch 18 / 20) train loss: 2.289578; val loss: 2.290737\n",
      "(Epoch 19 / 20) train loss: 2.288375; val loss: 2.289522\n",
      "(Epoch 20 / 20) train loss: 2.287145; val loss: 2.288252\n",
      "\n",
      "Evaluating Config #9 [of 20]:\n",
      " {'learning_rate': 0.002746137389972464, 'reg': 0.0008607890714279474, 'loss_func': <class 'exercise_code.networks.loss.CrossEntropyFromLogits'>}\n",
      "(Epoch 1 / 20) train loss: 2.290165; val loss: 2.192541\n",
      "(Epoch 2 / 20) train loss: 2.285828; val loss: 2.309483\n",
      "(Epoch 3 / 20) train loss: 2.341361; val loss: 2.294929\n",
      "(Epoch 4 / 20) train loss: 2.330888; val loss: 2.368309\n",
      "(Epoch 5 / 20) train loss: 2.379990; val loss: 2.376158\n",
      "(Epoch 6 / 20) train loss: 2.368503; val loss: 2.437484\n",
      "Stopping early at epoch 5!\n",
      "\n",
      "Evaluating Config #10 [of 20]:\n",
      " {'learning_rate': 1.953423436021969e-05, 'reg': 0.005482147416419322, 'loss_func': <class 'exercise_code.networks.loss.CrossEntropyFromLogits'>}\n",
      "(Epoch 1 / 20) train loss: 2.302813; val loss: 2.299799\n",
      "(Epoch 2 / 20) train loss: 2.296568; val loss: 2.292208\n",
      "(Epoch 3 / 20) train loss: 2.287503; val loss: 2.281013\n",
      "(Epoch 4 / 20) train loss: 2.275681; val loss: 2.266639\n",
      "(Epoch 5 / 20) train loss: 2.262637; val loss: 2.251384\n",
      "(Epoch 6 / 20) train loss: 2.249022; val loss: 2.235419\n",
      "(Epoch 7 / 20) train loss: 2.235377; val loss: 2.220208\n",
      "(Epoch 8 / 20) train loss: 2.222333; val loss: 2.205345\n",
      "(Epoch 9 / 20) train loss: 2.209395; val loss: 2.192044\n",
      "(Epoch 10 / 20) train loss: 2.197275; val loss: 2.179720\n",
      "(Epoch 11 / 20) train loss: 2.185534; val loss: 2.168313\n",
      "(Epoch 12 / 20) train loss: 2.174137; val loss: 2.156381\n",
      "(Epoch 13 / 20) train loss: 2.163824; val loss: 2.145291\n",
      "(Epoch 14 / 20) train loss: 2.153528; val loss: 2.137440\n",
      "(Epoch 15 / 20) train loss: 2.143970; val loss: 2.127198\n",
      "(Epoch 16 / 20) train loss: 2.134965; val loss: 2.117829\n",
      "(Epoch 17 / 20) train loss: 2.126399; val loss: 2.111191\n",
      "(Epoch 18 / 20) train loss: 2.117967; val loss: 2.104425\n",
      "(Epoch 19 / 20) train loss: 2.110035; val loss: 2.096350\n",
      "(Epoch 20 / 20) train loss: 2.102193; val loss: 2.088840\n",
      "\n",
      "Evaluating Config #11 [of 20]:\n",
      " {'learning_rate': 3.6239798677717553e-06, 'reg': 0.006904022904723225, 'loss_func': <class 'exercise_code.networks.loss.CrossEntropyFromLogits'>}\n",
      "(Epoch 1 / 20) train loss: 2.304484; val loss: 2.303954\n",
      "(Epoch 2 / 20) train loss: 2.303498; val loss: 2.303078\n",
      "(Epoch 3 / 20) train loss: 2.302529; val loss: 2.302295\n",
      "(Epoch 4 / 20) train loss: 2.301588; val loss: 2.301370\n",
      "(Epoch 5 / 20) train loss: 2.300565; val loss: 2.300377\n",
      "(Epoch 6 / 20) train loss: 2.299493; val loss: 2.299272\n",
      "(Epoch 7 / 20) train loss: 2.298282; val loss: 2.298091\n",
      "(Epoch 8 / 20) train loss: 2.296989; val loss: 2.296825\n",
      "(Epoch 9 / 20) train loss: 2.295594; val loss: 2.295361\n",
      "(Epoch 10 / 20) train loss: 2.294047; val loss: 2.293753\n",
      "(Epoch 11 / 20) train loss: 2.292434; val loss: 2.291980\n",
      "(Epoch 12 / 20) train loss: 2.290713; val loss: 2.290117\n",
      "(Epoch 13 / 20) train loss: 2.288891; val loss: 2.288027\n",
      "(Epoch 14 / 20) train loss: 2.286955; val loss: 2.285957\n",
      "(Epoch 15 / 20) train loss: 2.284963; val loss: 2.283748\n",
      "(Epoch 16 / 20) train loss: 2.282919; val loss: 2.281469\n",
      "(Epoch 17 / 20) train loss: 2.280802; val loss: 2.278937\n",
      "(Epoch 18 / 20) train loss: 2.278618; val loss: 2.276451\n",
      "(Epoch 19 / 20) train loss: 2.276387; val loss: 2.273898\n",
      "(Epoch 20 / 20) train loss: 2.274121; val loss: 2.271284\n",
      "\n",
      "Evaluating Config #12 [of 20]:\n",
      " {'learning_rate': 5.2159281007186145e-06, 'reg': 5.798083556691791e-05, 'loss_func': <class 'exercise_code.networks.loss.CrossEntropyFromLogits'>}\n",
      "(Epoch 1 / 20) train loss: 2.302492; val loss: 2.301100\n",
      "(Epoch 2 / 20) train loss: 2.301297; val loss: 2.300191\n",
      "(Epoch 3 / 20) train loss: 2.299954; val loss: 2.298765\n",
      "(Epoch 4 / 20) train loss: 2.298275; val loss: 2.297178\n",
      "(Epoch 5 / 20) train loss: 2.296289; val loss: 2.295080\n",
      "(Epoch 6 / 20) train loss: 2.293866; val loss: 2.292477\n",
      "(Epoch 7 / 20) train loss: 2.291042; val loss: 2.289130\n",
      "(Epoch 8 / 20) train loss: 2.287797; val loss: 2.285541\n",
      "(Epoch 9 / 20) train loss: 2.284220; val loss: 2.281494\n",
      "(Epoch 10 / 20) train loss: 2.280359; val loss: 2.277088\n",
      "(Epoch 11 / 20) train loss: 2.276251; val loss: 2.272282\n",
      "(Epoch 12 / 20) train loss: 2.271956; val loss: 2.267288\n",
      "(Epoch 13 / 20) train loss: 2.267475; val loss: 2.262245\n",
      "(Epoch 14 / 20) train loss: 2.262954; val loss: 2.256978\n",
      "(Epoch 15 / 20) train loss: 2.258302; val loss: 2.251451\n",
      "(Epoch 16 / 20) train loss: 2.253554; val loss: 2.246077\n",
      "(Epoch 17 / 20) train loss: 2.248780; val loss: 2.240717\n",
      "(Epoch 18 / 20) train loss: 2.243986; val loss: 2.235127\n",
      "(Epoch 19 / 20) train loss: 2.239119; val loss: 2.229667\n",
      "(Epoch 20 / 20) train loss: 2.234312; val loss: 2.224175\n",
      "\n",
      "Evaluating Config #13 [of 20]:\n",
      " {'learning_rate': 0.0011353165220699363, 'reg': 0.0002587810131798821, 'loss_func': <class 'exercise_code.networks.loss.CrossEntropyFromLogits'>}\n",
      "(Epoch 1 / 20) train loss: 2.174200; val loss: 1.964385\n",
      "(Epoch 2 / 20) train loss: 2.010144; val loss: 1.938002\n",
      "(Epoch 3 / 20) train loss: 1.933777; val loss: 1.946075\n",
      "(Epoch 4 / 20) train loss: 1.872350; val loss: 1.966111\n",
      "(Epoch 5 / 20) train loss: 1.829584; val loss: 1.980460\n",
      "(Epoch 6 / 20) train loss: 1.777617; val loss: 2.011032\n",
      "(Epoch 7 / 20) train loss: 1.735224; val loss: 2.039735\n",
      "Stopping early at epoch 6!\n",
      "\n",
      "Evaluating Config #14 [of 20]:\n",
      " {'learning_rate': 2.6578491668877117e-06, 'reg': 0.00010278795654261983, 'loss_func': <class 'exercise_code.networks.loss.CrossEntropyFromLogits'>}\n",
      "(Epoch 1 / 20) train loss: 2.302400; val loss: 2.302706\n",
      "(Epoch 2 / 20) train loss: 2.301783; val loss: 2.302180\n",
      "(Epoch 3 / 20) train loss: 2.301131; val loss: 2.301606\n",
      "(Epoch 4 / 20) train loss: 2.300461; val loss: 2.301026\n",
      "(Epoch 5 / 20) train loss: 2.299731; val loss: 2.300311\n",
      "(Epoch 6 / 20) train loss: 2.298913; val loss: 2.299585\n",
      "(Epoch 7 / 20) train loss: 2.298019; val loss: 2.298747\n",
      "(Epoch 8 / 20) train loss: 2.297033; val loss: 2.297751\n",
      "(Epoch 9 / 20) train loss: 2.295947; val loss: 2.296700\n",
      "(Epoch 10 / 20) train loss: 2.294775; val loss: 2.295519\n",
      "(Epoch 11 / 20) train loss: 2.293503; val loss: 2.294210\n",
      "(Epoch 12 / 20) train loss: 2.292121; val loss: 2.292850\n",
      "(Epoch 13 / 20) train loss: 2.290643; val loss: 2.291338\n",
      "(Epoch 14 / 20) train loss: 2.289092; val loss: 2.289688\n",
      "(Epoch 15 / 20) train loss: 2.287457; val loss: 2.287990\n",
      "(Epoch 16 / 20) train loss: 2.285721; val loss: 2.286157\n",
      "(Epoch 17 / 20) train loss: 2.283948; val loss: 2.284163\n",
      "(Epoch 18 / 20) train loss: 2.282068; val loss: 2.282155\n",
      "(Epoch 19 / 20) train loss: 2.280143; val loss: 2.280114\n",
      "(Epoch 20 / 20) train loss: 2.278180; val loss: 2.277944\n",
      "\n",
      "Evaluating Config #15 [of 20]:\n",
      " {'learning_rate': 0.001573349409234327, 'reg': 8.189892770715366e-06, 'loss_func': <class 'exercise_code.networks.loss.CrossEntropyFromLogits'>}\n",
      "(Epoch 1 / 20) train loss: 2.169393; val loss: 2.002694\n",
      "(Epoch 2 / 20) train loss: 1.998288; val loss: 1.977323\n",
      "(Epoch 3 / 20) train loss: 1.894394; val loss: 1.907571\n",
      "(Epoch 4 / 20) train loss: 1.820079; val loss: 1.899355\n",
      "(Epoch 5 / 20) train loss: 1.751764; val loss: 1.892590\n",
      "(Epoch 6 / 20) train loss: 1.702717; val loss: 1.935395\n",
      "(Epoch 7 / 20) train loss: 1.639246; val loss: 1.879768\n",
      "(Epoch 8 / 20) train loss: 1.593654; val loss: 1.898876\n",
      "(Epoch 9 / 20) train loss: 1.575376; val loss: 1.910417\n",
      "(Epoch 10 / 20) train loss: 1.519964; val loss: 1.903258\n",
      "(Epoch 11 / 20) train loss: 1.473136; val loss: 1.999275\n",
      "(Epoch 12 / 20) train loss: 1.425888; val loss: 1.967201\n",
      "Stopping early at epoch 11!\n",
      "\n",
      "Evaluating Config #16 [of 20]:\n",
      " {'learning_rate': 0.0009421149490446244, 'reg': 2.119965173546643e-07, 'loss_func': <class 'exercise_code.networks.loss.CrossEntropyFromLogits'>}\n",
      "(Epoch 1 / 20) train loss: 2.190535; val loss: 2.049988\n",
      "(Epoch 2 / 20) train loss: 2.007705; val loss: 1.958562\n",
      "(Epoch 3 / 20) train loss: 1.903616; val loss: 1.871921\n",
      "(Epoch 4 / 20) train loss: 1.807323; val loss: 1.894845\n",
      "(Epoch 5 / 20) train loss: 1.727699; val loss: 1.849089\n",
      "(Epoch 6 / 20) train loss: 1.647122; val loss: 1.871978\n",
      "(Epoch 7 / 20) train loss: 1.579857; val loss: 1.868530\n",
      "(Epoch 8 / 20) train loss: 1.500301; val loss: 1.864784\n",
      "(Epoch 9 / 20) train loss: 1.427313; val loss: 1.919747\n",
      "(Epoch 10 / 20) train loss: 1.346705; val loss: 1.932167\n",
      "Stopping early at epoch 9!\n",
      "\n",
      "Evaluating Config #17 [of 20]:\n",
      " {'learning_rate': 7.392765391101657e-05, 'reg': 5.3656530628955674e-06, 'loss_func': <class 'exercise_code.networks.loss.CrossEntropyFromLogits'>}\n",
      "(Epoch 1 / 20) train loss: 2.291294; val loss: 2.262792\n",
      "(Epoch 2 / 20) train loss: 2.239804; val loss: 2.197710\n",
      "(Epoch 3 / 20) train loss: 2.183706; val loss: 2.151271\n",
      "(Epoch 4 / 20) train loss: 2.134792; val loss: 2.106160\n",
      "(Epoch 5 / 20) train loss: 2.092126; val loss: 2.071893\n",
      "(Epoch 6 / 20) train loss: 2.054865; val loss: 2.038498\n",
      "(Epoch 7 / 20) train loss: 2.020074; val loss: 2.017983\n",
      "(Epoch 8 / 20) train loss: 1.988949; val loss: 1.993911\n",
      "(Epoch 9 / 20) train loss: 1.957550; val loss: 1.971484\n",
      "(Epoch 10 / 20) train loss: 1.929663; val loss: 1.952122\n",
      "(Epoch 11 / 20) train loss: 1.901591; val loss: 1.936850\n",
      "(Epoch 12 / 20) train loss: 1.876393; val loss: 1.920657\n",
      "(Epoch 13 / 20) train loss: 1.849272; val loss: 1.916793\n",
      "(Epoch 14 / 20) train loss: 1.824966; val loss: 1.906846\n",
      "(Epoch 15 / 20) train loss: 1.798931; val loss: 1.891854\n",
      "(Epoch 16 / 20) train loss: 1.776532; val loss: 1.886703\n",
      "(Epoch 17 / 20) train loss: 1.753320; val loss: 1.868982\n",
      "(Epoch 18 / 20) train loss: 1.728945; val loss: 1.869779\n",
      "(Epoch 19 / 20) train loss: 1.705344; val loss: 1.867910\n",
      "(Epoch 20 / 20) train loss: 1.681744; val loss: 1.868650\n",
      "\n",
      "Evaluating Config #18 [of 20]:\n",
      " {'learning_rate': 1.490694334889655e-05, 'reg': 0.007395258908478361, 'loss_func': <class 'exercise_code.networks.loss.CrossEntropyFromLogits'>}\n",
      "(Epoch 1 / 20) train loss: 2.303994; val loss: 2.301647\n",
      "(Epoch 2 / 20) train loss: 2.299959; val loss: 2.297416\n",
      "(Epoch 3 / 20) train loss: 2.294634; val loss: 2.291034\n",
      "(Epoch 4 / 20) train loss: 2.287644; val loss: 2.282931\n",
      "(Epoch 5 / 20) train loss: 2.279133; val loss: 2.273020\n",
      "(Epoch 6 / 20) train loss: 2.269960; val loss: 2.261971\n",
      "(Epoch 7 / 20) train loss: 2.260107; val loss: 2.250579\n",
      "(Epoch 8 / 20) train loss: 2.250269; val loss: 2.238838\n",
      "(Epoch 9 / 20) train loss: 2.240355; val loss: 2.227622\n",
      "(Epoch 10 / 20) train loss: 2.230693; val loss: 2.216781\n",
      "(Epoch 11 / 20) train loss: 2.221122; val loss: 2.205771\n",
      "(Epoch 12 / 20) train loss: 2.211934; val loss: 2.195750\n",
      "(Epoch 13 / 20) train loss: 2.202884; val loss: 2.186756\n",
      "(Epoch 14 / 20) train loss: 2.194291; val loss: 2.177314\n",
      "(Epoch 15 / 20) train loss: 2.185838; val loss: 2.168827\n",
      "(Epoch 16 / 20) train loss: 2.177923; val loss: 2.160818\n",
      "(Epoch 17 / 20) train loss: 2.170266; val loss: 2.152524\n",
      "(Epoch 18 / 20) train loss: 2.162873; val loss: 2.144854\n",
      "(Epoch 19 / 20) train loss: 2.155840; val loss: 2.137882\n",
      "(Epoch 20 / 20) train loss: 2.148834; val loss: 2.131529\n",
      "\n",
      "Evaluating Config #19 [of 20]:\n",
      " {'learning_rate': 0.0007462033715018173, 'reg': 0.0002158059268416314, 'loss_func': <class 'exercise_code.networks.loss.CrossEntropyFromLogits'>}\n",
      "(Epoch 1 / 20) train loss: 2.201389; val loss: 2.039997\n",
      "(Epoch 2 / 20) train loss: 2.028144; val loss: 1.958910\n",
      "(Epoch 3 / 20) train loss: 1.930088; val loss: 1.929750\n",
      "(Epoch 4 / 20) train loss: 1.849129; val loss: 1.940301\n",
      "(Epoch 5 / 20) train loss: 1.775029; val loss: 1.882512\n",
      "(Epoch 6 / 20) train loss: 1.706455; val loss: 1.871311\n",
      "(Epoch 7 / 20) train loss: 1.653985; val loss: 1.919545\n",
      "(Epoch 8 / 20) train loss: 1.592828; val loss: 1.917655\n",
      "(Epoch 9 / 20) train loss: 1.518536; val loss: 1.978606\n",
      "(Epoch 10 / 20) train loss: 1.439975; val loss: 1.927017\n",
      "(Epoch 11 / 20) train loss: 1.390669; val loss: 2.029731\n",
      "Stopping early at epoch 10!\n",
      "\n",
      "Evaluating Config #20 [of 20]:\n",
      " {'learning_rate': 0.00021586893592122618, 'reg': 6.64119626774806e-06, 'loss_func': <class 'exercise_code.networks.loss.CrossEntropyFromLogits'>}\n",
      "(Epoch 1 / 20) train loss: 2.255094; val loss: 2.148245\n",
      "(Epoch 2 / 20) train loss: 2.117295; val loss: 2.038808\n",
      "(Epoch 3 / 20) train loss: 2.021486; val loss: 1.976925\n",
      "(Epoch 4 / 20) train loss: 1.952382; val loss: 1.930086\n",
      "(Epoch 5 / 20) train loss: 1.887008; val loss: 1.890424\n",
      "(Epoch 6 / 20) train loss: 1.822137; val loss: 1.874794\n",
      "(Epoch 7 / 20) train loss: 1.767776; val loss: 1.854862\n",
      "(Epoch 8 / 20) train loss: 1.707126; val loss: 1.854991\n",
      "(Epoch 9 / 20) train loss: 1.655531; val loss: 1.851457\n",
      "(Epoch 10 / 20) train loss: 1.600305; val loss: 1.838000\n",
      "(Epoch 11 / 20) train loss: 1.549666; val loss: 1.839889\n",
      "(Epoch 12 / 20) train loss: 1.501910; val loss: 1.839695\n",
      "(Epoch 13 / 20) train loss: 1.448791; val loss: 1.862281\n",
      "(Epoch 14 / 20) train loss: 1.405088; val loss: 1.863064\n",
      "(Epoch 15 / 20) train loss: 1.352574; val loss: 1.888012\n",
      "Stopping early at epoch 14!\n",
      "\n",
      "Search done. Best Val Loss = 1.828668337549685\n",
      "Best Config: {'learning_rate': 0.00012287323614107082, 'reg': 7.992919900266809e-07, 'loss_func': <class 'exercise_code.networks.loss.CrossEntropyFromLogits'>}\n"
     ]
    }
   ],
   "source": [
    "from exercise_code.networks import MyOwnNetwork, ClassificationNet\n",
    "\n",
    "\n",
    "model_type = ClassificationNet\n",
    "\n",
    "########################################################################\n",
    "# TODO:                                                                #\n",
    "# Implement your own neural network and find suitable hyperparameters  #\n",
    "# Be sure to edit the MyOwnNetwork class in the following code snippet #\n",
    "# to upload the correct model! Or just use the given                   #\n",
    "# \"ClassificationNet\".                                                 #\n",
    "#                                                                      #\n",
    "# Note: the pickling cell expects your model to be named \"best_model\". #\n",
    "# Unless you change it there, naming the best model in any other way   #\n",
    "# will result in an unknown behavior.                                  #\n",
    "########################################################################\n",
    "\n",
    "\n",
    "best_model, best_config, results  = random_search(\n",
    "    dataloaders['train_small'], dataloaders['val_500files'],\n",
    "    random_search_spaces = {\n",
    "        \"learning_rate\": ([1e-2, 1e-6], 'log'),\n",
    "        \"reg\": ([1e-2, 1e-7], \"log\"),\n",
    "        \"loss_func\": ([CrossEntropyFromLogits], \"item\")\n",
    "    },\n",
    "    model_class=model_type,\n",
    "    num_search = 20, epochs=20, patience=5)\n",
    "\n",
    "########################################################################\n",
    "#                           END OF YOUR CODE                           #\n",
    "########################################################################"
   ]
  },
  {
   "cell_type": "code",
   "execution_count": 28,
   "metadata": {},
   "outputs": [
    {
     "name": "stdout",
     "output_type": "stream",
     "text": [
      "\n",
      "Evaluating Config #1 [of 10]:\n",
      " {'learning_rate': 1.1012929107230892e-05, 'reg': 4.02976463884423e-05, 'num_layers': 8, 'hidden_size': 128, 'shortcut': True, 'norm_layer': False}\n",
      "(Epoch 1 / 20) train loss: 2.295250; val loss: 2.274156\n",
      "(Epoch 2 / 20) train loss: 2.243018; val loss: 2.183393\n",
      "(Epoch 3 / 20) train loss: 2.168925; val loss: 2.109884\n",
      "(Epoch 4 / 20) train loss: 2.113967; val loss: 2.058278\n",
      "(Epoch 5 / 20) train loss: 2.071903; val loss: 2.023367\n",
      "(Epoch 6 / 20) train loss: 2.035818; val loss: 1.994323\n",
      "(Epoch 7 / 20) train loss: 2.003338; val loss: 1.970680\n",
      "(Epoch 8 / 20) train loss: 1.973045; val loss: 1.948884\n",
      "(Epoch 9 / 20) train loss: 1.944690; val loss: 1.927996\n",
      "(Epoch 10 / 20) train loss: 1.918064; val loss: 1.914083\n",
      "(Epoch 11 / 20) train loss: 1.893320; val loss: 1.899751\n",
      "(Epoch 12 / 20) train loss: 1.870581; val loss: 1.887898\n",
      "(Epoch 13 / 20) train loss: 1.849682; val loss: 1.878727\n",
      "(Epoch 14 / 20) train loss: 1.831190; val loss: 1.874228\n",
      "(Epoch 15 / 20) train loss: 1.812336; val loss: 1.861884\n",
      "(Epoch 16 / 20) train loss: 1.796624; val loss: 1.863701\n",
      "(Epoch 17 / 20) train loss: 1.781564; val loss: 1.855597\n",
      "(Epoch 18 / 20) train loss: 1.766614; val loss: 1.850119\n",
      "(Epoch 19 / 20) train loss: 1.752161; val loss: 1.840189\n",
      "(Epoch 20 / 20) train loss: 1.739010; val loss: 1.841640\n",
      "\n",
      "Evaluating Config #2 [of 10]:\n",
      " {'learning_rate': 8.566960855755703e-05, 'reg': 1.3873133404538661e-05, 'num_layers': 16, 'hidden_size': 64, 'shortcut': True, 'norm_layer': False}\n",
      "(Epoch 1 / 20) train loss: 2.208234; val loss: 2.016442\n",
      "(Epoch 2 / 20) train loss: 2.003093; val loss: 1.920873\n",
      "(Epoch 3 / 20) train loss: 1.882827; val loss: 1.847936\n",
      "(Epoch 4 / 20) train loss: 1.802967; val loss: 1.842406\n",
      "(Epoch 5 / 20) train loss: 1.738275; val loss: 1.813667\n",
      "(Epoch 6 / 20) train loss: 1.679189; val loss: 1.796454\n",
      "(Epoch 7 / 20) train loss: 1.622626; val loss: 1.786782\n",
      "(Epoch 8 / 20) train loss: 1.568892; val loss: 1.803271\n",
      "(Epoch 9 / 20) train loss: 1.509407; val loss: 1.783050\n",
      "(Epoch 10 / 20) train loss: 1.446203; val loss: 1.782973\n",
      "(Epoch 11 / 20) train loss: 1.399292; val loss: 1.863108\n",
      "(Epoch 12 / 20) train loss: 1.335253; val loss: 1.885665\n",
      "(Epoch 13 / 20) train loss: 1.276971; val loss: 1.870758\n",
      "(Epoch 14 / 20) train loss: 1.220118; val loss: 1.907619\n",
      "(Epoch 15 / 20) train loss: 1.161197; val loss: 2.050132\n",
      "Stopping early at epoch 14!\n",
      "\n",
      "Evaluating Config #3 [of 10]:\n",
      " {'learning_rate': 0.00047079171046367685, 'reg': 5.759236289466618e-05, 'num_layers': 8, 'hidden_size': 128, 'shortcut': True, 'norm_layer': False}\n",
      "(Epoch 1 / 20) train loss: 2.075004; val loss: 1.936826\n",
      "(Epoch 2 / 20) train loss: 1.789261; val loss: 1.913793\n",
      "(Epoch 3 / 20) train loss: 1.574358; val loss: 2.025584\n",
      "(Epoch 4 / 20) train loss: 1.342466; val loss: 1.825799\n",
      "(Epoch 5 / 20) train loss: 1.103501; val loss: 2.180960\n",
      "(Epoch 6 / 20) train loss: 0.909683; val loss: 2.078699\n",
      "(Epoch 7 / 20) train loss: 0.675546; val loss: 2.503420\n",
      "(Epoch 8 / 20) train loss: 0.513681; val loss: 2.685083\n",
      "(Epoch 9 / 20) train loss: 0.374341; val loss: 2.882081\n",
      "Stopping early at epoch 8!\n",
      "\n",
      "Evaluating Config #4 [of 10]:\n",
      " {'learning_rate': 9.186124271068088e-05, 'reg': 4.224644220020364e-05, 'num_layers': 8, 'hidden_size': 64, 'shortcut': True, 'norm_layer': False}\n",
      "(Epoch 1 / 20) train loss: 2.203218; val loss: 1.998088\n",
      "(Epoch 2 / 20) train loss: 2.004074; val loss: 1.894828\n",
      "(Epoch 3 / 20) train loss: 1.882576; val loss: 1.836230\n",
      "(Epoch 4 / 20) train loss: 1.802599; val loss: 1.808178\n",
      "(Epoch 5 / 20) train loss: 1.733761; val loss: 1.821938\n",
      "(Epoch 6 / 20) train loss: 1.673619; val loss: 1.776525\n",
      "(Epoch 7 / 20) train loss: 1.605913; val loss: 1.779529\n",
      "(Epoch 8 / 20) train loss: 1.541951; val loss: 1.810760\n",
      "(Epoch 9 / 20) train loss: 1.481157; val loss: 1.775803\n",
      "(Epoch 10 / 20) train loss: 1.419060; val loss: 1.796521\n",
      "(Epoch 11 / 20) train loss: 1.353183; val loss: 1.867530\n",
      "(Epoch 12 / 20) train loss: 1.296551; val loss: 1.887977\n",
      "(Epoch 13 / 20) train loss: 1.224065; val loss: 1.910070\n",
      "(Epoch 14 / 20) train loss: 1.163700; val loss: 1.959258\n",
      "Stopping early at epoch 13!\n",
      "\n",
      "Evaluating Config #5 [of 10]:\n",
      " {'learning_rate': 2.205587986348358e-05, 'reg': 2.496177197635602e-05, 'num_layers': 16, 'hidden_size': 64, 'shortcut': True, 'norm_layer': False}\n",
      "(Epoch 1 / 20) train loss: 2.288807; val loss: 2.246551\n",
      "(Epoch 2 / 20) train loss: 2.198355; val loss: 2.122059\n",
      "(Epoch 3 / 20) train loss: 2.121085; val loss: 2.062660\n",
      "(Epoch 4 / 20) train loss: 2.067477; val loss: 2.011675\n",
      "(Epoch 5 / 20) train loss: 2.018649; val loss: 1.967729\n",
      "(Epoch 6 / 20) train loss: 1.973633; val loss: 1.925041\n",
      "(Epoch 7 / 20) train loss: 1.934323; val loss: 1.898762\n",
      "(Epoch 8 / 20) train loss: 1.901158; val loss: 1.878067\n",
      "(Epoch 9 / 20) train loss: 1.871588; val loss: 1.865091\n",
      "(Epoch 10 / 20) train loss: 1.846180; val loss: 1.854398\n",
      "(Epoch 11 / 20) train loss: 1.823408; val loss: 1.841141\n",
      "(Epoch 12 / 20) train loss: 1.802213; val loss: 1.840592\n",
      "(Epoch 13 / 20) train loss: 1.783387; val loss: 1.822346\n",
      "(Epoch 14 / 20) train loss: 1.764979; val loss: 1.823544\n",
      "(Epoch 15 / 20) train loss: 1.747371; val loss: 1.805571\n",
      "(Epoch 16 / 20) train loss: 1.730111; val loss: 1.802855\n",
      "(Epoch 17 / 20) train loss: 1.713251; val loss: 1.803621\n",
      "(Epoch 18 / 20) train loss: 1.698316; val loss: 1.799650\n",
      "(Epoch 19 / 20) train loss: 1.681624; val loss: 1.787207\n",
      "(Epoch 20 / 20) train loss: 1.665263; val loss: 1.784321\n",
      "\n",
      "Evaluating Config #6 [of 10]:\n",
      " {'learning_rate': 4.9940615906950617e-05, 'reg': 2.0650409491902545e-05, 'num_layers': 8, 'hidden_size': 128, 'shortcut': True, 'norm_layer': False}\n",
      "(Epoch 1 / 20) train loss: 2.227572; val loss: 2.084341\n",
      "(Epoch 2 / 20) train loss: 2.034712; val loss: 1.939689\n",
      "(Epoch 3 / 20) train loss: 1.901460; val loss: 1.853889\n",
      "(Epoch 4 / 20) train loss: 1.814354; val loss: 1.864986\n",
      "(Epoch 5 / 20) train loss: 1.747079; val loss: 1.807689\n",
      "(Epoch 6 / 20) train loss: 1.690673; val loss: 1.809243\n",
      "(Epoch 7 / 20) train loss: 1.630389; val loss: 1.801239\n",
      "(Epoch 8 / 20) train loss: 1.573471; val loss: 1.795287\n",
      "(Epoch 9 / 20) train loss: 1.515077; val loss: 1.848816\n",
      "(Epoch 10 / 20) train loss: 1.460720; val loss: 1.852370\n",
      "(Epoch 11 / 20) train loss: 1.403895; val loss: 1.809125\n",
      "(Epoch 12 / 20) train loss: 1.344122; val loss: 1.878765\n",
      "(Epoch 13 / 20) train loss: 1.287893; val loss: 1.887050\n",
      "Stopping early at epoch 12!\n",
      "\n",
      "Evaluating Config #7 [of 10]:\n",
      " {'learning_rate': 1.3618126880686609e-05, 'reg': 0.00012938609478423718, 'num_layers': 16, 'hidden_size': 64, 'shortcut': True, 'norm_layer': False}\n",
      "(Epoch 1 / 20) train loss: 2.296165; val loss: 2.276494\n",
      "(Epoch 2 / 20) train loss: 2.248889; val loss: 2.192939\n",
      "(Epoch 3 / 20) train loss: 2.183405; val loss: 2.129681\n",
      "(Epoch 4 / 20) train loss: 2.135345; val loss: 2.084032\n",
      "(Epoch 5 / 20) train loss: 2.099262; val loss: 2.052806\n",
      "(Epoch 6 / 20) train loss: 2.068921; val loss: 2.027158\n",
      "(Epoch 7 / 20) train loss: 2.042050; val loss: 2.002448\n",
      "(Epoch 8 / 20) train loss: 2.016346; val loss: 1.980191\n",
      "(Epoch 9 / 20) train loss: 1.992976; val loss: 1.961550\n",
      "(Epoch 10 / 20) train loss: 1.969828; val loss: 1.944649\n",
      "(Epoch 11 / 20) train loss: 1.948852; val loss: 1.929522\n",
      "(Epoch 12 / 20) train loss: 1.928180; val loss: 1.916393\n",
      "(Epoch 13 / 20) train loss: 1.909722; val loss: 1.906626\n",
      "(Epoch 14 / 20) train loss: 1.891710; val loss: 1.896183\n",
      "(Epoch 15 / 20) train loss: 1.875010; val loss: 1.889194\n",
      "(Epoch 16 / 20) train loss: 1.859271; val loss: 1.878924\n",
      "(Epoch 17 / 20) train loss: 1.844002; val loss: 1.870726\n",
      "(Epoch 18 / 20) train loss: 1.829582; val loss: 1.865453\n",
      "(Epoch 19 / 20) train loss: 1.816007; val loss: 1.861832\n",
      "(Epoch 20 / 20) train loss: 1.802993; val loss: 1.854844\n",
      "\n",
      "Evaluating Config #8 [of 10]:\n",
      " {'learning_rate': 1.2395934421344031e-05, 'reg': 0.0009471737634607714, 'num_layers': 16, 'hidden_size': 128, 'shortcut': True, 'norm_layer': False}\n",
      "(Epoch 1 / 20) train loss: 2.294232; val loss: 2.266630\n",
      "(Epoch 2 / 20) train loss: 2.231796; val loss: 2.161406\n",
      "(Epoch 3 / 20) train loss: 2.151237; val loss: 2.087234\n",
      "(Epoch 4 / 20) train loss: 2.092747; val loss: 2.036298\n",
      "(Epoch 5 / 20) train loss: 2.046674; val loss: 1.993865\n",
      "(Epoch 6 / 20) train loss: 2.005870; val loss: 1.969518\n",
      "(Epoch 7 / 20) train loss: 1.970504; val loss: 1.938239\n",
      "(Epoch 8 / 20) train loss: 1.939007; val loss: 1.921326\n",
      "(Epoch 9 / 20) train loss: 1.910534; val loss: 1.907543\n",
      "(Epoch 10 / 20) train loss: 1.884903; val loss: 1.899677\n",
      "(Epoch 11 / 20) train loss: 1.862606; val loss: 1.888745\n",
      "(Epoch 12 / 20) train loss: 1.841450; val loss: 1.877132\n",
      "(Epoch 13 / 20) train loss: 1.824108; val loss: 1.871327\n",
      "(Epoch 14 / 20) train loss: 1.806331; val loss: 1.862489\n",
      "(Epoch 15 / 20) train loss: 1.789617; val loss: 1.857529\n",
      "(Epoch 16 / 20) train loss: 1.774411; val loss: 1.843805\n",
      "(Epoch 17 / 20) train loss: 1.758907; val loss: 1.849207\n",
      "(Epoch 18 / 20) train loss: 1.744809; val loss: 1.837324\n",
      "(Epoch 19 / 20) train loss: 1.730281; val loss: 1.842509\n",
      "(Epoch 20 / 20) train loss: 1.717360; val loss: 1.829886\n",
      "\n",
      "Evaluating Config #9 [of 10]:\n",
      " {'learning_rate': 0.00039741095936551266, 'reg': 4.986312731590278e-05, 'num_layers': 16, 'hidden_size': 128, 'shortcut': True, 'norm_layer': False}\n",
      "(Epoch 1 / 20) train loss: 2.100076; val loss: 1.806714\n",
      "(Epoch 2 / 20) train loss: 1.820109; val loss: 1.779878\n",
      "(Epoch 3 / 20) train loss: 1.605487; val loss: 1.876032\n",
      "(Epoch 4 / 20) train loss: 1.412517; val loss: 1.878649\n",
      "(Epoch 5 / 20) train loss: 1.197670; val loss: 2.044987\n",
      "(Epoch 6 / 20) train loss: 0.995143; val loss: 2.221797\n",
      "(Epoch 7 / 20) train loss: 0.801025; val loss: 2.301971\n",
      "Stopping early at epoch 6!\n",
      "\n",
      "Evaluating Config #10 [of 10]:\n",
      " {'learning_rate': 1.2178102181896764e-05, 'reg': 1.9624563974660667e-05, 'num_layers': 16, 'hidden_size': 128, 'shortcut': True, 'norm_layer': False}\n",
      "(Epoch 1 / 20) train loss: 2.293774; val loss: 2.266796\n",
      "(Epoch 2 / 20) train loss: 2.226661; val loss: 2.151086\n",
      "(Epoch 3 / 20) train loss: 2.144058; val loss: 2.070072\n",
      "(Epoch 4 / 20) train loss: 2.088568; val loss: 2.028438\n",
      "(Epoch 5 / 20) train loss: 2.045032; val loss: 1.993410\n",
      "(Epoch 6 / 20) train loss: 2.008485; val loss: 1.967810\n",
      "(Epoch 7 / 20) train loss: 1.974615; val loss: 1.945114\n",
      "(Epoch 8 / 20) train loss: 1.943570; val loss: 1.924622\n",
      "(Epoch 9 / 20) train loss: 1.914573; val loss: 1.907117\n",
      "(Epoch 10 / 20) train loss: 1.888448; val loss: 1.890727\n",
      "(Epoch 11 / 20) train loss: 1.864314; val loss: 1.878084\n",
      "(Epoch 12 / 20) train loss: 1.842968; val loss: 1.867320\n",
      "(Epoch 13 / 20) train loss: 1.823564; val loss: 1.861728\n",
      "(Epoch 14 / 20) train loss: 1.805841; val loss: 1.852307\n",
      "(Epoch 15 / 20) train loss: 1.788258; val loss: 1.844959\n",
      "(Epoch 16 / 20) train loss: 1.771751; val loss: 1.833840\n",
      "(Epoch 17 / 20) train loss: 1.756518; val loss: 1.831519\n",
      "(Epoch 18 / 20) train loss: 1.741715; val loss: 1.830634\n",
      "(Epoch 19 / 20) train loss: 1.727535; val loss: 1.829975\n",
      "(Epoch 20 / 20) train loss: 1.713095; val loss: 1.823032\n",
      "\n",
      "Search done. Best Val Loss = 1.7758033305906877\n",
      "Best Config: {'learning_rate': 9.186124271068088e-05, 'reg': 4.224644220020364e-05, 'num_layers': 8, 'hidden_size': 64, 'shortcut': True, 'norm_layer': False}\n"
     ]
    }
   ],
   "source": [
    "from exercise_code.networks import MyOwnNetwork, ClassificationNet\n",
    "\n",
    "\n",
    "\n",
    "model_type = MyOwnNetwork\n",
    "\n",
    "########################################################################\n",
    "# TODO:                                                                #\n",
    "# Implement your own neural network and find suitable hyperparameters  #\n",
    "# Be sure to edit the MyOwnNetwork class in the following code snippet #\n",
    "# to upload the correct model! Or just use the given                   #\n",
    "# \"ClassificationNet\".                                                 #\n",
    "#                                                                      #\n",
    "# Note: the pickling cell expects your model to be named \"best_model\". #\n",
    "# Unless you change it there, naming the best model in any other way   #\n",
    "# will result in an unknown behavior.                                  #\n",
    "########################################################################\n",
    "\n",
    "\n",
    "best_model, best_config, results  = random_search(\n",
    "    dataloaders['train_small'], dataloaders['val_500files'],\n",
    "    random_search_spaces = {\n",
    "        'learning_rate': ([1e-3,1e-5], 'log'),\n",
    "        'reg': ([1e-3,1e-5], \"log\"),\n",
    "        \"num_layers\": ([8,16], \"item\"),\n",
    "        \"hidden_size\": ([2**6,2**7], \"item\"),\n",
    "        \"shortcut\": ([True], 'item'),\n",
    "        \"norm_layer\": ([False], 'item')\n",
    "    },\n",
    "    model_class=model_type,\n",
    "    num_search = 10, epochs=20, patience=5)\n",
    "\n",
    "########################################################################\n",
    "#                           END OF YOUR CODE                           #\n",
    "########################################################################"
   ]
  },
  {
   "cell_type": "code",
   "execution_count": 29,
   "metadata": {},
   "outputs": [
    {
     "name": "stdout",
     "output_type": "stream",
     "text": [
      "\n",
      "Evaluating Config #1 [of 10]:\n",
      " {'learning_rate': 0.0001526184632225991, 'reg': 4.358766554778982e-08, 'num_layers': 16, 'hidden_size': 128, 'shortcut': True, 'norm_layer': False}\n",
      "(Epoch 1 / 30) train loss: 2.113512; val loss: 1.910687\n",
      "(Epoch 2 / 30) train loss: 1.861461; val loss: 1.832104\n",
      "(Epoch 3 / 30) train loss: 1.705509; val loss: 1.820904\n",
      "(Epoch 4 / 30) train loss: 1.600094; val loss: 1.781985\n",
      "(Epoch 5 / 30) train loss: 1.458445; val loss: 1.872451\n",
      "(Epoch 6 / 30) train loss: 1.320646; val loss: 1.898375\n",
      "(Epoch 7 / 30) train loss: 1.181912; val loss: 1.975434\n",
      "(Epoch 8 / 30) train loss: 1.032861; val loss: 2.122203\n",
      "(Epoch 9 / 30) train loss: 0.871459; val loss: 2.118536\n",
      "Stopping early at epoch 8!\n",
      "\n",
      "Evaluating Config #2 [of 10]:\n",
      " {'learning_rate': 0.00029678444121259513, 'reg': 3.1094301444010363e-08, 'num_layers': 16, 'hidden_size': 256, 'shortcut': True, 'norm_layer': False}\n",
      "(Epoch 1 / 30) train loss: 2.059663; val loss: 1.868486\n",
      "(Epoch 2 / 30) train loss: 1.776389; val loss: 1.797483\n",
      "(Epoch 3 / 30) train loss: 1.521403; val loss: 2.032822\n",
      "(Epoch 4 / 30) train loss: 1.336713; val loss: 2.071267\n",
      "(Epoch 5 / 30) train loss: 1.071370; val loss: 2.028574\n",
      "(Epoch 6 / 30) train loss: 0.811150; val loss: 2.324480\n",
      "(Epoch 7 / 30) train loss: 0.613591; val loss: 2.672763\n",
      "Stopping early at epoch 6!\n",
      "\n",
      "Evaluating Config #3 [of 10]:\n",
      " {'learning_rate': 0.00040635426870653434, 'reg': 4.4108080275535185e-08, 'num_layers': 16, 'hidden_size': 128, 'shortcut': True, 'norm_layer': False}\n",
      "(Epoch 1 / 30) train loss: 2.071910; val loss: 1.938074\n",
      "(Epoch 2 / 30) train loss: 1.815748; val loss: 1.792098\n",
      "(Epoch 3 / 30) train loss: 1.600377; val loss: 1.933788\n",
      "(Epoch 4 / 30) train loss: 1.381853; val loss: 2.005934\n",
      "(Epoch 5 / 30) train loss: 1.140593; val loss: 1.899440\n",
      "(Epoch 6 / 30) train loss: 0.941128; val loss: 2.266959\n",
      "(Epoch 7 / 30) train loss: 0.714950; val loss: 2.403058\n",
      "Stopping early at epoch 6!\n",
      "\n",
      "Evaluating Config #4 [of 10]:\n",
      " {'learning_rate': 0.00015211966234793983, 'reg': 3.255745491216947e-08, 'num_layers': 16, 'hidden_size': 128, 'shortcut': True, 'norm_layer': False}\n",
      "(Epoch 1 / 30) train loss: 2.135453; val loss: 1.922176\n",
      "(Epoch 2 / 30) train loss: 1.869823; val loss: 1.822714\n",
      "(Epoch 3 / 30) train loss: 1.724834; val loss: 1.756691\n",
      "(Epoch 4 / 30) train loss: 1.604809; val loss: 1.844301\n",
      "(Epoch 5 / 30) train loss: 1.485187; val loss: 1.863604\n",
      "(Epoch 6 / 30) train loss: 1.337841; val loss: 1.819474\n",
      "(Epoch 7 / 30) train loss: 1.214680; val loss: 1.958469\n",
      "(Epoch 8 / 30) train loss: 1.064778; val loss: 2.122051\n",
      "Stopping early at epoch 7!\n",
      "\n",
      "Evaluating Config #5 [of 10]:\n",
      " {'learning_rate': 0.00041870211574349423, 'reg': 4.1507258307546114e-08, 'num_layers': 16, 'hidden_size': 256, 'shortcut': True, 'norm_layer': False}\n",
      "(Epoch 1 / 30) train loss: 2.061423; val loss: 1.951527\n",
      "(Epoch 2 / 30) train loss: 1.800434; val loss: 1.996025\n",
      "(Epoch 3 / 30) train loss: 1.505613; val loss: 2.044703\n",
      "(Epoch 4 / 30) train loss: 1.321281; val loss: 1.997730\n",
      "(Epoch 5 / 30) train loss: 0.972242; val loss: 2.014315\n",
      "(Epoch 6 / 30) train loss: 0.763219; val loss: 2.453881\n",
      "Stopping early at epoch 5!\n",
      "\n",
      "Evaluating Config #6 [of 10]:\n",
      " {'learning_rate': 0.0002763295792971066, 'reg': 3.855333533230942e-08, 'num_layers': 16, 'hidden_size': 256, 'shortcut': True, 'norm_layer': False}\n",
      "(Epoch 1 / 30) train loss: 2.087070; val loss: 1.912864\n",
      "(Epoch 2 / 30) train loss: 1.786013; val loss: 1.807723\n",
      "(Epoch 3 / 30) train loss: 1.540408; val loss: 1.948848\n",
      "(Epoch 4 / 30) train loss: 1.327513; val loss: 1.990715\n",
      "(Epoch 5 / 30) train loss: 1.067563; val loss: 2.128600\n",
      "(Epoch 6 / 30) train loss: 0.833774; val loss: 2.271986\n",
      "(Epoch 7 / 30) train loss: 0.614074; val loss: 2.363661\n",
      "Stopping early at epoch 6!\n",
      "\n",
      "Evaluating Config #7 [of 10]:\n",
      " {'learning_rate': 0.00039179440025965577, 'reg': 5.100449794105991e-08, 'num_layers': 16, 'hidden_size': 64, 'shortcut': True, 'norm_layer': False}\n",
      "(Epoch 1 / 30) train loss: 2.069918; val loss: 1.853586\n",
      "(Epoch 2 / 30) train loss: 1.806979; val loss: 1.802072\n",
      "(Epoch 3 / 30) train loss: 1.635153; val loss: 1.822994\n",
      "(Epoch 4 / 30) train loss: 1.490231; val loss: 1.847614\n",
      "(Epoch 5 / 30) train loss: 1.312928; val loss: 1.853104\n",
      "(Epoch 6 / 30) train loss: 1.163258; val loss: 2.014506\n",
      "(Epoch 7 / 30) train loss: 0.983665; val loss: 2.061102\n",
      "Stopping early at epoch 6!\n",
      "\n",
      "Evaluating Config #8 [of 10]:\n",
      " {'learning_rate': 0.0004067631206437032, 'reg': 2.065228238182078e-08, 'num_layers': 16, 'hidden_size': 256, 'shortcut': True, 'norm_layer': False}\n",
      "(Epoch 1 / 30) train loss: 2.076019; val loss: 1.861618\n",
      "(Epoch 2 / 30) train loss: 1.758455; val loss: 2.022885\n",
      "(Epoch 3 / 30) train loss: 1.529396; val loss: 2.058371\n",
      "(Epoch 4 / 30) train loss: 1.298328; val loss: 2.167398\n",
      "(Epoch 5 / 30) train loss: 0.987716; val loss: 2.214664\n",
      "(Epoch 6 / 30) train loss: 0.751001; val loss: 2.318668\n",
      "Stopping early at epoch 5!\n",
      "\n",
      "Evaluating Config #9 [of 10]:\n",
      " {'learning_rate': 0.00038660030409912285, 'reg': 5.849261588571888e-08, 'num_layers': 16, 'hidden_size': 128, 'shortcut': True, 'norm_layer': False}\n",
      "(Epoch 1 / 30) train loss: 2.071218; val loss: 1.890982\n",
      "(Epoch 2 / 30) train loss: 1.771927; val loss: 1.752333\n",
      "(Epoch 3 / 30) train loss: 1.548868; val loss: 1.968953\n",
      "(Epoch 4 / 30) train loss: 1.336074; val loss: 1.781430\n",
      "(Epoch 5 / 30) train loss: 1.138240; val loss: 2.013781\n",
      "(Epoch 6 / 30) train loss: 0.877219; val loss: 1.987531\n",
      "(Epoch 7 / 30) train loss: 0.671363; val loss: 2.400667\n",
      "Stopping early at epoch 6!\n",
      "\n",
      "Evaluating Config #10 [of 10]:\n",
      " {'learning_rate': 0.00044061458401882205, 'reg': 5.735010762431333e-08, 'num_layers': 16, 'hidden_size': 128, 'shortcut': True, 'norm_layer': False}\n",
      "(Epoch 1 / 30) train loss: 2.091137; val loss: 1.818789\n",
      "(Epoch 2 / 30) train loss: 1.783713; val loss: 1.861393\n",
      "(Epoch 3 / 30) train loss: 1.578076; val loss: 1.870881\n",
      "(Epoch 4 / 30) train loss: 1.334987; val loss: 2.085666\n",
      "(Epoch 5 / 30) train loss: 1.092952; val loss: 1.938099\n",
      "(Epoch 6 / 30) train loss: 0.888252; val loss: 1.989642\n",
      "Stopping early at epoch 5!\n",
      "\n",
      "Search done. Best Val Loss = 1.7523334533553632\n",
      "Best Config: {'learning_rate': 0.00038660030409912285, 'reg': 5.849261588571888e-08, 'num_layers': 16, 'hidden_size': 128, 'shortcut': True, 'norm_layer': False}\n"
     ]
    }
   ],
   "source": [
    "from exercise_code.networks import MyOwnNetwork, ClassificationNet\n",
    "\n",
    "model_type = MyOwnNetwork\n",
    "\n",
    "########################################################################\n",
    "# TODO:                                                                #\n",
    "# Implement your own neural network and find suitable hyperparameters  #\n",
    "# Be sure to edit the MyOwnNetwork class in the following code snippet #\n",
    "# to upload the correct model! Or just use the given                   #\n",
    "# \"ClassificationNet\".                                                 #\n",
    "#                                                                      #\n",
    "# Note: the pickling cell expects your model to be named \"best_model\". #\n",
    "# Unless you change it there, naming the best model in any other way   #\n",
    "# will result in an unknown behavior.                                  #\n",
    "########################################################################\n",
    "\n",
    "\n",
    "best_model, best_config, results  = random_search(\n",
    "    dataloaders['train_small'], dataloaders['val_500files'],\n",
    "    random_search_spaces = {\n",
    "        'learning_rate': ([1e-4,5e-4], 'float'),\n",
    "        'reg': ([2e-8,6e-8], \"float\"),\n",
    "        \"num_layers\": ([16], \"item\"),\n",
    "        \"hidden_size\": ([2**6,2**7,2**8], \"item\"),\n",
    "        \"shortcut\": ([True], \"item\"),\n",
    "        \"norm_layer\": ([False], \"item\")\n",
    "    },\n",
    "    model_class=model_type,\n",
    "    num_search = 10, epochs=30, patience=5)\n",
    "\n",
    "########################################################################\n",
    "#                           END OF YOUR CODE                           #\n",
    "########################################################################"
   ]
  },
  {
   "cell_type": "code",
   "execution_count": 30,
   "metadata": {},
   "outputs": [
    {
     "name": "stdout",
     "output_type": "stream",
     "text": [
      "(Epoch 1 / 100) train loss: 1.887901; val loss: 1.704970\n",
      "(Epoch 2 / 100) train loss: 1.617228; val loss: 1.586185\n",
      "(Epoch 3 / 100) train loss: 1.496981; val loss: 1.525311\n",
      "(Epoch 4 / 100) train loss: 1.413378; val loss: 1.504708\n",
      "(Epoch 5 / 100) train loss: 1.345033; val loss: 1.478744\n",
      "(Epoch 6 / 100) train loss: 1.286259; val loss: 1.442340\n",
      "(Epoch 7 / 100) train loss: 1.216968; val loss: 1.437528\n",
      "(Epoch 8 / 100) train loss: 1.174869; val loss: 1.442814\n",
      "(Epoch 9 / 100) train loss: 1.118936; val loss: 1.446893\n",
      "(Epoch 10 / 100) train loss: 1.076494; val loss: 1.464715\n",
      "(Epoch 11 / 100) train loss: 1.034085; val loss: 1.469900\n",
      "(Epoch 12 / 100) train loss: 0.990189; val loss: 1.469958\n",
      "Stopping early at epoch 11!\n"
     ]
    }
   ],
   "source": [
    "config={'learning_rate': 0.00038915699764248066, 'reg': 4.183321529134192e-08, 'num_layers': 16, 'hidden_size': 128, 'norm_layer': False}\n",
    "best_model=MyOwnNetwork(**best_config)\n",
    "best_model.reset_weights()\n",
    "solver=Solver(best_model,train_dataloader=dataloaders[\"train\"],val_dataloader=dataloaders[\"val\"],**config)\n",
    "solver.train(patience=5,epochs=100)"
   ]
  },
  {
   "cell_type": "markdown",
   "metadata": {
    "id": "gmZbWaaIN5er"
   },
   "source": [
    "Now it's time to edit the ranges above and adjust them to explore regions that performed well!\n",
    "\n",
    "Also, feel free to experiment around. Other hyperparameters you can change are the network architecture, optimizer, activations functions and many more.\n",
    "\n",
    "Try to get an accuracy as high as possible, since that's all what counts for this submission!\n",
    "\n",
    "You'll pass if you reach at least **48%** accuracy on our test set - but there will also be a leaderboard of all students of this course. Can you make it to the top?"
   ]
  },
  {
   "cell_type": "markdown",
   "metadata": {
    "id": "mJZ7UXHeN5er"
   },
   "source": [
    "## 3.5 Checking the validation accuracy"
   ]
  },
  {
   "cell_type": "code",
   "execution_count": 31,
   "metadata": {
    "colab": {
     "background_save": true
    },
    "id": "qPyHczNJN5er",
    "outputId": "7cbc0fbb-2d6e-49a1-d518-83e2260ea339"
   },
   "outputs": [
    {
     "name": "stdout",
     "output_type": "stream",
     "text": [
      "Train Accuracy: \u001b[92m68.87353098290599\u001b[0m%\n",
      "Validation Accuracy: \u001b[92m51.18189102564102\u001b[0m%\n"
     ]
    }
   ],
   "source": [
    "from exercise_code.tests.base_tests import bcolors\n",
    "\n",
    "labels, pred, acc = best_model.get_dataset_prediction(dataloaders['train'])\n",
    "res = bcolors.colorize(\"green\", acc * 100) if acc * 100 > 48 else bcolors.colorize(\"red\", acc * 100)\n",
    "print(\"Train Accuracy: {}%\".format(res))\n",
    "labels, pred, acc = best_model.get_dataset_prediction(dataloaders['val'])\n",
    "res = bcolors.colorize(\"green\", acc * 100) if acc * 100 > 48 else bcolors.colorize(\"red\", acc * 100)\n",
    "print(\"Validation Accuracy: {}%\".format(res))"
   ]
  },
  {
   "cell_type": "markdown",
   "metadata": {
    "id": "MQ_AGtp8N5er"
   },
   "source": [
    "# 4. Test your model\n",
    "When you have finished the hyperparameter tuning and you found your final model which performs well on the validation set (**you should at least get 48% accuracy on the validation set!**), it's time to run your model on the test set.\n",
    "\n",
    "<div class=\"alert alert-danger\">\n",
    "    <h3>Important</h3>\n",
    "    <p>As you have learned in the lecture, you must only use the test set once! So only run the next cell if you are completely sure that your model works well enough and that you are ready to submit. Your test set is different from the test set on our server, so results may vary a bit. Nevertheless, you will get a reasonable approximation of your model's performance if you perform the final evaluation on the test set only once.</p>\n",
    "    <p>If you are an external student that can't use our submission webpage: this test performance is your final result and if you surpassed the threshold, you have completed this exercise :). Now, train again to aim for a better number!</p>\n",
    "</div>"
   ]
  },
  {
   "cell_type": "code",
   "execution_count": 32,
   "metadata": {
    "colab": {
     "background_save": true
    },
    "id": "xJ2lwiVUN5er",
    "outputId": "82f45e2a-7357-4444-d8c7-2296b7f6cb68"
   },
   "outputs": [
    {
     "name": "stdout",
     "output_type": "stream",
     "text": [
      "Test Accuracy: \u001b[92m50.93149038461539\u001b[0m%\n"
     ]
    }
   ],
   "source": [
    "# comment this part out to see your model's performance on the test set.\n",
    "labels, pred, acc = best_model.get_dataset_prediction(dataloaders['test'])\n",
    "res = bcolors.colorize(\"green\", acc * 100) if acc * 100 > 48 else bcolors.colorize(\"red\", acc * 100)\n",
    "print(\"Test Accuracy: {}%\".format(res))\n"
   ]
  },
  {
   "cell_type": "markdown",
   "metadata": {
    "id": "K3MBnG7qN5er"
   },
   "source": [
    "<div class=\"alert alert-warning\">\n",
    "    <h3>Note:</h3>\n",
    "    <p>The \"real\" test set is actually the dataset we're using for testing your model, which is <b>different</b> from the test-set you're using here.</p>\n",
    "</div>"
   ]
  },
  {
   "cell_type": "markdown",
   "metadata": {
    "id": "2lOy_GulN5es"
   },
   "source": [
    "# 5. Saving your Model"
   ]
  },
  {
   "cell_type": "code",
   "execution_count": 33,
   "metadata": {},
   "outputs": [],
   "source": [
    "from exercise_code.networks import MyOwnNetwork, ClassificationNet\n",
    "from exercise_code.networks.layer import (\n",
    "    Sigmoid, \n",
    "    Relu, \n",
    "    LeakyRelu, \n",
    "    Tanh,\n",
    "    Gelu\n",
    ")"
   ]
  },
  {
   "cell_type": "code",
   "execution_count": 34,
   "metadata": {
    "colab": {
     "background_save": true
    },
    "id": "icgNMAlEN5es"
   },
   "outputs": [],
   "source": [
    "from exercise_code.tests import save_pickle\n",
    "best_model.eval()\n",
    "save_pickle({\"cifar_fcn\": best_model}, \"cifar_fcn.p\")\n"
   ]
  },
  {
   "cell_type": "code",
   "execution_count": 35,
   "metadata": {
    "colab": {
     "background_save": true
    },
    "id": "Gd4TchGlN5es",
    "outputId": "b913c1bd-b861-47bb-c257-b30fa214e761"
   },
   "outputs": [
    {
     "name": "stdout",
     "output_type": "stream",
     "text": [
      "relevant folders: ['exercise_code', 'models']\n",
      "notebooks files: ['1_cifar10_classification.ipynb']\n",
      "Adding folder exercise_code\n",
      "Adding folder models\n",
      "Adding notebook 1_cifar10_classification.ipynb\n",
      "Zipping successful! Zip is stored under: /Users/Hoang_1/Desktop/i2dl/output/exercise_06.zip\n"
     ]
    }
   ],
   "source": [
    "from exercise_code.submit import submit_exercise\n",
    "\n",
    "submit_exercise('../output/exercise_06')"
   ]
  },
  {
   "cell_type": "markdown",
   "metadata": {
    "id": "q5C_bKa5N5es"
   },
   "source": [
    "# 6. Submission Instructions\n",
    "\n",
    "Congratulations! You've just built your first image classifier! To complete the exercise, submit your final model to our submission portal - you probably know the procedure by now.\n",
    "\n",
    "1. Go on [our submission page](https://i2dl.vc.in.tum.de/submission/), register for an account and login. We use your matriculation number and send you an email with the login details to the associated mail account. When in doubt, login into tum-online and check your mails there. You will get an id which we'll need in the next step.\n",
    "2. Log into [our submission page](https://i2dl.vc.in.tum.de/submission/), with your account details and upload the zip file.\n",
    "3. Your submission will be evaluated by our system and you will get feedback about the performance of it. You will get an email with your score, as well as a message if you have surpassed the threshold or not.\n",
    "4. Within the working period, you can submit as many solutions as you want to get the best possible score.\n",
    "\n",
    "\n",
    "# 7. Submission Goals\n",
    "\n",
    "- Goal: Successfully implement a fully connected NN image classifier and tune the hyperparameters.\n",
    "\n",
    "- Passing Criteria: This time, there are no unit tests checking specific components of your code. To  pass the submission your model needs to reach at least **48% accuracy** on __our__ test dataset. The submission system will show you a number between 0 and 100 which corresponds to your accuracy.\n",
    "\n",
    "- Submission start: __May 23rd, 2024 10:00__\n",
    "- Submission deadline : __May 29th, 2023 15:59__ \n",
    "- You can make **$\\infty$** submissions until the deadline. Your __best submission__ will be considered for the bonus."
   ]
  }
 ],
 "metadata": {
  "colab": {
   "collapsed_sections": [
    "WKNRU4BWN5eg",
    "3MhxqP2LN5ej",
    "dbFSP4z9N5ek",
    "0TE2PxMBN5ek",
    "QUFotyERN5ek",
    "l0pZa4weN5eo",
    "rDyeiAN1N5ep",
    "DCaACnn3N5eq",
    "P8wWTovfN5eq",
    "mJZ7UXHeN5er"
   ],
   "name": "1.cifar10_classification.ipynb",
   "provenance": []
  },
  "kernelspec": {
   "display_name": "Python 3 (ipykernel)",
   "language": "python",
   "name": "python3"
  },
  "language_info": {
   "codemirror_mode": {
    "name": "ipython",
    "version": 3
   },
   "file_extension": ".py",
   "mimetype": "text/x-python",
   "name": "python",
   "nbconvert_exporter": "python",
   "pygments_lexer": "ipython3",
   "version": "3.10.14"
  },
  "vscode": {
   "interpreter": {
    "hash": "54970da6898dad277dbf355945c2dee7f942d2a31ec1fc1455b6d4f552d07b83"
   }
  }
 },
 "nbformat": 4,
 "nbformat_minor": 1
}
