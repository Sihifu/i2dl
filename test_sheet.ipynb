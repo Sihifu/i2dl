{
 "cells": [
  {
   "cell_type": "code",
   "execution_count": 3,
   "metadata": {},
   "outputs": [],
   "source": [
    "import numpy as np"
   ]
  },
  {
   "cell_type": "code",
   "execution_count": 8,
   "metadata": {},
   "outputs": [
    {
     "name": "stdout",
     "output_type": "stream",
     "text": [
      "CPU Time: 0.011079 seconds\n",
      "GPU Time (using MPS): 0.000132 seconds\n",
      "Speedup using GPU (MPS): 83.88x\n",
      "tensor(0.0188)\n"
     ]
    }
   ],
   "source": [
    "import torch\n",
    "import time\n",
    "\n",
    "# Set the matrix size\n",
    "matrix_size = 1000\n",
    "\n",
    "# Generate two random matrices\n",
    "A = torch.randn(matrix_size, matrix_size)\n",
    "B = torch.randn(matrix_size, matrix_size)\n",
    "\n",
    "# Function to perform matrix multiplication on CPU\n",
    "def cpu_matrix_multiplication(A, B):\n",
    "    # Ensure tensors are on the CPU\n",
    "    A = A.to('cpu')\n",
    "    B = B.to('cpu')\n",
    "    \n",
    "    start_time = time.time()\n",
    "    result = torch.mm(A, B)\n",
    "    end_time = time.time()\n",
    "    \n",
    "    return end_time - start_time, result\n",
    "\n",
    "# Function to perform matrix multiplication on GPU\n",
    "def gpu_matrix_multiplication(A, B):\n",
    "    # Ensure tensors are on the GPU\n",
    "    A = A.to('mps')  # Use 'mps' for Metal Performance Shaders on M1/M2\n",
    "    B = B.to('mps')\n",
    "    \n",
    "    # Warm-up to ensure accurate timing\n",
    "    torch.mm(A, B)\n",
    "    \n",
    "    # Perform matrix multiplication\n",
    "    start_time = time.time()\n",
    "    result = torch.mm(A, B)\n",
    "    end_time = time.time()\n",
    "    \n",
    "    return end_time - start_time, result\n",
    "\n",
    "# Perform the matrix multiplication on CPU\n",
    "cpu_time, res_cpu = cpu_matrix_multiplication(A, B)\n",
    "print(f\"CPU Time: {cpu_time:.6f} seconds\")\n",
    "\n",
    "# Perform the matrix multiplication on GPU\n",
    "gpu_time, res_gpu = gpu_matrix_multiplication(A, B)\n",
    "print(f\"GPU Time (using MPS): {gpu_time:.6f} seconds\")\n",
    "\n",
    "# Compare the results\n",
    "speedup = cpu_time / gpu_time\n",
    "print(f\"Speedup using GPU (MPS): {speedup:.2f}x\")\n",
    "\n"
   ]
  },
  {
   "cell_type": "markdown",
   "metadata": {},
   "source": [
    "# forward"
   ]
  },
  {
   "cell_type": "code",
   "execution_count": 35,
   "metadata": {},
   "outputs": [],
   "source": [
    "X1=np.array([[1,2,3],[4,5,6]])\n",
    "W1=np.array([[6,7],[3,3],[2,2]])\n",
    "Y1=X1@W1\n",
    "f=lambda x: x+1\n",
    "df=lambda x: np.ones(x.shape)\n",
    "y_out=f(Y1)\n",
    "L=np.sum(y_out,axis=1)"
   ]
  },
  {
   "cell_type": "code",
   "execution_count": 36,
   "metadata": {},
   "outputs": [
    {
     "data": {
      "text/plain": [
       "array([[1, 2, 3],\n",
       "       [4, 5, 6]])"
      ]
     },
     "execution_count": 36,
     "metadata": {},
     "output_type": "execute_result"
    }
   ],
   "source": [
    "X1"
   ]
  },
  {
   "cell_type": "code",
   "execution_count": 37,
   "metadata": {},
   "outputs": [
    {
     "data": {
      "text/plain": [
       "array([[6, 7],\n",
       "       [3, 3],\n",
       "       [2, 2]])"
      ]
     },
     "execution_count": 37,
     "metadata": {},
     "output_type": "execute_result"
    }
   ],
   "source": [
    "W1"
   ]
  },
  {
   "cell_type": "code",
   "execution_count": 38,
   "metadata": {},
   "outputs": [
    {
     "data": {
      "text/plain": [
       "array([[18, 19],\n",
       "       [51, 55]])"
      ]
     },
     "execution_count": 38,
     "metadata": {},
     "output_type": "execute_result"
    }
   ],
   "source": [
    "Y1"
   ]
  },
  {
   "cell_type": "code",
   "execution_count": 39,
   "metadata": {},
   "outputs": [
    {
     "data": {
      "text/plain": [
       "array([[19, 20],\n",
       "       [52, 56]])"
      ]
     },
     "execution_count": 39,
     "metadata": {},
     "output_type": "execute_result"
    }
   ],
   "source": [
    "y_out"
   ]
  },
  {
   "cell_type": "code",
   "execution_count": 40,
   "metadata": {},
   "outputs": [
    {
     "data": {
      "text/plain": [
       "array([ 39, 108])"
      ]
     },
     "execution_count": 40,
     "metadata": {},
     "output_type": "execute_result"
    }
   ],
   "source": [
    "L"
   ]
  },
  {
   "cell_type": "markdown",
   "metadata": {},
   "source": [
    "# backward"
   ]
  },
  {
   "cell_type": "code",
   "execution_count": 41,
   "metadata": {},
   "outputs": [],
   "source": [
    "dL_dyout=np.ones((2,2))\n",
    "dyout_Y1=df(Y1)\n",
    "Y1_W1=X1.T\n"
   ]
  },
  {
   "cell_type": "code",
   "execution_count": 42,
   "metadata": {},
   "outputs": [
    {
     "data": {
      "text/plain": [
       "array([[1., 1.],\n",
       "       [1., 1.]])"
      ]
     },
     "execution_count": 42,
     "metadata": {},
     "output_type": "execute_result"
    }
   ],
   "source": [
    "dL_dyout"
   ]
  },
  {
   "cell_type": "code",
   "execution_count": 43,
   "metadata": {},
   "outputs": [
    {
     "data": {
      "text/plain": [
       "array([[1., 1.],\n",
       "       [1., 1.]])"
      ]
     },
     "execution_count": 43,
     "metadata": {},
     "output_type": "execute_result"
    }
   ],
   "source": [
    "dyout_Y1"
   ]
  },
  {
   "cell_type": "code",
   "execution_count": 47,
   "metadata": {},
   "outputs": [
    {
     "data": {
      "text/plain": [
       "array([[1, 4],\n",
       "       [2, 5],\n",
       "       [3, 6]])"
      ]
     },
     "execution_count": 47,
     "metadata": {},
     "output_type": "execute_result"
    }
   ],
   "source": [
    "X.T"
   ]
  },
  {
   "cell_type": "code",
   "execution_count": 45,
   "metadata": {},
   "outputs": [
    {
     "data": {
      "text/plain": [
       "array([[1, 2, 3],\n",
       "       [4, 5, 6]])"
      ]
     },
     "execution_count": 45,
     "metadata": {},
     "output_type": "execute_result"
    }
   ],
   "source": [
    "W*X"
   ]
  },
  {
   "cell_type": "code",
   "execution_count": null,
   "metadata": {},
   "outputs": [],
   "source": [
    "(x*w1+1)+(x*w2+1)"
   ]
  },
  {
   "cell_type": "code",
   "execution_count": null,
   "metadata": {},
   "outputs": [],
   "source": [
    "X*W^T"
   ]
  },
  {
   "cell_type": "code",
   "execution_count": null,
   "metadata": {},
   "outputs": [],
   "source": [
    "N_batch=3\n",
    "N_yout=5\n",
    "\n",
    "dL_dyout=(3,5)\n",
    "\n",
    "x_in=(3,8)\n",
    "W=(8,5)\n",
    "\n",
    "c=dL_dyout*f_prime=(3,5)\n",
    "\n",
    "x_in.T*c=(8,3)*(3,5)\n",
    "\n"
   ]
  }
 ],
 "metadata": {
  "kernelspec": {
   "display_name": "venv",
   "language": "python",
   "name": "python3"
  },
  "language_info": {
   "codemirror_mode": {
    "name": "ipython",
    "version": 3
   },
   "file_extension": ".py",
   "mimetype": "text/x-python",
   "name": "python",
   "nbconvert_exporter": "python",
   "pygments_lexer": "ipython3",
   "version": "3.10.14"
  }
 },
 "nbformat": 4,
 "nbformat_minor": 2
}
